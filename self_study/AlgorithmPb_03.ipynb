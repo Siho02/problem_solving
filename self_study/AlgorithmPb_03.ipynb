{
 "cells": [
  {
   "cell_type": "markdown",
   "metadata": {},
   "source": [
    "### 친구 네트워크 풀이 : https://www.acmicpc.net/problem/4195"
   ]
  },
  {
   "cell_type": "code",
   "execution_count": 10,
   "metadata": {},
   "outputs": [],
   "source": [
    "## 추후 다시 고민"
   ]
  },
  {
   "cell_type": "markdown",
   "metadata": {},
   "source": [
    "### 수 정렬하기 : https://www.acmicpc.net/problem/2750"
   ]
  },
  {
   "cell_type": "code",
   "execution_count": 16,
   "metadata": {},
   "outputs": [
    {
     "name": "stdout",
     "output_type": "stream",
     "text": [
      "입력 받을 숫자의 갯수 : 9\n",
      "입력할 숫자 : 1\n",
      "입력할 숫자 : 3\n",
      "입력할 숫자 : 5\n",
      "입력할 숫자 : 5\n",
      "입력할 숫자 : 7\n",
      "입력할 숫자 : 8\n",
      "입력할 숫자 : 6\n",
      "입력할 숫자 : 6\n",
      "입력할 숫자 : 54\n",
      "써넣은 숫자들의 리스트 :  [1, 3, 5, 5, 7, 8, 6, 6, 54]\n",
      "sort_lst의 결과 :  [1, 3, 5, 5, 6, 6, 7, 8, 54]\n",
      "sort_lst2의 결과 :  [1, 3, 5, 5, 6, 6, 7, 8, 54]\n"
     ]
    }
   ],
   "source": [
    "N = int(input(\"입력 받을 숫자의 갯수 : \"))\n",
    "\n",
    "lst = []\n",
    "for idx in range(N):\n",
    "    lst.append(int(input(\"입력할 숫자 : \")))\n",
    "\n",
    "print('써넣은 숫자들의 리스트 : ', lst)\n",
    "\n",
    "def sort_lst(lst):                   ##하나하나 비교하며 바로 바꾸는 경우\n",
    "    for idx in range(len(lst)-1):\n",
    "        for idx2 in range(idx, len(lst)):\n",
    "            if lst[idx] > lst[idx2]:\n",
    "                lst[idx], lst[idx2] = lst[idx2], lst[idx]\n",
    "                \n",
    "    return lst\n",
    "        \n",
    "print('sort_lst의 결과 : ', sort_lst(lst))\n",
    "\n",
    "def sort_lst2(lst):  ##리스트 내부를 순회하여 가장 큰수를 탐색한 후 pop하여 새로운 리스트에 저장하는 방식\n",
    "    result = []\n",
    "    for _ in range(len(lst)):\n",
    "        if len(lst) <= 1:\n",
    "            result.append(lst.pop())\n",
    "        else:\n",
    "            for idx in range(len(lst)-1):\n",
    "                max_idx = 0\n",
    "                if lst[idx] <= lst[idx+1]:\n",
    "                    max_idx = idx+1\n",
    "                else:\n",
    "                    max_idx = idx\n",
    "            result.append(lst.pop(max_idx))\n",
    "    return result[::-1]\n",
    "\n",
    "print('sort_lst2의 결과 : ', sort_lst2(lst))"
   ]
  },
  {
   "cell_type": "markdown",
   "metadata": {},
   "source": [
    "### 소트 인사이드 : https://www.acmicpc.net/problem/1427"
   ]
  },
  {
   "cell_type": "code",
   "execution_count": 23,
   "metadata": {},
   "outputs": [
    {
     "name": "stdout",
     "output_type": "stream",
     "text": [
      "숫자 입력 : 1325578966243\n",
      "1325578966243 <class 'str'>\n",
      "9 8 7 6 6 5 5 4 3 3 2 2 1 "
     ]
    }
   ],
   "source": [
    "num_str = input(\"숫자 입력 : \")\n",
    "print(num_str, type(num_str))\n",
    "\n",
    "for i in range(9,-1,-1):\n",
    "    for data in num_str :\n",
    "        if i == int(data) :\n",
    "            print(i, end = ' ')\n",
    "    "
   ]
  },
  {
   "cell_type": "markdown",
   "metadata": {},
   "source": [
    "### 나이순 정렬 : https://www.acmicpc.net/problem/10814\n",
    "\n",
    "#### 입력 예 : 21, joon / 21 donghan / 34 hanjun\n",
    "#### 출력 예 : 21 donghan / 21, joon / 34 hanjun"
   ]
  },
  {
   "cell_type": "code",
   "execution_count": 37,
   "metadata": {},
   "outputs": [
    {
     "name": "stdout",
     "output_type": "stream",
     "text": [
      "입력 횟수를 설정해주세요 : 6\n",
      "나이와 이름을 입력해주세요(ex.(나이) (이름)) : 23 kevin\n",
      "나이와 이름을 입력해주세요(ex.(나이) (이름)) : 24 김종한\n",
      "나이와 이름을 입력해주세요(ex.(나이) (이름)) : 46 joon\n",
      "나이와 이름을 입력해주세요(ex.(나이) (이름)) : 26 amy\n",
      "나이와 이름을 입력해주세요(ex.(나이) (이름)) : 37 김뫄뫄\n",
      "나이와 이름을 입력해주세요(ex.(나이) (이름)) : 15 sally\n",
      "=====결과=====\n",
      "15 sally\n",
      "23 kevin\n",
      "24 김종한\n",
      "26 amy\n",
      "37 김뫄뫄\n",
      "46 joon\n"
     ]
    }
   ],
   "source": [
    "test_case = int(input(\"입력 횟수를 설정해주세요 : \"))\n",
    "data = []\n",
    "\n",
    "for _ in range(test_case):\n",
    "    age_name = input('나이와 이름을 입력해주세요(ex.(나이) (이름)) : ').split(' ')\n",
    "    data.append((int(age_name[0]), age_name[1]))\n",
    "\n",
    "data = sorted(data, key = lambda x : x[0])\n",
    "\n",
    "print('=====결과=====')\n",
    "for idx in data:\n",
    "    print(idx[0], idx[1])\n"
   ]
  },
  {
   "cell_type": "markdown",
   "metadata": {},
   "source": [
    "### 좌표 정렬하기 : https://www.acmicpc.net/problem/11650"
   ]
  },
  {
   "cell_type": "code",
   "execution_count": 52,
   "metadata": {},
   "outputs": [
    {
     "name": "stdout",
     "output_type": "stream",
     "text": [
      "정렬할 좌표의 갯수 입력 : 6\n",
      "좌표 입력(ex : 3,2) : 1,1\n",
      "좌표 입력(ex : 3,2) : 3,3\n",
      "좌표 입력(ex : 3,2) : 1,5\n",
      "좌표 입력(ex : 3,2) : 3,1\n",
      "좌표 입력(ex : 3,2) : 3,2\n",
      "좌표 입력(ex : 3,2) : 1,2\n"
     ]
    },
    {
     "data": {
      "text/plain": [
       "[(1, 1), (1, 2), (1, 5), (3, 1), (3, 2), (3, 3)]"
      ]
     },
     "execution_count": 52,
     "metadata": {},
     "output_type": "execute_result"
    }
   ],
   "source": [
    "test_num = int(input(\"정렬할 좌표의 갯수 입력 : \"))\n",
    "\n",
    "points = []\n",
    "for _ in range(test_num):\n",
    "    point = input(\"좌표 입력(ex : 3,2) : \").split(',')\n",
    "    points.append((int(point[0]), int(point[1])))\n",
    "\n",
    "points = sorted(points)\n",
    "points"
   ]
  },
  {
   "cell_type": "markdown",
   "metadata": {},
   "source": [
    "### 수 정렬하기 3번 : https://www.acmicpc.net/problem/10989"
   ]
  },
  {
   "cell_type": "code",
   "execution_count": 68,
   "metadata": {},
   "outputs": [
    {
     "name": "stdout",
     "output_type": "stream",
     "text": [
      "테스트할 숫자의 갯수 : 6\n",
      "숫자 입력 : 1\n",
      "숫자 입력 : 2\n",
      "숫자 입력 : 1\n",
      "숫자 입력 : 5\n",
      "숫자 입력 : 7\n",
      "숫자 입력 : 2\n",
      "1 1 2 2 5 7 "
     ]
    }
   ],
   "source": [
    "test_case = int(input(\"테스트할 숫자의 갯수 : \"))\n",
    "\n",
    "num_lst = []\n",
    "\n",
    "for _ in range(test_case):\n",
    "    num_lst.append(int(input(\"숫자 입력 : \")))\n",
    "\n",
    "lst = [0] * 10\n",
    "\n",
    "for idx in range(len(num_lst)):\n",
    "    for idx2 in range(10):\n",
    "        if num_lst[idx] == idx2:\n",
    "            lst[idx2] += 1\n",
    "\n",
    "for idx in range(len(lst)):\n",
    "    if lst[idx] != 0:\n",
    "        for _ in range(lst[idx]):\n",
    "            print(idx, end = ' ')\n",
    "        "
   ]
  },
  {
   "cell_type": "code",
   "execution_count": null,
   "metadata": {},
   "outputs": [],
   "source": [
    "## 다른 풀이\n",
    "import sys\n",
    "n = int(sys.stdin.readline())\n",
    "array = [0] * 10001\n",
    "\n",
    "for i in range(n):\n",
    "    data = int(sys.stdin.readline())\n",
    "    array[data] += 1\n",
    "\n",
    "for i in range(10001):\n",
    "    if array[i] != 0:\n",
    "        for j in range(array[i]):\n",
    "            print(i)\n"
   ]
  },
  {
   "cell_type": "code",
   "execution_count": null,
   "metadata": {},
   "outputs": [],
   "source": []
  }
 ],
 "metadata": {
  "kernelspec": {
   "display_name": "Python 3",
   "language": "python",
   "name": "python3"
  },
  "language_info": {
   "codemirror_mode": {
    "name": "ipython",
    "version": 3
   },
   "file_extension": ".py",
   "mimetype": "text/x-python",
   "name": "python",
   "nbconvert_exporter": "python",
   "pygments_lexer": "ipython3",
   "version": "3.8.3"
  }
 },
 "nbformat": 4,
 "nbformat_minor": 4
}
