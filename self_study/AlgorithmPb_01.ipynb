{
 "cells": [
  {
   "cell_type": "markdown",
   "metadata": {},
   "source": [
    "### 음계 문제 : https://www.acmicpc.net/problem/2920"
   ]
  },
  {
   "cell_type": "code",
   "execution_count": 18,
   "metadata": {},
   "outputs": [
    {
     "name": "stdout",
     "output_type": "stream",
     "text": [
      "6 3 2 1\n",
      "descending\n"
     ]
    }
   ],
   "source": [
    "a = list(map(int, input().split(' ')))\n",
    "\n",
    "ascending = True\n",
    "descending = True\n",
    "\n",
    "for idx in range(len(a)-1) :\n",
    "    if a[idx] < a[idx+1] :\n",
    "        descending = False\n",
    "    else :\n",
    "        ascending = False\n",
    "\n",
    "if ascending == False :\n",
    "    if descending == False :\n",
    "        print(\"mixed\")\n",
    "    else : \n",
    "        print(\"descending\")\n",
    "else : \n",
    "    if descending == False :\n",
    "        print(\"ascending\")\n",
    "    else : \n",
    "        print(\"mixed\")\n"
   ]
  },
  {
   "cell_type": "markdown",
   "metadata": {},
   "source": [
    "### 블랙잭 문제 : https://www.acmicpc.net/problem/2798"
   ]
  },
  {
   "cell_type": "code",
   "execution_count": 31,
   "metadata": {},
   "outputs": [
    {
     "name": "stdout",
     "output_type": "stream",
     "text": [
      "카드의 숫자, 합 숫자 : 6,35\n",
      "카드에 적혀 있는 숫자 나열 : 3 6 8 4 2 11\n",
      "근접수 :  25\n"
     ]
    }
   ],
   "source": [
    "num_of_card, sum_num = map(int,input(\"카드의 숫자, 합 숫자 : \").split(\",\"))\n",
    "\n",
    "num_ls = list(map(int, input(\"카드에 적혀 있는 숫자 나열 : \").split(\" \")))\n",
    "\n",
    "result = 0 \n",
    "\n",
    "for i in range(len(num_ls)) :\n",
    "    for j in range(i+1, len(num_ls)) :\n",
    "        for k in range(j+1, len(num_ls)) :\n",
    "            sum_val = num_ls[i] + num_ls[j] + num_ls[k]\n",
    "            if sum_val <= sum_num :\n",
    "                result = max(result, sum_val)\n",
    "\n",
    "print(\"근접수 : \", result)"
   ]
  },
  {
   "cell_type": "markdown",
   "metadata": {},
   "source": [
    "### 피라미드 문제 "
   ]
  },
  {
   "cell_type": "code",
   "execution_count": 32,
   "metadata": {},
   "outputs": [
    {
     "name": "stdout",
     "output_type": "stream",
     "text": [
      "피라미드의 층 수를 입력하세요 : 3\n",
      "1\t\n",
      "\n",
      "2\t3\t\n",
      "\n",
      "4\t5\t6\t\n",
      "\n",
      "7\t8\t\n",
      "\n",
      "9\t\n",
      "\n"
     ]
    }
   ],
   "source": [
    "num = int(input(\"피라미드의 층 수를 입력하세요 : \"))\n",
    "\n",
    "line_num = num*2 -1 \n",
    "pyramid_num = 1 \n",
    "\n",
    "for line_idx in range(line_num) :\n",
    "    \n",
    "    if line_idx < line_num // 2 :\n",
    "        for idx in range(line_idx+1) :\n",
    "            print(pyramid_num, end = '\\t')\n",
    "            pyramid_num += 1\n",
    "            \n",
    "    else : \n",
    "        for idx in range(line_num - line_idx) :\n",
    "            print(pyramid_num, end = '\\t')\n",
    "            pyramid_num += 1\n",
    "    \n",
    "    print('\\n')\n"
   ]
  },
  {
   "cell_type": "markdown",
   "metadata": {},
   "source": [
    "### 스택 수열 : https://www.acmicpc.net/problem/1874"
   ]
  },
  {
   "cell_type": "code",
   "execution_count": 9,
   "metadata": {},
   "outputs": [
    {
     "name": "stdout",
     "output_type": "stream",
     "text": [
      "만들 수열의 숫자를 정하세요 : 8\n",
      "숫자 입력 : 4\n",
      "숫자 입력 : 3\n",
      "숫자 입력 : 6\n",
      "숫자 입력 : 8\n",
      "숫자 입력 : 7\n",
      "숫자 입력 : 5\n",
      "숫자 입력 : 2\n",
      "숫자 입력 : 1\n",
      "result =  +  +  +  +  -  -  +  +  -  +  +  -  -  -  -  -\n"
     ]
    }
   ],
   "source": [
    "num = int(input(\"만들 수열의 숫자를 정하세요 : \"))\n",
    "\n",
    "count = 1\n",
    "stack = []\n",
    "result = []\n",
    "\n",
    "for idx in range(1,num+1) :\n",
    "    data = int(input(\"숫자 입력 : \"))\n",
    "    while count <= data : \n",
    "        stack.append(count)\n",
    "        count += 1 \n",
    "        result.append('+')\n",
    "    \n",
    "    if stack[-1] == data :\n",
    "        stack.pop()\n",
    "        result.append('-')\n",
    "    else : \n",
    "        print('impossible')\n",
    "        exit(0)\n",
    "print(\"result = \", '  '.join(result))"
   ]
  },
  {
   "cell_type": "markdown",
   "metadata": {},
   "source": [
    "### 프린터 큐 : https://www.acmicpc.net/problem/1966"
   ]
  },
  {
   "cell_type": "code",
   "execution_count": 58,
   "metadata": {},
   "outputs": [
    {
     "name": "stdout",
     "output_type": "stream",
     "text": [
      "테스트 케이스의 수 :1\n",
      "출력할 문서의 순서, 중요도 : 1 3\n",
      "인쇄할 문서들의 중요도 입력 : 1 3 3 2 1 3 5 4\n",
      "문서들의 중요도 :  [1, 3, 3, 2, 1, 3, 5, 4]\n",
      "[(1, 0), (3, 1), (3, 2), (2, 3), (1, 4), (3, 5), (5, 6), (4, 7)]\n"
     ]
    }
   ],
   "source": [
    "test_num = int(input(\"테스트 케이스의 수 :\"))\n",
    "\n",
    "for _ in range(test_num) :\n",
    "    page_idx, page_imp = list(map(int, input(\"출력할 문서의 순서, 중요도 : \").split(' ')))\n",
    "    \n",
    "    queue = list(map(int, input(\"인쇄할 문서들의 중요도 입력 : \").split(' ')))\n",
    "    \n",
    "    print(\"문서들의 중요도 : \", queue)\n",
    "    \n",
    "    queue = [(imp, index) for index, imp in enumerate(queue)]\n",
    "    print(queue)\n",
    "    \n",
    "    for idx in range(len(queue)-1) :\n",
    "        if queue[idx][1] < queue[idx+1][1] :\n",
    "            queue[idx][1] = queue[idx+1][1]\n",
    "            "
   ]
  },
  {
   "cell_type": "code",
   "execution_count": 62,
   "metadata": {},
   "outputs": [
    {
     "name": "stdout",
     "output_type": "stream",
     "text": [
      "반복 횟수 : 5\n",
      "1\n",
      "3\n",
      "5\n",
      "7\n",
      "9\n",
      "[1, 3, 5, 7, 9]\n",
      "[(0, 1), (1, 3), (2, 5), (3, 7), (4, 9)]\n"
     ]
    }
   ],
   "source": [
    "queue = []\n",
    "num = int(input(\"반복 횟수 : \"))\n",
    "for _ in range(num) :\n",
    "    queue.append(int(input()))\n",
    "\n",
    "def print_q(queue) :\n",
    "    for _ in range(len(queue)) :\n",
    "        print(queue.pop(0))\n",
    "    \n",
    "print(queue)\n",
    "print(list(enumerate(queue)))"
   ]
  },
  {
   "cell_type": "code",
   "execution_count": 53,
   "metadata": {},
   "outputs": [
    {
     "name": "stdout",
     "output_type": "stream",
     "text": [
      "13\n",
      "15\n",
      "11\n",
      "6\n"
     ]
    }
   ],
   "source": [
    "print_q(queue)"
   ]
  },
  {
   "cell_type": "code",
   "execution_count": null,
   "metadata": {},
   "outputs": [],
   "source": []
  }
 ],
 "metadata": {
  "kernelspec": {
   "display_name": "Python 3",
   "language": "python",
   "name": "python3"
  },
  "language_info": {
   "codemirror_mode": {
    "name": "ipython",
    "version": 3
   },
   "file_extension": ".py",
   "mimetype": "text/x-python",
   "name": "python",
   "nbconvert_exporter": "python",
   "pygments_lexer": "ipython3",
   "version": "3.8.3"
  }
 },
 "nbformat": 4,
 "nbformat_minor": 4
}
