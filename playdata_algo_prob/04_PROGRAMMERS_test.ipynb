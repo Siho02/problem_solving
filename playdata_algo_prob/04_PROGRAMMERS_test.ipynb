{
 "cells": [
  {
   "cell_type": "markdown",
   "metadata": {},
   "source": [
    "### https://programmers.co.kr/learn/courses/30/lessons/42840"
   ]
  },
  {
   "cell_type": "code",
   "execution_count": 9,
   "metadata": {},
   "outputs": [],
   "source": [
    "def solution(answers):\n",
    "    person_answer = []\n",
    "    lst = []\n",
    "    \n",
    "    person1_answer = [1, 2, 3, 4, 5]\n",
    "    person2_answer = [2, 1, 2, 3, 2, 4, 2, 5]\n",
    "    person3_answer = [3, 3, 1, 1, 2, 2, 4, 4, 5, 5]\n",
    "    \n",
    "    person_record = [0, 0, 0]\n",
    "    \n",
    "    for idx in range(len(answers)):\n",
    "        if answers[idx] == person1_answer[idx%len(person1_answer)]:\n",
    "            person_record[0] += 1\n",
    "        if answers[idx] == person2_answer[idx%len(person2_answer)]:\n",
    "            person_record[1] += 1\n",
    "        if answers[idx] == person3_answer[idx%len(person3_answer)]:\n",
    "            person_record[2] += 1\n",
    "    \n",
    "    for person, score in enumerate(person_record):\n",
    "        if score == max(person_record):\n",
    "            person_answer.append(person+1)\n",
    "    \n",
    "    return person_answer"
   ]
  },
  {
   "cell_type": "code",
   "execution_count": 11,
   "metadata": {},
   "outputs": [
    {
     "data": {
      "text/plain": [
       "[1, 2, 3]"
      ]
     },
     "execution_count": 11,
     "metadata": {},
     "output_type": "execute_result"
    }
   ],
   "source": [
    "answers = [1,3,2,4,2]\n",
    "solution(answers)"
   ]
  },
  {
   "cell_type": "code",
   "execution_count": null,
   "metadata": {},
   "outputs": [],
   "source": [
    "## 다른 사람의 풀이\n",
    "\n",
    "from itertools import cycle  \n",
    "\n",
    "def solution(answers):\n",
    "    winner = []\n",
    "    pattern_supo_1 = [1 ,2, 3, 4, 5]\n",
    "    pattern_supo_2 = [2, 1, 2, 3, 2, 4, 2, 5]\n",
    "    pattern_supo_3 = [3, 3, 1, 1, 2, 2, 4, 4, 5, 5]\n",
    "    score_supo = [0, 0, 0]\n",
    "\n",
    "    for supo_1, supo_2, supo_3, answer in zip(cycle(pattern_supo_1), cycle(pattern_supo_2), cycle(pattern_supo_3), answers):\n",
    "        if supo_1 == answer: score_supo[0] += 1\n",
    "        if supo_2 == answer: score_supo[1] += 1\n",
    "        if supo_3 == answer: score_supo[2] += 1\n",
    "    for i, score in enumerate(score_supo):\n",
    "        if score == max(score_supo):\n",
    "            winner.append(i+1)\n",
    "\n",
    "    return winner"
   ]
  }
 ],
 "metadata": {
  "kernelspec": {
   "display_name": "Python 3",
   "language": "python",
   "name": "python3"
  },
  "language_info": {
   "codemirror_mode": {
    "name": "ipython",
    "version": 3
   },
   "file_extension": ".py",
   "mimetype": "text/x-python",
   "name": "python",
   "nbconvert_exporter": "python",
   "pygments_lexer": "ipython3",
   "version": "3.8.3"
  }
 },
 "nbformat": 4,
 "nbformat_minor": 4
}
