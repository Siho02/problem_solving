{
 "cells": [
  {
   "cell_type": "markdown",
   "metadata": {},
   "source": [
    "### Hashing\n",
    "    https://www.acmicpc.net/problem/15829"
   ]
  },
  {
   "cell_type": "code",
   "execution_count": 2,
   "metadata": {},
   "outputs": [
    {
     "name": "stdout",
     "output_type": "stream",
     "text": [
      "561\n",
      "abc\n",
      "2946\n"
     ]
    }
   ],
   "source": [
    "\n",
    "M = 1234567891\n",
    "alphabet = 'abcdefghijklmnopqrstuvwxyz'\n",
    "\n",
    "sum_num = 0\n",
    "\n",
    "N = int(input())\n",
    "\n",
    "string = list(input())\n",
    "\n",
    "for idx, char in enumerate(string):\n",
    "    alp = alphabet.find(char)+1\n",
    "    ## print(alp, type(alp))\n",
    "    sum_num += alp * (31**idx)\n",
    "    \n",
    "print(sum_num % M)\n"
   ]
  },
  {
   "cell_type": "markdown",
   "metadata": {},
   "source": [
    "### 완주하지 못한 선수\n",
    "\n",
    "    https://programmers.co.kr/learn/courses/30/lessons/42576"
   ]
  },
  {
   "cell_type": "code",
   "execution_count": 25,
   "metadata": {},
   "outputs": [
    {
     "name": "stdout",
     "output_type": "stream",
     "text": [
      "참가자 :  ['ana', 'mislav', 'mislav', 'stanko']\n",
      "완주자 :  ['ana', 'mislav', 'stanko']\n",
      "[('ana', 'ana'), ('mislav', 'mislav'), ('mislav', 'stanko')]\n"
     ]
    },
    {
     "data": {
      "text/plain": [
       "'mislav'"
      ]
     },
     "execution_count": 25,
     "metadata": {},
     "output_type": "execute_result"
    }
   ],
   "source": [
    "part = [\"mislav\", \"stanko\", \"mislav\", \"ana\"]\n",
    "comp = [\"stanko\", \"ana\", \"mislav\"]\n",
    "\n",
    "def solution(participant, completion):\n",
    "    participant.sort()\n",
    "    completion.sort()\n",
    "    \n",
    "    print('참가자 : ', participant)\n",
    "    print('완주자 : ', completion)\n",
    "    \n",
    "    zip_list = list(zip(participant, completion))\n",
    "    print(zip_list)\n",
    "    \n",
    "    for part, comp in zip_list:\n",
    "        if part != comp:\n",
    "            return part\n",
    "    return participant[-1]\n",
    "        \n",
    "        #print(part,comp)\n",
    "\n",
    "solution(part, comp)\n",
    "    "
   ]
  },
  {
   "cell_type": "code",
   "execution_count": 26,
   "metadata": {
    "scrolled": true
   },
   "outputs": [
    {
     "name": "stdout",
     "output_type": "stream",
     "text": [
      "참가자 :  ['eden', 'kiki', 'leo']\n",
      "완주자 :  ['eden', 'kiki']\n",
      "[('eden', 'eden'), ('kiki', 'kiki')]\n"
     ]
    },
    {
     "data": {
      "text/plain": [
       "'leo'"
      ]
     },
     "execution_count": 26,
     "metadata": {},
     "output_type": "execute_result"
    }
   ],
   "source": [
    "part = [\"leo\", \"kiki\", \"eden\"]\n",
    "comp = [\"eden\", \"kiki\"]\n",
    "\n",
    "solution(part, comp)"
   ]
  },
  {
   "cell_type": "markdown",
   "metadata": {},
   "source": [
    "### 전화번호부\n",
    "    https://programmers.co.kr/learn/courses/30/lessons/42577\n"
   ]
  },
  {
   "cell_type": "code",
   "execution_count": 48,
   "metadata": {},
   "outputs": [],
   "source": [
    "## 시간초과된 답안\n",
    "\n",
    "phone_book1 = [\"119\", \"97674223\", \"1195524421\"] # false\n",
    "phone_book2 = [\"123\",\"456\",\"789\"] #true\n",
    "phone_book3 = [\"12\",\"123\",\"1235\",\"567\",\"88\"] #false\n",
    "\n",
    "def solution(phone_book):\n",
    "    answer = True\n",
    "    phone_book.sort()\n",
    "    for i in range(len(phone_book)-1):\n",
    "        for j in range(i+1, len(phone_book)):\n",
    "            if phone_book[i] in phone_book[j]:\n",
    "                answer = False\n",
    "                break\n",
    "    \n",
    "    return answer"
   ]
  },
  {
   "cell_type": "code",
   "execution_count": 62,
   "metadata": {},
   "outputs": [
    {
     "data": {
      "text/plain": [
       "True"
      ]
     },
     "execution_count": 62,
     "metadata": {},
     "output_type": "execute_result"
    }
   ],
   "source": [
    "phone_book1 = [\"119\", \"97674223\", \"1195524421\"] # false\n",
    "phone_book2 = [\"123\",\"456\",\"789\"] #true\n",
    "phone_book3 = [\"12\",\"123\",\"1235\",\"567\",\"88\"] #false\n",
    "\n",
    "def solution(phone_book):\n",
    "    answer = True\n",
    "    phone_book.sort()\n",
    "    \n",
    "    phone_num_list = list(zip(phone_book, phone_book[1:]))\n",
    "    for data1, data2 in phone_num_list:\n",
    "        if data1 in data2:\n",
    "            answer = False\n",
    "            break\n",
    "    return answer\n",
    "        \n",
    "solution(phone_book2)"
   ]
  },
  {
   "cell_type": "code",
   "execution_count": null,
   "metadata": {},
   "outputs": [],
   "source": []
  }
 ],
 "metadata": {
  "kernelspec": {
   "display_name": "Python 3",
   "language": "python",
   "name": "python3"
  },
  "language_info": {
   "codemirror_mode": {
    "name": "ipython",
    "version": 3
   },
   "file_extension": ".py",
   "mimetype": "text/x-python",
   "name": "python",
   "nbconvert_exporter": "python",
   "pygments_lexer": "ipython3",
   "version": "3.8.3"
  },
  "toc": {
   "base_numbering": 1,
   "nav_menu": {},
   "number_sections": true,
   "sideBar": true,
   "skip_h1_title": false,
   "title_cell": "Table of Contents",
   "title_sidebar": "Contents",
   "toc_cell": false,
   "toc_position": {},
   "toc_section_display": true,
   "toc_window_display": false
  }
 },
 "nbformat": 4,
 "nbformat_minor": 4
}
