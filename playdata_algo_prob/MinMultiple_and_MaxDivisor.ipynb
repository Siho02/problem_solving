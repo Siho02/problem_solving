{
 "cells": [
  {
   "cell_type": "markdown",
   "id": "513d6cf6",
   "metadata": {},
   "source": [
    "https://programmers.co.kr/learn/courses/30/lessons/12940\n",
    "\n",
    "두 수를 입력받아 두 수의 최대공약수와 최소공배수를 반환하는 함수, solution을 완성해 보세요. 배열의 맨 앞에 최대공약수, 그다음 최소공배수를 넣어 반환하면 됩니다. 예를 들어 두 수 3, 12의 최대공약수는 3, 최소공배수는 12이므로 solution(3, 12)는 [3, 12]를 반환해야 합니다."
   ]
  },
  {
   "cell_type": "code",
   "execution_count": 12,
   "id": "d46b563f",
   "metadata": {},
   "outputs": [],
   "source": [
    "def max_divisior(n, m):\n",
    "    if n < m:\n",
    "        n, m = m, n\n",
    "        \n",
    "    while (m!=0):\n",
    "        n, m = m, n%m\n",
    "        \n",
    "    return n\n",
    "        \n",
    "\n",
    "def solution(n, m):\n",
    "    answer = [max_divisior(n, m), int(n*m/max_divisior(n,m))]\n",
    "    return answer"
   ]
  },
  {
   "cell_type": "code",
   "execution_count": 13,
   "id": "dd1b8f84",
   "metadata": {},
   "outputs": [
    {
     "data": {
      "text/plain": [
       "[6, 36]"
      ]
     },
     "execution_count": 13,
     "metadata": {},
     "output_type": "execute_result"
    }
   ],
   "source": [
    "solution(12, 18)"
   ]
  },
  {
   "cell_type": "code",
   "execution_count": null,
   "id": "3c4e96cc",
   "metadata": {},
   "outputs": [],
   "source": []
  }
 ],
 "metadata": {
  "kernelspec": {
   "display_name": "Python 3",
   "language": "python",
   "name": "python3"
  },
  "language_info": {
   "codemirror_mode": {
    "name": "ipython",
    "version": 3
   },
   "file_extension": ".py",
   "mimetype": "text/x-python",
   "name": "python",
   "nbconvert_exporter": "python",
   "pygments_lexer": "ipython3",
   "version": "3.8.3"
  },
  "toc": {
   "base_numbering": 1,
   "nav_menu": {},
   "number_sections": true,
   "sideBar": true,
   "skip_h1_title": false,
   "title_cell": "Table of Contents",
   "title_sidebar": "Contents",
   "toc_cell": false,
   "toc_position": {},
   "toc_section_display": true,
   "toc_window_display": false
  }
 },
 "nbformat": 4,
 "nbformat_minor": 5
}
