{
 "cells": [
  {
   "cell_type": "markdown",
   "id": "e2db5ddd",
   "metadata": {},
   "source": [
    "https://programmers.co.kr/learn/courses/30/lessons/12903\n",
    "\n",
    "단어 s의 가운데 글자를 반환하는 함수, solution을 만들어 보세요. 단어의 길이가 짝수라면 가운데 두글자를 반환하면 됩니다."
   ]
  },
  {
   "cell_type": "code",
   "execution_count": 1,
   "id": "2ef3ffe7",
   "metadata": {},
   "outputs": [],
   "source": [
    "def solution(s):\n",
    "    answer = ''\n",
    "    length = len(s)\n",
    "    \n",
    "    if length % 2 == 0 :\n",
    "        center = int(length/2)\n",
    "        answer = s[center-1:center+1]\n",
    "    else:\n",
    "        center = int(length/2)\n",
    "        answer = s[center]\n",
    "        \n",
    "        \n",
    "    return answer"
   ]
  },
  {
   "cell_type": "code",
   "execution_count": 2,
   "id": "385b286b",
   "metadata": {},
   "outputs": [
    {
     "data": {
      "text/plain": [
       "('c', 'we')"
      ]
     },
     "execution_count": 2,
     "metadata": {},
     "output_type": "execute_result"
    }
   ],
   "source": [
    "s = \"abcde\"\n",
    "s1 = \"qwer\"\n",
    "solution(s), solution(s1)"
   ]
  },
  {
   "cell_type": "code",
   "execution_count": null,
   "id": "74b4244f",
   "metadata": {},
   "outputs": [],
   "source": []
  }
 ],
 "metadata": {
  "kernelspec": {
   "display_name": "Python 3",
   "language": "python",
   "name": "python3"
  },
  "language_info": {
   "codemirror_mode": {
    "name": "ipython",
    "version": 3
   },
   "file_extension": ".py",
   "mimetype": "text/x-python",
   "name": "python",
   "nbconvert_exporter": "python",
   "pygments_lexer": "ipython3",
   "version": "3.8.3"
  },
  "toc": {
   "base_numbering": 1,
   "nav_menu": {},
   "number_sections": true,
   "sideBar": true,
   "skip_h1_title": false,
   "title_cell": "Table of Contents",
   "title_sidebar": "Contents",
   "toc_cell": false,
   "toc_position": {},
   "toc_section_display": true,
   "toc_window_display": false
  }
 },
 "nbformat": 4,
 "nbformat_minor": 5
}
