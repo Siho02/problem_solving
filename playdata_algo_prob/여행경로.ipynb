{
 "cells": [
  {
   "cell_type": "markdown",
   "id": "c2956a3f",
   "metadata": {},
   "source": [
    "https://programmers.co.kr/learn/courses/30/lessons/43164"
   ]
  },
  {
   "cell_type": "code",
   "execution_count": 3,
   "id": "e282d017",
   "metadata": {},
   "outputs": [],
   "source": [
    "tickets01 = [[\"ICN\", \"JFK\"], [\"HND\", \"IAD\"], [\"JFK\", \"HND\"]]"
   ]
  },
  {
   "cell_type": "code",
   "execution_count": 4,
   "id": "dfdca264",
   "metadata": {},
   "outputs": [],
   "source": [
    "tickets02 = [[\"ICN\", \"SFO\"], [\"ICN\", \"ATL\"], [\"SFO\", \"ATL\"], [\"ATL\", \"ICN\"], [\"ATL\",\"SFO\"]]"
   ]
  },
  {
   "cell_type": "code",
   "execution_count": 36,
   "id": "44b1aa60",
   "metadata": {},
   "outputs": [],
   "source": [
    "def solution(tickets):\n",
    "    answer = []\n",
    "    routes = dict()\n",
    "    \n",
    "    for dep, arr in tickets:\n",
    "        if dep not in routes:\n",
    "            routes[dep] = [arr]\n",
    "        else:\n",
    "            routes[dep].append(arr)\n",
    "    #print(routes['ICN'])\n",
    "    stack = ['ICN']\n",
    "    #print('------------')\n",
    "    while stack:\n",
    "        top = stack[-1]\n",
    "        #print(routes[top])\n",
    "        if top not in routes or len(routes[top]) == 0:\n",
    "            answer.append(stack.pop())\n",
    "        else:\n",
    "            stack.append(routes[top].pop())\n",
    "    \n",
    "    answer = answer[::-1]\n",
    "    \n",
    "    return answer"
   ]
  },
  {
   "cell_type": "code",
   "execution_count": 37,
   "id": "6fb5aa85",
   "metadata": {},
   "outputs": [
    {
     "data": {
      "text/plain": [
       "['ICN', 'ATL', 'SFO', 'ATL', 'ICN', 'SFO']"
      ]
     },
     "execution_count": 37,
     "metadata": {},
     "output_type": "execute_result"
    }
   ],
   "source": [
    "solution(tickets02)"
   ]
  },
  {
   "cell_type": "code",
   "execution_count": 25,
   "id": "4c8818bd",
   "metadata": {},
   "outputs": [
    {
     "ename": "NameError",
     "evalue": "name 'routes' is not defined",
     "output_type": "error",
     "traceback": [
      "\u001b[1;31m---------------------------------------------------------------------------\u001b[0m",
      "\u001b[1;31mNameError\u001b[0m                                 Traceback (most recent call last)",
      "\u001b[1;32m<ipython-input-25-83e7a6560815>\u001b[0m in \u001b[0;36m<module>\u001b[1;34m\u001b[0m\n\u001b[1;32m----> 1\u001b[1;33m \u001b[0mroutes\u001b[0m\u001b[1;33m\u001b[0m\u001b[1;33m\u001b[0m\u001b[0m\n\u001b[0m",
      "\u001b[1;31mNameError\u001b[0m: name 'routes' is not defined"
     ]
    }
   ],
   "source": [
    "routes"
   ]
  },
  {
   "cell_type": "code",
   "execution_count": null,
   "id": "016b51b0",
   "metadata": {},
   "outputs": [],
   "source": []
  }
 ],
 "metadata": {
  "kernelspec": {
   "display_name": "Python 3",
   "language": "python",
   "name": "python3"
  },
  "language_info": {
   "codemirror_mode": {
    "name": "ipython",
    "version": 3
   },
   "file_extension": ".py",
   "mimetype": "text/x-python",
   "name": "python",
   "nbconvert_exporter": "python",
   "pygments_lexer": "ipython3",
   "version": "3.8.3"
  },
  "toc": {
   "base_numbering": 1,
   "nav_menu": {},
   "number_sections": true,
   "sideBar": true,
   "skip_h1_title": false,
   "title_cell": "Table of Contents",
   "title_sidebar": "Contents",
   "toc_cell": false,
   "toc_position": {},
   "toc_section_display": true,
   "toc_window_display": false
  }
 },
 "nbformat": 4,
 "nbformat_minor": 5
}
