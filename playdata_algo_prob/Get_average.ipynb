{
 "cells": [
  {
   "cell_type": "markdown",
   "id": "4d76b216",
   "metadata": {},
   "source": [
    "https://programmers.co.kr/learn/courses/30/lessons/12944?language=python3\n",
    "\n",
    "정수를 담고 있는 배열 arr의 평균값을 return하는 함수, solution을 완성해보세요."
   ]
  },
  {
   "cell_type": "code",
   "execution_count": 2,
   "id": "7adbbb10",
   "metadata": {},
   "outputs": [],
   "source": [
    "def solution(arr):\n",
    "    answer = 0\n",
    "    len_arr = len(arr)\n",
    "    sum_num = 0 \n",
    "    for i in range(len_arr):\n",
    "        sum_num += arr[i]\n",
    "    answer = sum_num / len_arr\n",
    "    \n",
    "    return answer"
   ]
  },
  {
   "cell_type": "code",
   "execution_count": 3,
   "id": "317594f3",
   "metadata": {},
   "outputs": [
    {
     "data": {
      "text/plain": [
       "(2.5, 5.0)"
      ]
     },
     "execution_count": 3,
     "metadata": {},
     "output_type": "execute_result"
    }
   ],
   "source": [
    "arr = [1,2,3,4]\n",
    "arr1 = [5,5]\n",
    "\n",
    "solution(arr), solution(arr1)"
   ]
  },
  {
   "cell_type": "code",
   "execution_count": null,
   "id": "0b567dd3",
   "metadata": {},
   "outputs": [],
   "source": []
  }
 ],
 "metadata": {
  "kernelspec": {
   "display_name": "Python 3",
   "language": "python",
   "name": "python3"
  },
  "language_info": {
   "codemirror_mode": {
    "name": "ipython",
    "version": 3
   },
   "file_extension": ".py",
   "mimetype": "text/x-python",
   "name": "python",
   "nbconvert_exporter": "python",
   "pygments_lexer": "ipython3",
   "version": "3.8.3"
  },
  "toc": {
   "base_numbering": 1,
   "nav_menu": {},
   "number_sections": true,
   "sideBar": true,
   "skip_h1_title": false,
   "title_cell": "Table of Contents",
   "title_sidebar": "Contents",
   "toc_cell": false,
   "toc_position": {},
   "toc_section_display": true,
   "toc_window_display": false
  }
 },
 "nbformat": 4,
 "nbformat_minor": 5
}
