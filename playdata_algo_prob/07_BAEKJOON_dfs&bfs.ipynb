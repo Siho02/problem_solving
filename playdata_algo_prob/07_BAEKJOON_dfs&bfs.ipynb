{
 "cells": [
  {
   "cell_type": "markdown",
   "metadata": {},
   "source": [
    "### DFS와BFS https://www.acmicpc.net/problem/1260"
   ]
  },
  {
   "cell_type": "code",
   "execution_count": 10,
   "metadata": {},
   "outputs": [
    {
     "name": "stdout",
     "output_type": "stream",
     "text": [
      "4 5 1\n",
      "4 5 1\n",
      "[[0, 0, 0, 0, 0], [0, 0, 0, 0, 0], [0, 0, 0, 0, 0], [0, 0, 0, 0, 0], [0, 0, 0, 0, 0]]\n"
     ]
    }
   ],
   "source": [
    "\n",
    "#4 5 1\n",
    "#1 2\n",
    "#1 3\n",
    "#1 4\n",
    "#2 4\n",
    "#3 4\n",
    "\n",
    "N, M, V = map(int, input().split())\n",
    "\n",
    "graph = [[0]*(N+1) for i in range(N+1)]\n",
    "print(N, M, V)\n",
    "print(graph)"
   ]
  },
  {
   "cell_type": "code",
   "execution_count": 11,
   "metadata": {},
   "outputs": [
    {
     "name": "stdout",
     "output_type": "stream",
     "text": [
      "4 5 1\n",
      "1 2\n",
      "1 3\n",
      "1 4\n",
      "2 4\n",
      "3 4\n"
     ]
    }
   ],
   "source": [
    "from collections import deque\n",
    "\n",
    "N, M, V = map(int, input().split())\n",
    "\n",
    "graph = [[0] * (N + 1) for _ in range(N + 1)]\n",
    "\n",
    "for _ in range(M):\n",
    "    m1, m2 = map(int, input().split())\n",
    "    graph[m1][m2] = graph[m2][m1] = 1\n",
    "    \n"
   ]
  },
  {
   "cell_type": "code",
   "execution_count": 12,
   "metadata": {},
   "outputs": [
    {
     "data": {
      "text/plain": [
       "[[0, 0, 0, 0, 0],\n",
       " [0, 0, 1, 1, 1],\n",
       " [0, 1, 0, 0, 1],\n",
       " [0, 1, 0, 0, 1],\n",
       " [0, 1, 1, 1, 0]]"
      ]
     },
     "execution_count": 12,
     "metadata": {},
     "output_type": "execute_result"
    }
   ],
   "source": [
    "graph"
   ]
  },
  {
   "cell_type": "code",
   "execution_count": 15,
   "metadata": {},
   "outputs": [
    {
     "name": "stdout",
     "output_type": "stream",
     "text": [
      "1 "
     ]
    },
    {
     "data": {
      "text/plain": [
       "[1, 2, 3, 4]"
      ]
     },
     "execution_count": 15,
     "metadata": {},
     "output_type": "execute_result"
    }
   ],
   "source": [
    "def bfs(start_node):\n",
    "    discovered = [start_node]\n",
    "    #print(discovered)\n",
    "    queue = deque()\n",
    "    queue.append(start_node)\n",
    "    \n",
    "    while queue:\n",
    "        v = queue.popleft()\n",
    "        print(v, end = ' ')\n",
    "    \n",
    "    for w in range(len(graph[start_node])):\n",
    "        if graph[v][w] == 1 and (w not in discovered):\n",
    "            discovered.append(w)\n",
    "            queue.append(w)\n",
    "    \n",
    "    return discovered\n",
    "\n",
    "\n",
    "bfs(V)"
   ]
  },
  {
   "cell_type": "code",
   "execution_count": 17,
   "metadata": {},
   "outputs": [
    {
     "name": "stdout",
     "output_type": "stream",
     "text": [
      "1 2 4 3 "
     ]
    },
    {
     "data": {
      "text/plain": [
       "[1, 2, 4, 3]"
      ]
     },
     "execution_count": 17,
     "metadata": {},
     "output_type": "execute_result"
    }
   ],
   "source": [
    "def dfs(start_node, discovered = []):\n",
    "    discovered.append(start_node)\n",
    "    print(start_node, end = ' ')\n",
    "    \n",
    "    for w in range(len(graph[start_node])):\n",
    "        if graph[start_node][w] == 1 and (w not in discovered):\n",
    "            dfs(w, discovered)\n",
    "    return discovered\n",
    "dfs(V)"
   ]
  },
  {
   "cell_type": "code",
   "execution_count": null,
   "metadata": {},
   "outputs": [],
   "source": []
  }
 ],
 "metadata": {
  "kernelspec": {
   "display_name": "Python 3",
   "language": "python",
   "name": "python3"
  },
  "language_info": {
   "codemirror_mode": {
    "name": "ipython",
    "version": 3
   },
   "file_extension": ".py",
   "mimetype": "text/x-python",
   "name": "python",
   "nbconvert_exporter": "python",
   "pygments_lexer": "ipython3",
   "version": "3.8.3"
  },
  "toc": {
   "base_numbering": 1,
   "nav_menu": {},
   "number_sections": true,
   "sideBar": true,
   "skip_h1_title": false,
   "title_cell": "Table of Contents",
   "title_sidebar": "Contents",
   "toc_cell": false,
   "toc_position": {},
   "toc_section_display": true,
   "toc_window_display": false
  }
 },
 "nbformat": 4,
 "nbformat_minor": 4
}
