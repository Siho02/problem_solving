{
 "cells": [
  {
   "cell_type": "markdown",
   "metadata": {},
   "source": [
    "## https://programmers.co.kr/learn/courses/30/lessons/42584"
   ]
  },
  {
   "cell_type": "code",
   "execution_count": 1,
   "metadata": {},
   "outputs": [],
   "source": [
    "from Stack_Pb import Stack\n",
    "import time"
   ]
  },
  {
   "cell_type": "code",
   "execution_count": 8,
   "metadata": {},
   "outputs": [
    {
     "data": {
      "text/plain": [
       "[4, 3, 1, 1, 0]"
      ]
     },
     "execution_count": 8,
     "metadata": {},
     "output_type": "execute_result"
    }
   ],
   "source": [
    "## 풀이 1번\n",
    "\n",
    "def solution(prices):\n",
    "    len_s = len(prices)\n",
    "    answer = []\n",
    "\n",
    "    while prices :  #prices 리스트가 비어있지 않는다면 반복한다\n",
    "        price = prices.pop(0)       #prices의 첫번째 값을 꺼내 저장한다\n",
    "        num = 0                    \n",
    "        for idx in range(len(prices)) : # pop으로 인해 줄어든 prices 리스트의 원소들을 순회한다\n",
    "            if price <= prices[idx]: # price와 원소를 비교하여 원소가 더 크면 answer에 넣을 값을 증가시킨다\n",
    "                num += 1\n",
    "        answer.append(num)\n",
    "    \n",
    "    return answer\n",
    "\n",
    "prices = [1,2,3,2,3]\n",
    "solution(prices)"
   ]
  },
  {
   "cell_type": "code",
   "execution_count": 9,
   "metadata": {},
   "outputs": [
    {
     "data": {
      "text/plain": [
       "[3, 1, 3, 1, 0, 0]"
      ]
     },
     "execution_count": 9,
     "metadata": {},
     "output_type": "execute_result"
    }
   ],
   "source": [
    "prices = [4,56,1,36,73, 3]\n",
    "solution(prices)"
   ]
  },
  {
   "cell_type": "code",
   "execution_count": 5,
   "metadata": {},
   "outputs": [],
   "source": [
    "## 문제 풀이 2번째 방법\n",
    "\n",
    "def solution(p):\n",
    "    ans = [0] * len(p)\n",
    "    stack = [0]\n",
    "    for i in range(1, len(p)):\n",
    "        if p[i] < p[stack[-1]]:\n",
    "            for j in stack[::-1]:\n",
    "                if p[i] < p[j]:\n",
    "                    ans[j] = i-j\n",
    "                    stack.remove(j)\n",
    "                else:\n",
    "                    break\n",
    "        stack.append(i)\n",
    "    for i in range(0, len(stack)-1):\n",
    "        ans[stack[i]] = len(p) - stack[i] - 1\n",
    "    print(prices)\n",
    "    return ans"
   ]
  },
  {
   "cell_type": "code",
   "execution_count": 6,
   "metadata": {},
   "outputs": [
    {
     "name": "stdout",
     "output_type": "stream",
     "text": [
      "[1, 2, 3, 2, 3]\n"
     ]
    },
    {
     "data": {
      "text/plain": [
       "[4, 3, 1, 1, 0]"
      ]
     },
     "execution_count": 6,
     "metadata": {},
     "output_type": "execute_result"
    }
   ],
   "source": [
    "prices = [1,2,3,2,3]\n",
    "solution(prices)"
   ]
  },
  {
   "cell_type": "code",
   "execution_count": null,
   "metadata": {},
   "outputs": [],
   "source": []
  }
 ],
 "metadata": {
  "kernelspec": {
   "display_name": "Python 3",
   "language": "python",
   "name": "python3"
  },
  "language_info": {
   "codemirror_mode": {
    "name": "ipython",
    "version": 3
   },
   "file_extension": ".py",
   "mimetype": "text/x-python",
   "name": "python",
   "nbconvert_exporter": "python",
   "pygments_lexer": "ipython3",
   "version": "3.8.3"
  }
 },
 "nbformat": 4,
 "nbformat_minor": 4
}
