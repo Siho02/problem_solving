{
 "cells": [
  {
   "cell_type": "code",
   "execution_count": 6,
   "metadata": {},
   "outputs": [
    {
     "data": {
      "text/plain": [
       "[0, 1, 7]"
      ]
     },
     "execution_count": 6,
     "metadata": {},
     "output_type": "execute_result"
    }
   ],
   "source": [
    "import math\n",
    "from itertools import permutations\n",
    "\n",
    "def prime_number(num):\n",
    "    if num == 0 or num == 1:\n",
    "        return False\n",
    "    else:\n",
    "        for i in range(2, int(math.sqrt(num)) + 1):\n",
    "            if num % i == 0:\n",
    "                return False\n",
    "        return True\n",
    "    \n",
    "def solution(numbers):\n",
    "    answer = []\n",
    "    \n",
    "    for i in range(1, len(numbers) + 1):\n",
    "        array = list(permutations(numbers, i))\n",
    "        for j in range(len(array)):\n",
    "            num = int(''.join(map(str,array[j])))\n",
    "            \n",
    "            if prime_number(num):\n",
    "                answer.append(num)\n",
    "    answer = list(set(answer))\n",
    "    return len(answer)"
   ]
  },
  {
   "cell_type": "code",
   "execution_count": 3,
   "metadata": {},
   "outputs": [
    {
     "name": "stdout",
     "output_type": "stream",
     "text": [
      "017 <class 'str'> 17 <class 'int'>\n"
     ]
    }
   ],
   "source": [
    "numbers = \"017\"\n",
    "\n",
    "num = int(numbers)\n",
    "print(numbers, type(numbers),num, type(num))"
   ]
  },
  {
   "cell_type": "code",
   "execution_count": null,
   "metadata": {},
   "outputs": [],
   "source": []
  }
 ],
 "metadata": {
  "kernelspec": {
   "display_name": "Python 3",
   "language": "python",
   "name": "python3"
  },
  "language_info": {
   "codemirror_mode": {
    "name": "ipython",
    "version": 3
   },
   "file_extension": ".py",
   "mimetype": "text/x-python",
   "name": "python",
   "nbconvert_exporter": "python",
   "pygments_lexer": "ipython3",
   "version": "3.8.3"
  }
 },
 "nbformat": 4,
 "nbformat_minor": 4
}
