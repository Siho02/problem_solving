{
 "cells": [
  {
   "cell_type": "markdown",
   "id": "dc1e2b9a",
   "metadata": {},
   "source": [
    "https://programmers.co.kr/learn/courses/30/lessons/12919\n",
    "\n",
    "String형 배열 seoul의 element중 \"Kim\"의 위치 x를 찾아, \"김서방은 x에 있다\"는 String을 반환하는 함수, solution을 완성하세요. seoul에 \"Kim\"은 오직 한 번만 나타나며 잘못된 값이 입력되는 경우는 없습니다."
   ]
  },
  {
   "cell_type": "code",
   "execution_count": 1,
   "id": "5fec13cc",
   "metadata": {},
   "outputs": [],
   "source": [
    "def solution(seoul):\n",
    "    answer = ''\n",
    "    \n",
    "    for i in range(len(seoul)):\n",
    "        if seoul[i] == \"Kim\":\n",
    "            answer = \"김서방은 {}에 있다\". format(i)\n",
    "\n",
    "    return answer"
   ]
  },
  {
   "cell_type": "code",
   "execution_count": 2,
   "id": "62f94910",
   "metadata": {},
   "outputs": [
    {
     "data": {
      "text/plain": [
       "'김서방은 1에 있다'"
      ]
     },
     "execution_count": 2,
     "metadata": {},
     "output_type": "execute_result"
    }
   ],
   "source": [
    "seoul = [\"Jane\", \"Kim\"]\n",
    "\n",
    "solution(seoul)"
   ]
  },
  {
   "cell_type": "code",
   "execution_count": null,
   "id": "0dee5f2a",
   "metadata": {},
   "outputs": [],
   "source": []
  }
 ],
 "metadata": {
  "kernelspec": {
   "display_name": "Python 3",
   "language": "python",
   "name": "python3"
  },
  "language_info": {
   "codemirror_mode": {
    "name": "ipython",
    "version": 3
   },
   "file_extension": ".py",
   "mimetype": "text/x-python",
   "name": "python",
   "nbconvert_exporter": "python",
   "pygments_lexer": "ipython3",
   "version": "3.8.3"
  },
  "toc": {
   "base_numbering": 1,
   "nav_menu": {},
   "number_sections": true,
   "sideBar": true,
   "skip_h1_title": false,
   "title_cell": "Table of Contents",
   "title_sidebar": "Contents",
   "toc_cell": false,
   "toc_position": {},
   "toc_section_display": true,
   "toc_window_display": false
  }
 },
 "nbformat": 4,
 "nbformat_minor": 5
}
