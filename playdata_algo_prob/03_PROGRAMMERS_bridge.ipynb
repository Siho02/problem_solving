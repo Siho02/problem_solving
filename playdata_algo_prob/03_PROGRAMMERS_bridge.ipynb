{
 "cells": [
  {
   "cell_type": "code",
   "execution_count": 1,
   "metadata": {},
   "outputs": [],
   "source": [
    "def solution(bridge_length, weight, truck_weights):\n",
    "    answer = 0 \n",
    "    bridge = [0] * bridge_length   ##다리 위의 차를 나타내는 list\n",
    "    \n",
    "    while bridge : ## 다리 위에 차가 있다면 계속 반복한다\n",
    "        answer += 1 ## 반복때마다 시간을 더해줌\n",
    "        bridge.pop(0) ##다리 위의 첫번째 원소를 꺼낸다\n",
    "        \n",
    "        if truck_weights: #다리를 건너기 전인 트럭이 남아 있다면\n",
    "            if sum(bridge) + truck_weights[0] <= weight: ##다리 위의 트럭과 첫 트럭의 무게 합이 다리의 하중을 견딜 수 있다면\n",
    "                bridge.append(truck_weights.pop(0)) ##트럭이 다리로 진행한다\n",
    "            else:        ## 다리 위의 트럭의 무게와 첫 트럭의 무게가 다리의 하중 capacity를 넘으면\n",
    "                bridge.append(0) ## 트럭은 진행하지 않는다\n",
    "    \n",
    "    return answer\n"
   ]
  },
  {
   "cell_type": "code",
   "execution_count": null,
   "metadata": {},
   "outputs": [],
   "source": []
  }
 ],
 "metadata": {
  "kernelspec": {
   "display_name": "Python 3",
   "language": "python",
   "name": "python3"
  },
  "language_info": {
   "codemirror_mode": {
    "name": "ipython",
    "version": 3
   },
   "file_extension": ".py",
   "mimetype": "text/x-python",
   "name": "python",
   "nbconvert_exporter": "python",
   "pygments_lexer": "ipython3",
   "version": "3.8.3"
  }
 },
 "nbformat": 4,
 "nbformat_minor": 4
}
