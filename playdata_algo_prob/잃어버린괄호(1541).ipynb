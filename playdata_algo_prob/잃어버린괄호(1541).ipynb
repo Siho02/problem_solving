{
 "cells": [
  {
   "cell_type": "markdown",
   "id": "fb45fa82",
   "metadata": {},
   "source": [
    "55 - 50 + 40\n",
    "=> 55 - (50 + 40)\n",
    "\n",
    "35 - 50 + 45 - 15 + 60\n",
    "=> 35 - (50 + 45) - (15 + 60)"
   ]
  },
  {
   "cell_type": "code",
   "execution_count": null,
   "id": "81cd7c88",
   "metadata": {},
   "outputs": [],
   "source": []
  },
  {
   "cell_type": "code",
   "execution_count": 12,
   "id": "cac9e379",
   "metadata": {},
   "outputs": [
    {
     "name": "stdout",
     "output_type": "stream",
     "text": [
      "50-15+50-15+30\n",
      "-60\n"
     ]
    }
   ],
   "source": [
    "\n",
    "string = input().split('-')\n",
    "total = 0\n",
    "\n",
    "for i in string[0].split('+'):\n",
    "    total += int(i)\n",
    "\n",
    "for i in string[1:]:\n",
    "    for j in i.split('+'):\n",
    "        total -= int(j)\n",
    "\n",
    "print(total)"
   ]
  },
  {
   "cell_type": "code",
   "execution_count": 11,
   "id": "81f1abf6",
   "metadata": {},
   "outputs": [
    {
     "name": "stdout",
     "output_type": "stream",
     "text": [
      "-235\n"
     ]
    }
   ],
   "source": [
    "for i in string[0].split('+'):\n",
    "    total += int(i)\n",
    "\n",
    "for i in string[1:]:\n",
    "    for j in i.split('+'):\n",
    "        total -= int(j)\n",
    "\n",
    "print(total)"
   ]
  },
  {
   "cell_type": "code",
   "execution_count": null,
   "id": "44930c05",
   "metadata": {},
   "outputs": [],
   "source": []
  }
 ],
 "metadata": {
  "kernelspec": {
   "display_name": "Python 3",
   "language": "python",
   "name": "python3"
  },
  "language_info": {
   "codemirror_mode": {
    "name": "ipython",
    "version": 3
   },
   "file_extension": ".py",
   "mimetype": "text/x-python",
   "name": "python",
   "nbconvert_exporter": "python",
   "pygments_lexer": "ipython3",
   "version": "3.8.3"
  },
  "toc": {
   "base_numbering": 1,
   "nav_menu": {},
   "number_sections": true,
   "sideBar": true,
   "skip_h1_title": false,
   "title_cell": "Table of Contents",
   "title_sidebar": "Contents",
   "toc_cell": false,
   "toc_position": {},
   "toc_section_display": true,
   "toc_window_display": false
  }
 },
 "nbformat": 4,
 "nbformat_minor": 5
}
