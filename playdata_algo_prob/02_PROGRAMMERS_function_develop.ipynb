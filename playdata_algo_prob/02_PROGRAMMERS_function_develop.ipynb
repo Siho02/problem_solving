{
 "cells": [
  {
   "cell_type": "code",
   "execution_count": 1,
   "metadata": {},
   "outputs": [],
   "source": [
    "def solution(progresses, speeds):\n",
    "    answer = []\n",
    "    \n",
    "    while progresses:\n",
    "        #진행률 더하기\n",
    "        for i in range(len(progresses)):\n",
    "            progresses[i] += speeds[i]\n",
    "        \n",
    "        count = 0\n",
    "    \n",
    "        while progresses and progresses[0] >= 100:\n",
    "            progresses.pop(0)\n",
    "            speeds.pop(0)\n",
    "            count += 1\n",
    "    \n",
    "        if count > 0 :\n",
    "            answer.append(count)\n",
    "    \n",
    "    return answer"
   ]
  },
  {
   "cell_type": "code",
   "execution_count": 4,
   "metadata": {},
   "outputs": [
    {
     "data": {
      "text/plain": [
       "[2, 1]"
      ]
     },
     "execution_count": 4,
     "metadata": {},
     "output_type": "execute_result"
    }
   ],
   "source": [
    "progresses = [93, 30, 55]\n",
    "speeds = [1, 30, 5]\n",
    "solution(progresses, speeds)"
   ]
  },
  {
   "cell_type": "code",
   "execution_count": null,
   "metadata": {},
   "outputs": [],
   "source": []
  }
 ],
 "metadata": {
  "kernelspec": {
   "display_name": "Python 3",
   "language": "python",
   "name": "python3"
  },
  "language_info": {
   "codemirror_mode": {
    "name": "ipython",
    "version": 3
   },
   "file_extension": ".py",
   "mimetype": "text/x-python",
   "name": "python",
   "nbconvert_exporter": "python",
   "pygments_lexer": "ipython3",
   "version": "3.8.3"
  }
 },
 "nbformat": 4,
 "nbformat_minor": 4
}
