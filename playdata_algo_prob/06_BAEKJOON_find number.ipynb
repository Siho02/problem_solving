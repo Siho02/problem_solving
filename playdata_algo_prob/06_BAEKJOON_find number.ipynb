{
 "cells": [
  {
   "cell_type": "markdown",
   "metadata": {},
   "source": [
    "### https://www.acmicpc.net/problem/10816"
   ]
  },
  {
   "cell_type": "code",
   "execution_count": 17,
   "metadata": {},
   "outputs": [
    {
     "name": "stdout",
     "output_type": "stream",
     "text": [
      "5\n",
      "1 3 5 7 9\n",
      "5\n",
      "1 2 3 4 5\n",
      "N_count =  {1: 1, 3: 1, 5: 1, 7: 1, 9: 1}\n",
      "1 0 1 0 1 "
     ]
    }
   ],
   "source": [
    "N = int(input())\n",
    "n_list = list(map(int, input().split()))\n",
    "\n",
    "M = int(input())\n",
    "m_list = list(map(int, input().split()))\n",
    "\n",
    "N_count = {}\n",
    "\n",
    "for data in n_list:\n",
    "    try:\n",
    "        N_count[data] += 1\n",
    "    except:\n",
    "        N_count[data] = 1\n",
    "\n",
    "print('N_count = ', N_count)\n",
    "\n",
    "answer = []\n",
    "for m in m_list:\n",
    "    try: \n",
    "        answer.append((N_count[m]))\n",
    "    except:\n",
    "        answer.append(0)\n",
    "\n",
    "for i in answer:\n",
    "    print(i, end = ' ')\n",
    "\n"
   ]
  },
  {
   "cell_type": "code",
   "execution_count": null,
   "metadata": {},
   "outputs": [],
   "source": [
    "'''    \n",
    "N_count = {}\n",
    "for n in N_list:\n",
    "    try:\n",
    "        N_count[n] += 1\n",
    "    except:\n",
    "        N_count[n] = 1\n",
    "\n",
    "#Dict형식을 이용하면 빠르게 찾을 수 있다\n",
    "answer = []\n",
    "for m in M_list:\n",
    "    try: \n",
    "        answer.append((N_count[m]))\n",
    "    except:\n",
    "        answer.append(0)\n",
    "\n",
    "for i in answer:\n",
    "    print(i, end = ' ')\n",
    "'''"
   ]
  }
 ],
 "metadata": {
  "kernelspec": {
   "display_name": "Python 3",
   "language": "python",
   "name": "python3"
  },
  "language_info": {
   "codemirror_mode": {
    "name": "ipython",
    "version": 3
   },
   "file_extension": ".py",
   "mimetype": "text/x-python",
   "name": "python",
   "nbconvert_exporter": "python",
   "pygments_lexer": "ipython3",
   "version": "3.8.3"
  }
 },
 "nbformat": 4,
 "nbformat_minor": 4
}
