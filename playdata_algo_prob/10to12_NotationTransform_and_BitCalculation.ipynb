{
 "cells": [
  {
   "cell_type": "markdown",
   "metadata": {},
   "source": [
    "### 팩토리얼 진법\n",
    "    https://www.acmicpc.net/problem/5692"
   ]
  },
  {
   "cell_type": "code",
   "execution_count": null,
   "metadata": {},
   "outputs": [],
   "source": [
    "import sys\n",
    "\n",
    "def factorial(n):\n",
    "    return n*factorial(n-1) if n > 0 else 1\n",
    "\n",
    "while 1 :\n",
    "    n = sys.stdin.readline().rstrip()\n",
    "    \n",
    "    if n == '0':\n",
    "        break\n",
    "        \n",
    "    result = 0\n",
    "    \n",
    "    for i in range(1, len(n)+1):\n",
    "        result += int(n[len(n)-i])*factorial(i)\n",
    "    \n",
    "    print(result)"
   ]
  },
  {
   "cell_type": "markdown",
   "metadata": {},
   "source": [
    "### 진법 변환\n",
    "    https://www.acmicpc.net/problem/2745"
   ]
  },
  {
   "cell_type": "code",
   "execution_count": null,
   "metadata": {},
   "outputs": [],
   "source": [
    "# N : 10진법으로 변환하기 전의 숫자(0 ~ 10 & A ~ Z까지 있다)\n",
    "# B : 진법숫자(문자열로 받음)(1~36 사이값)\n",
    "\n",
    "N, B = sys.stdin.readline().split() \n",
    "B = int(B) #진법수는 정수이므로 바로 정수로 바꿔준다\n",
    "\n",
    "count, result = 0, 0     #자릿수를 의미하는 count & 결과값을 넣어줄 result 변수를 선언\n",
    "\n",
    "for i in N[::-1]:         #변환 전의 숫자를 거꾸로 뒤에서부터 읽는다(왜냐면 13 = 3 + 1*10^1)\n",
    "    num = int(i) if i.isdigit() else ord(i)-55         \n",
    "    #만약 변환 전 숫자의 문자가 숫자형태라면 바로 정수 변환, 아니라면 아스키코드 값으로 바꾼후 55를 빼서 A=10, B=11 ... 로 만듦\n",
    "    result += num * (B ** count)\n",
    "    #result에 숫자를 누적하여 더한다\n",
    "    count += 1\n",
    "    # 자릿수는 하나씩 올라감\n",
    "    \n",
    "\n",
    "\n",
    "\n"
   ]
  },
  {
   "cell_type": "markdown",
   "metadata": {},
   "source": [
    "### 비밀지도\n",
    "    https://programmers.co.kr/learn/courses/30/lessons/17681\n",
    "   "
   ]
  },
  {
   "cell_type": "code",
   "execution_count": 21,
   "metadata": {},
   "outputs": [
    {
     "data": {
      "text/plain": [
       "['#####', '# # #', '### #', '#  ##', '#####']"
      ]
     },
     "execution_count": 21,
     "metadata": {},
     "output_type": "execute_result"
    }
   ],
   "source": [
    "def solution(n, arr1, arr2):\n",
    "    answer = []\n",
    "\n",
    "    for i in range(n):\n",
    "        arr1[i] = format(arr1[i], 'b')    # format( , 'b') >> 이진법으로 포맷한다\n",
    "        arr2[i] = format(arr2[i], 'b')\n",
    "        \n",
    "        string = ''\n",
    "        \n",
    "        plus = int(arr1[i]) + int(arr2[i]) # 12111 / 10101 / 21201 / 20011 / 12111\n",
    "        plus = str(plus)\n",
    "        if len(plus) < 5:\n",
    "            plus = '0'*(n - len(plus)) + plus\n",
    "        \n",
    "        for j in plus:\n",
    "            if j == '0':\n",
    "                string += ' '\n",
    "            else:\n",
    "                string += '#'\n",
    "                \n",
    "        answer.append(string)\n",
    "                \n",
    "            \n",
    "    return answer\n"
   ]
  },
  {
   "cell_type": "code",
   "execution_count": 22,
   "metadata": {},
   "outputs": [
    {
     "data": {
      "text/plain": [
       "['######', '###  #', '##  ##', '#### ', '#####', '### # ']"
      ]
     },
     "execution_count": 22,
     "metadata": {},
     "output_type": "execute_result"
    }
   ],
   "source": [
    "arr1 = [46, 33, 33 ,22, 31, 50]\n",
    "arr2 = [27 ,56, 19, 14, 14, 10]\n",
    "solution(6, arr1, arr2)"
   ]
  },
  {
   "cell_type": "code",
   "execution_count": null,
   "metadata": {},
   "outputs": [],
   "source": []
  }
 ],
 "metadata": {
  "kernelspec": {
   "display_name": "Python 3",
   "language": "python",
   "name": "python3"
  },
  "language_info": {
   "codemirror_mode": {
    "name": "ipython",
    "version": 3
   },
   "file_extension": ".py",
   "mimetype": "text/x-python",
   "name": "python",
   "nbconvert_exporter": "python",
   "pygments_lexer": "ipython3",
   "version": "3.8.3"
  },
  "toc": {
   "base_numbering": 1,
   "nav_menu": {},
   "number_sections": true,
   "sideBar": true,
   "skip_h1_title": false,
   "title_cell": "Table of Contents",
   "title_sidebar": "Contents",
   "toc_cell": false,
   "toc_position": {},
   "toc_section_display": true,
   "toc_window_display": false
  }
 },
 "nbformat": 4,
 "nbformat_minor": 4
}
