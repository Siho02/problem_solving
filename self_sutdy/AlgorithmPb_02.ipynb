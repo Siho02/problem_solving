{
 "cells": [
  {
   "cell_type": "markdown",
   "metadata": {},
   "source": [
    "### 키로거 해킹 문제 : https://www.acmicpc.net/problem/5397"
   ]
  },
  {
   "cell_type": "code",
   "execution_count": 3,
   "metadata": {},
   "outputs": [
    {
     "name": "stdout",
     "output_type": "stream",
     "text": [
      "테스트 횟수 입력 : 3\n",
      "비밀번호 입력 : ABC<<23>dff\n",
      "키로그 함수 A23BdffC\n",
      "비밀번호 입력 : ABCD<ab-\n",
      "키로그 함수 ABCaD\n",
      "비밀번호 입력 : GHDE-_1234<<er\n",
      "키로그 함수 GHD_12er34\n"
     ]
    }
   ],
   "source": [
    "# <은 왼쪽 방향키를 의미, >은 오른쪽 방향키를 의미, -은 backspace를 의미\n",
    "\n",
    "test_num = int(input(\"테스트 횟수 입력 : \"))\n",
    "\n",
    "for _ in range(test_num):\n",
    "    pwd = input(\"비밀번호 입력 : \")\n",
    "    check_lst = []\n",
    "    print_lst = []\n",
    "    \n",
    "    for data in pwd :\n",
    "        if data == '-':\n",
    "            print_lst.pop()\n",
    "        elif data == '<':\n",
    "            if print_lst:\n",
    "                check_lst.append(print_lst.pop())\n",
    "        elif data == '>':\n",
    "            if check_lst:\n",
    "                print_lst.append(check_lst.pop())\n",
    "        else:\n",
    "            print_lst.append(data)\n",
    "    \n",
    "    print_lst.extend(reversed(check_lst))\n",
    "    print(\"키로그 함수\", ''.join(print_lst))"
   ]
  },
  {
   "cell_type": "markdown",
   "metadata": {},
   "source": [
    "### SHA-256 : https://www.acmicpc.net/problem/10930"
   ]
  },
  {
   "cell_type": "code",
   "execution_count": 7,
   "metadata": {},
   "outputs": [
    {
     "name": "stdout",
     "output_type": "stream",
     "text": [
      "암호화할 문자열 입력 : cho\n",
      "hexdigest 형식 :  560c48d6c73e72bde5e58cf4acdf867e2ab1600dbc7f805ec5e901c3d367feb4\n",
      "digest 형식 :  b'V\\x0cH\\xd6\\xc7>r\\xbd\\xe5\\xe5\\x8c\\xf4\\xac\\xdf\\x86~*\\xb1`\\r\\xbc\\x7f\\x80^\\xc5\\xe9\\x01\\xc3\\xd3g\\xfe\\xb4'\n"
     ]
    }
   ],
   "source": [
    "import hashlib\n",
    "\n",
    "string = input(\"암호화할 문자열 입력 : \")\n",
    "\n",
    "result = hashlib.sha256(string.encode())\n",
    "\n",
    "print(\"hexdigest 형식 : \", result.hexdigest())\n",
    "print(\"digest 형식 : \",result.digest())"
   ]
  },
  {
   "cell_type": "code",
   "execution_count": null,
   "metadata": {},
   "outputs": [],
   "source": []
  }
 ],
 "metadata": {
  "kernelspec": {
   "display_name": "Python 3",
   "language": "python",
   "name": "python3"
  },
  "language_info": {
   "codemirror_mode": {
    "name": "ipython",
    "version": 3
   },
   "file_extension": ".py",
   "mimetype": "text/x-python",
   "name": "python",
   "nbconvert_exporter": "python",
   "pygments_lexer": "ipython3",
   "version": "3.8.3"
  }
 },
 "nbformat": 4,
 "nbformat_minor": 4
}
