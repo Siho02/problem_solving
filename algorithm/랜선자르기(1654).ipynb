{
 "cells": [
  {
   "cell_type": "code",
   "execution_count": 11,
   "id": "03bf7fed",
   "metadata": {},
   "outputs": [
    {
     "name": "stdout",
     "output_type": "stream",
     "text": [
      "4 11\n",
      "802\n",
      "473\n",
      "743\n",
      "573\n",
      "400\n",
      "400\n",
      "299\n",
      "249\n",
      "224\n",
      "211\n",
      "205\n",
      "202\n",
      "200\n"
     ]
    }
   ],
   "source": [
    "k, n = map(int, input().split())\n",
    "#print(k, n)\n",
    "\n",
    "lan_lst = []\n",
    "\n",
    "for _ in range(k):\n",
    "    lan_lst.append(int(input()))\n",
    "    \n",
    "#print(lan_lst)\n",
    "\n",
    "#이분 탐색을 이용하기 위해 시작 및 끝 값 설정\n",
    "start, end = 1, max(lan_lst)\n",
    "\n",
    "while start <= end:\n",
    "    lines = 0\n",
    "    mid = (start + end) // 2\n",
    "    \n",
    "    for line in lan_lst:\n",
    "        lines += line // mid\n",
    "    \n",
    "    if lines >= n:\n",
    "        #분할해서 만든 숫자가 원하는 숫자보다 크거나 같으므로 start의 값을 올려본다\n",
    "        start = mid + 1\n",
    "    else:\n",
    "        #분할해서 만든 숫자가 원하는 숫자보다 작으므로 end의 값을 줄여서 lines를 확보해야 한다\n",
    "        end = mid - 1\n",
    "    print(end)"
   ]
  },
  {
   "cell_type": "code",
   "execution_count": null,
   "id": "6d53738d",
   "metadata": {},
   "outputs": [],
   "source": []
  }
 ],
 "metadata": {
  "kernelspec": {
   "display_name": "Python 3",
   "language": "python",
   "name": "python3"
  },
  "language_info": {
   "codemirror_mode": {
    "name": "ipython",
    "version": 3
   },
   "file_extension": ".py",
   "mimetype": "text/x-python",
   "name": "python",
   "nbconvert_exporter": "python",
   "pygments_lexer": "ipython3",
   "version": "3.8.3"
  },
  "toc": {
   "base_numbering": 1,
   "nav_menu": {},
   "number_sections": true,
   "sideBar": true,
   "skip_h1_title": false,
   "title_cell": "Table of Contents",
   "title_sidebar": "Contents",
   "toc_cell": false,
   "toc_position": {},
   "toc_section_display": true,
   "toc_window_display": false
  }
 },
 "nbformat": 4,
 "nbformat_minor": 5
}
