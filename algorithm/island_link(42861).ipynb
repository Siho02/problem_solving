{
 "cells": [
  {
   "cell_type": "code",
   "execution_count": 1,
   "id": "213b6c8d",
   "metadata": {},
   "outputs": [
    {
     "data": {
      "text/plain": [
       "[[0, 1, 1], [0, 2, 2], [1, 2, 5], [1, 3, 1], [2, 3, 8]]"
      ]
     },
     "execution_count": 1,
     "metadata": {},
     "output_type": "execute_result"
    }
   ],
   "source": [
    "N = 4\n",
    "link_cost = [[0,1,1],[0,2,2],[1,2,5],[1,3,1],[2,3,8]]\n",
    "\n",
    "link_cost"
   ]
  },
  {
   "cell_type": "code",
   "execution_count": 31,
   "id": "6f467ad3",
   "metadata": {},
   "outputs": [],
   "source": [
    "def solution(n, costs):\n",
    "    answer = 0 \n",
    "    costs = sorted(costs, key = lambda x : x[2])\n",
    "    \n",
    "    new_lst = []\n",
    "    for x,y,cost in costs:\n",
    "        print([x, y, cost])\n",
    "        \n",
    "        if (x not in new_lst) and (y not in new_lst):\n",
    "            print(f'{x} and {y} is linked')\n",
    "            answer += cost\n",
    "            new_lst.append(x)\n",
    "            new_lst.append(y)\n",
    "            print('cost =',answer)\n",
    "        elif (x in new_lst) and (y not in new_lst):\n",
    "            print(f'{y} is linked with other islands')\n",
    "            answer += cost\n",
    "            new_lst.append(y)\n",
    "        elif (x not in new_lst) and (y in new_lst):\n",
    "            print(f'{x} is linked with other islands')\n",
    "            answer += cost\n",
    "            new_lst.append(x)\n",
    "        else:\n",
    "            pass\n",
    "        \n",
    "    print(new_lst)\n",
    "    #costs\n",
    "    #costs = sorted(costs, key = lambda x : x[2])\n",
    "    return answer"
   ]
  },
  {
   "cell_type": "code",
   "execution_count": 32,
   "id": "4dc1b537",
   "metadata": {},
   "outputs": [
    {
     "name": "stdout",
     "output_type": "stream",
     "text": [
      "[0, 4, 1]\n",
      "0 and 4 is linked\n",
      "cost = 1\n",
      "[1, 3, 1]\n",
      "1 and 3 is linked\n",
      "cost = 2\n",
      "[2, 4, 2]\n",
      "2 is linked with other islands\n",
      "[0, 2, 3]\n",
      "[2, 3, 4]\n",
      "[0, 1, 5]\n",
      "[3, 4, 7]\n",
      "[0, 4, 1, 3, 2]\n"
     ]
    },
    {
     "data": {
      "text/plain": [
       "4"
      ]
     },
     "execution_count": 32,
     "metadata": {},
     "output_type": "execute_result"
    }
   ],
   "source": [
    "solution(N, link_cost)"
   ]
  },
  {
   "cell_type": "code",
   "execution_count": 34,
   "id": "1f439f1d",
   "metadata": {},
   "outputs": [
    {
     "name": "stdout",
     "output_type": "stream",
     "text": [
      "[0, 4, 1]\n",
      "0 and 4 is linked\n",
      "cost = 1\n",
      "[1, 3, 1]\n",
      "1 and 3 is linked\n",
      "cost = 2\n",
      "[2, 4, 2]\n",
      "2 is linked with other islands\n",
      "[0, 2, 3]\n",
      "[2, 3, 4]\n",
      "[0, 1, 5]\n",
      "[3, 4, 7]\n",
      "[0, 4, 1, 3, 2]\n"
     ]
    },
    {
     "data": {
      "text/plain": [
       "4"
      ]
     },
     "execution_count": 34,
     "metadata": {},
     "output_type": "execute_result"
    }
   ],
   "source": [
    "N = 5\n",
    "link_cost = [[0,1,5], [0,4,1], [0,2,3], [1,3,1], [2,4,2],[2,3,4], [3,4,7]]\n",
    "\n",
    "solution(N, link_cost)"
   ]
  },
  {
   "cell_type": "code",
   "execution_count": 35,
   "id": "cb60743e",
   "metadata": {},
   "outputs": [],
   "source": [
    "def solution2(n, costs):\n",
    "    answer = 0 \n",
    "    costs = sorted(costs, key = lambda x : x[2])\n",
    "    print(costs)"
   ]
  },
  {
   "cell_type": "code",
   "execution_count": 36,
   "id": "20ef714c",
   "metadata": {},
   "outputs": [
    {
     "name": "stdout",
     "output_type": "stream",
     "text": [
      "[[0, 4, 1], [1, 3, 1], [2, 4, 2], [0, 2, 3], [2, 3, 4], [0, 1, 5], [3, 4, 7]]\n"
     ]
    }
   ],
   "source": [
    "N = 5\n",
    "link_cost = [[0,1,5], [0,4,1], [0,2,3], [1,3,1], [2,4,2],[2,3,4], [3,4,7]]\n",
    "\n",
    "solution2(N, link_cost)"
   ]
  },
  {
   "cell_type": "code",
   "execution_count": 38,
   "id": "e2904ac9",
   "metadata": {},
   "outputs": [
    {
     "name": "stdout",
     "output_type": "stream",
     "text": [
      "[0, 1, 1]\n",
      "0 and 1 is linked\n",
      "cost = 1\n",
      "[0, 2, 1]\n",
      "2 is linked with other islands\n",
      "[5, 2, 1]\n",
      "5 is linked with other islands\n",
      "[2, 4, 1]\n",
      "4 is linked with other islands\n",
      "[1, 4, 2]\n",
      "[3, 2, 2]\n",
      "3 is linked with other islands\n",
      "[5, 0, 3]\n",
      "[3, 4, 3]\n",
      "[5, 3, 3]\n",
      "[0, 1, 2, 5, 4, 3]\n"
     ]
    },
    {
     "data": {
      "text/plain": [
       "6"
      ]
     },
     "execution_count": 38,
     "metadata": {},
     "output_type": "execute_result"
    }
   ],
   "source": [
    "N = 6\n",
    "link_cost = [[0,1,1], [0,2,1], [5,0,3], [1,4,2], [5,2,1], [2,4,1], [3,2,2], [3,4,3], [5,3,3]]\n",
    "\n",
    "solution(N, link_cost)"
   ]
  },
  {
   "cell_type": "code",
   "execution_count": 71,
   "id": "047d664f",
   "metadata": {},
   "outputs": [],
   "source": [
    "def solution(n, costs):\n",
    "    answer = 0\n",
    "    costs.sort(key = lambda x : x[2])\n",
    "    linked = set([costs[0][0]])\n",
    "    #print(linked)\n",
    "    \n",
    "    while len(linked) != n:\n",
    "        for cost in costs:\n",
    "            if cost[0] in linked and cost[1] in linked:\n",
    "                continue\n",
    "            if cost[0] in linked or cost[1] in linked:\n",
    "                linked.update([cost[0], cost[1]])\n",
    "                answer += cost[2]\n",
    "                break\n",
    "    return answer"
   ]
  },
  {
   "cell_type": "code",
   "execution_count": 72,
   "id": "d8b87ab6",
   "metadata": {},
   "outputs": [
    {
     "name": "stdout",
     "output_type": "stream",
     "text": [
      "{0}\n"
     ]
    },
    {
     "data": {
      "text/plain": [
       "4"
      ]
     },
     "execution_count": 72,
     "metadata": {},
     "output_type": "execute_result"
    }
   ],
   "source": [
    "N = 4\n",
    "link_cost = [[0,1,1],[0,2,2],[1,2,5],[1,3,1],[2,3,8]]\n",
    "\n",
    "solution(N, link_cost)"
   ]
  },
  {
   "cell_type": "code",
   "execution_count": null,
   "id": "411be7aa",
   "metadata": {},
   "outputs": [],
   "source": []
  }
 ],
 "metadata": {
  "kernelspec": {
   "display_name": "Python 3",
   "language": "python",
   "name": "python3"
  },
  "language_info": {
   "codemirror_mode": {
    "name": "ipython",
    "version": 3
   },
   "file_extension": ".py",
   "mimetype": "text/x-python",
   "name": "python",
   "nbconvert_exporter": "python",
   "pygments_lexer": "ipython3",
   "version": "3.8.3"
  },
  "toc": {
   "base_numbering": 1,
   "nav_menu": {},
   "number_sections": true,
   "sideBar": true,
   "skip_h1_title": false,
   "title_cell": "Table of Contents",
   "title_sidebar": "Contents",
   "toc_cell": false,
   "toc_position": {},
   "toc_section_display": true,
   "toc_window_display": false
  }
 },
 "nbformat": 4,
 "nbformat_minor": 5
}
