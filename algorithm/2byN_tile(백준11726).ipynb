{
 "cells": [
  {
   "cell_type": "markdown",
   "id": "4b670992",
   "metadata": {},
   "source": [
    "https://www.acmicpc.net/problem/11726"
   ]
  },
  {
   "cell_type": "code",
   "execution_count": 10,
   "id": "0f27ce7e",
   "metadata": {},
   "outputs": [
    {
     "name": "stdout",
     "output_type": "stream",
     "text": [
      "55\n"
     ]
    }
   ],
   "source": [
    "N = int(input())\n",
    "\n",
    "def solution(N):\n",
    "    if N <= 3:\n",
    "        return N % 10007\n",
    "    else:\n",
    "        return (solution(N-1) + solution(N-2)) % 10007\n",
    "    \n",
    "print(solution(N))\n",
    "        "
   ]
  },
  {
   "cell_type": "code",
   "execution_count": 11,
   "id": "6915a04f",
   "metadata": {},
   "outputs": [
    {
     "name": "stdout",
     "output_type": "stream",
     "text": [
      "55\n"
     ]
    }
   ],
   "source": [
    "N = int(input())\n",
    "\n",
    "def solution(N):\n",
    "    lst = [0 for index in range(N+1)]\n",
    "    for idx in range(N+1):\n",
    "        if idx <= 3:\n",
    "            lst[idx] = idx % 10007\n",
    "        else:\n",
    "            lst[idx] = (lst[idx-1] + lst[idx-2]) % 10007\n",
    "    return lst[N]\n",
    "\n",
    "print(solution(N))"
   ]
  },
  {
   "cell_type": "code",
   "execution_count": null,
   "id": "48658719",
   "metadata": {},
   "outputs": [],
   "source": []
  }
 ],
 "metadata": {
  "kernelspec": {
   "display_name": "Python 3",
   "language": "python",
   "name": "python3"
  },
  "language_info": {
   "codemirror_mode": {
    "name": "ipython",
    "version": 3
   },
   "file_extension": ".py",
   "mimetype": "text/x-python",
   "name": "python",
   "nbconvert_exporter": "python",
   "pygments_lexer": "ipython3",
   "version": "3.8.3"
  },
  "toc": {
   "base_numbering": 1,
   "nav_menu": {},
   "number_sections": true,
   "sideBar": true,
   "skip_h1_title": false,
   "title_cell": "Table of Contents",
   "title_sidebar": "Contents",
   "toc_cell": false,
   "toc_position": {},
   "toc_section_display": true,
   "toc_window_display": false
  }
 },
 "nbformat": 4,
 "nbformat_minor": 5
}
