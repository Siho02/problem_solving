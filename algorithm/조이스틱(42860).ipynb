{
 "cells": [
  {
   "cell_type": "markdown",
   "id": "e73ce880",
   "metadata": {},
   "source": [
    "https://programmers.co.kr/learn/courses/30/lessons/42860\n",
    "    \n",
    " - 조이스틱으로 알파벳 이름을 완성하세요. 맨 처음엔 A로만 이루어져 있습니다.\n",
    "     - 완성해야 하는 이름이 세 글자면 AAA, 네 글자면 AAAA\n",
    "\n",
    " - 조이스틱을 각 방향으로 움직이면 아래와 같습니다.\n",
    "     - ▲ : 다음 알파벳\n",
    "     - ▼ : 이전 알파벳 (A에서 아래쪽으로 이동하면 Z로)\n",
    "     - ◀ : 커서를 왼쪽으로 이동 (첫 번째 위치에서 왼쪽으로 이동하면 마지막 문자에 커서)\n",
    "     - ▶ : 커서를 오른쪽으로 이동\n",
    "     \n",
    " - 예를 들어 아래의 방법으로 \"JAZ\"를 만들 수 있습니다.\n",
    "     - 첫 번째 위치에서 조이스틱을 위로 9번 조작하여 J를 완성합니다.\n",
    "     - 조이스틱을 왼쪽으로 1번 조작하여 커서를 마지막 문자 위치로 이동시킵니다.\n",
    "     - 마지막 위치에서 조이스틱을 아래로 1번 조작하여 Z를 완성합니다.\n",
    " - 따라서 11번 이동시켜 \"JAZ\"를 만들 수 있고, 이때가 최소 이동입니다.\n",
    " \n",
    " - 입출력 예\n",
    "     - \"JEROEN\"\t56(J(9) + E(4) + R(9) + O(12) + E(4) + N(13)\n",
    "     - \"JAN\"\t23\n",
    "     - \"JAAN\"   23\n",
    "     - \"JANAAN\" 9+13+13+4 / 9+13+13+5"
   ]
  },
  {
   "cell_type": "code",
   "execution_count": 28,
   "id": "2c09f28b",
   "metadata": {},
   "outputs": [],
   "source": [
    "def solution(name):\n",
    "    answer = 0\n",
    "    for i, char in enumerate(name):\n",
    "        answer += min(ord(char) - ord('A'), ord('Z') - ord(char) + 1)\n",
    "    \n",
    "        next_i = i + 1\n",
    "        while next_i < len(name) and name[next_i] == 'A':\n",
    "            next_i += 1\n",
    "        \n",
    "        \n",
    "        \n",
    "    \n",
    "    return answer"
   ]
  },
  {
   "cell_type": "code",
   "execution_count": 29,
   "id": "9b4d405c",
   "metadata": {},
   "outputs": [
    {
     "name": "stdout",
     "output_type": "stream",
     "text": [
      "0 J\n",
      "1 A\n",
      "2 N\n"
     ]
    },
    {
     "data": {
      "text/plain": [
       "0"
      ]
     },
     "execution_count": 29,
     "metadata": {},
     "output_type": "execute_result"
    }
   ],
   "source": [
    "solution('JAN')"
   ]
  },
  {
   "cell_type": "code",
   "execution_count": 23,
   "id": "16671ee2",
   "metadata": {},
   "outputs": [
    {
     "name": "stdout",
     "output_type": "stream",
     "text": [
      "J 9\n",
      "E 4\n",
      "R 9\n",
      "O 12\n",
      "E 4\n",
      "N 13\n",
      "count_A :  0\n",
      "A없음\n"
     ]
    },
    {
     "data": {
      "text/plain": [
       "56"
      ]
     },
     "execution_count": 23,
     "metadata": {},
     "output_type": "execute_result"
    }
   ],
   "source": [
    "solution('JEROEN')"
   ]
  },
  {
   "cell_type": "code",
   "execution_count": 7,
   "id": "f71a47e9",
   "metadata": {},
   "outputs": [
    {
     "data": {
      "text/plain": [
       "(65, 74, 90, 77, 78, 82)"
      ]
     },
     "execution_count": 7,
     "metadata": {},
     "output_type": "execute_result"
    }
   ],
   "source": [
    "ord('A'), ord('J'),ord('Z'), ord('M'), ord('N'), ord('R')"
   ]
  },
  {
   "cell_type": "code",
   "execution_count": 4,
   "id": "06089f10",
   "metadata": {},
   "outputs": [
    {
     "data": {
      "text/plain": [
       "(17, 8)"
      ]
     },
     "execution_count": 4,
     "metadata": {},
     "output_type": "execute_result"
    }
   ],
   "source": [
    "ord('R') - ord('A'), ord('Z') - ord('R')"
   ]
  },
  {
   "cell_type": "code",
   "execution_count": null,
   "id": "3174a7c8",
   "metadata": {},
   "outputs": [],
   "source": [
    "ABCDEFGHIJKLMNOPQRSTUVWXYZ"
   ]
  },
  {
   "cell_type": "code",
   "execution_count": 27,
   "id": "376fd2b6",
   "metadata": {},
   "outputs": [
    {
     "name": "stdout",
     "output_type": "stream",
     "text": [
      "0 j\n",
      "1 o\n",
      "2 i\n",
      "3 n\n"
     ]
    }
   ],
   "source": [
    "for i, char in enumerate('join'):\n",
    "    print(i, char)"
   ]
  },
  {
   "cell_type": "markdown",
   "id": "4dfc86a8",
   "metadata": {},
   "source": [
    "'AABAAAAACD'\n",
    "  >>>>>>>>>\n",
    "  >><<<<"
   ]
  }
 ],
 "metadata": {
  "kernelspec": {
   "display_name": "Python 3",
   "language": "python",
   "name": "python3"
  },
  "language_info": {
   "codemirror_mode": {
    "name": "ipython",
    "version": 3
   },
   "file_extension": ".py",
   "mimetype": "text/x-python",
   "name": "python",
   "nbconvert_exporter": "python",
   "pygments_lexer": "ipython3",
   "version": "3.8.3"
  },
  "toc": {
   "base_numbering": 1,
   "nav_menu": {},
   "number_sections": true,
   "sideBar": true,
   "skip_h1_title": false,
   "title_cell": "Table of Contents",
   "title_sidebar": "Contents",
   "toc_cell": false,
   "toc_position": {},
   "toc_section_display": true,
   "toc_window_display": false
  }
 },
 "nbformat": 4,
 "nbformat_minor": 5
}
