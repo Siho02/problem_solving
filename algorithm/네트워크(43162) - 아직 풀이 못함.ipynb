{
 "cells": [
  {
   "cell_type": "markdown",
   "id": "4267293f",
   "metadata": {},
   "source": [
    "네트워크란 컴퓨터 상호 간에 정보를 교환할 수 있도록 연결된 형태를 의미합니다. 예를 들어, 컴퓨터 A와 컴퓨터 B가 직접적으로 연결되어있고, 컴퓨터 B와 컴퓨터 C가 직접적으로 연결되어 있을 때 컴퓨터 A와 컴퓨터 C도 간접적으로 연결되어 정보를 교환할 수 있습니다. 따라서 컴퓨터 A, B, C는 모두 같은 네트워크 상에 있다고 할 수 있습니다.\n",
    "\n",
    "컴퓨터의 개수 n, 연결에 대한 정보가 담긴 2차원 배열 computers가 매개변수로 주어질 때, 네트워크의 개수를 return 하도록 solution 함수를 작성하시오.\n",
    "\n",
    "제한사항\n",
    " - 컴퓨터의 개수 n은 1 이상 200 이하인 자연수입니다.\n",
    " - 각 컴퓨터는 0부터 n-1인 정수로 표현합니다.\n",
    " - i번 컴퓨터와 j번 컴퓨터가 연결되어 있으면 computers[i][j]를 1로 표현합니다.\n",
    " - computer[i][i]는 항상 1입니다."
   ]
  },
  {
   "cell_type": "code",
   "execution_count": 76,
   "id": "e535906b",
   "metadata": {},
   "outputs": [],
   "source": [
    "def dfs(n, computers, start, visited):\n",
    "    visited[start] = True\n",
    "    print(f'start = {start}, visited = {visited}')\n",
    "    for i in range(n):\n",
    "        if visited[i] == False and computers[start][i] == 1:\n",
    "            visited = dfs(n, computers, i, visited)\n",
    "            \n",
    "    return visited\n",
    "            \n",
    "\n",
    "def solution(n, computers):\n",
    "    visited = [False] * n\n",
    "    answer = 0\n",
    "    \n",
    "    for start in range(n):\n",
    "        if visited[start] == False:\n",
    "            print(visited)\n",
    "            dfs(n, computers, start, visited)\n",
    "            print('+1')\n",
    "            answer += 1\n",
    "    return answer"
   ]
  },
  {
   "cell_type": "code",
   "execution_count": 77,
   "id": "2e84b36d",
   "metadata": {},
   "outputs": [
    {
     "name": "stdout",
     "output_type": "stream",
     "text": [
      "[False, False, False]\n",
      "start = 0, visited = [True, False, False]\n",
      "start = 1, visited = [True, True, False]\n",
      "+1\n",
      "[True, True, False]\n",
      "start = 2, visited = [True, True, True]\n",
      "+1\n"
     ]
    },
    {
     "data": {
      "text/plain": [
       "2"
      ]
     },
     "execution_count": 77,
     "metadata": {},
     "output_type": "execute_result"
    }
   ],
   "source": [
    "n = 3\n",
    "computers = [[1, 1, 0], [1, 1, 0], [0, 0, 1]]\n",
    "solution(n, computers)\n",
    "# return = 2"
   ]
  },
  {
   "cell_type": "code",
   "execution_count": 52,
   "id": "bba68c91",
   "metadata": {},
   "outputs": [
    {
     "data": {
      "text/plain": [
       "1"
      ]
     },
     "execution_count": 52,
     "metadata": {},
     "output_type": "execute_result"
    }
   ],
   "source": [
    "n = 3\n",
    "computers = [[1, 1, 0], [1, 1, 1], [0, 1, 1]]\n",
    "solution(n, computers)\n",
    "# return = 1"
   ]
  },
  {
   "cell_type": "code",
   "execution_count": 15,
   "id": "14d97d17",
   "metadata": {},
   "outputs": [
    {
     "data": {
      "text/plain": [
       "[[]]"
      ]
     },
     "execution_count": 15,
     "metadata": {},
     "output_type": "execute_result"
    }
   ],
   "source": [
    "lst = []\n",
    "lst"
   ]
  },
  {
   "cell_type": "code",
   "execution_count": 68,
   "id": "75a9bb50",
   "metadata": {},
   "outputs": [],
   "source": [
    "def network(n, computers):\n",
    "    answer = 0\n",
    "    answer_set = {}\n",
    "    for i in range(n):\n",
    "        for j in range(i, n):\n",
    "            print(f'computers[{i}][{j}] = ', computers[i][j])\n",
    "            if computers[i][j] == 1:\n",
    "                \n",
    "                \n",
    "    \n",
    "    \n",
    "    \n",
    "    \n",
    "    \n",
    "    return answer"
   ]
  },
  {
   "cell_type": "code",
   "execution_count": 69,
   "id": "c6cd0755",
   "metadata": {},
   "outputs": [
    {
     "name": "stdout",
     "output_type": "stream",
     "text": [
      "computers[0][0] =  1\n",
      "computers[0][1] =  1\n",
      "computers[0][2] =  0\n",
      "computers[1][1] =  1\n",
      "computers[1][2] =  0\n",
      "computers[2][2] =  1\n"
     ]
    },
    {
     "data": {
      "text/plain": [
       "0"
      ]
     },
     "execution_count": 69,
     "metadata": {},
     "output_type": "execute_result"
    }
   ],
   "source": [
    "n = 3\n",
    "computers = [[1, 1, 0], [1, 1, 0], [0, 0, 1]]\n",
    "\n",
    "network(n, computers)"
   ]
  },
  {
   "cell_type": "code",
   "execution_count": null,
   "id": "14c76c8d",
   "metadata": {},
   "outputs": [],
   "source": []
  },
  {
   "cell_type": "code",
   "execution_count": null,
   "id": "042da1f7",
   "metadata": {},
   "outputs": [],
   "source": []
  }
 ],
 "metadata": {
  "kernelspec": {
   "display_name": "Python 3",
   "language": "python",
   "name": "python3"
  },
  "language_info": {
   "codemirror_mode": {
    "name": "ipython",
    "version": 3
   },
   "file_extension": ".py",
   "mimetype": "text/x-python",
   "name": "python",
   "nbconvert_exporter": "python",
   "pygments_lexer": "ipython3",
   "version": "3.8.3"
  },
  "toc": {
   "base_numbering": 1,
   "nav_menu": {},
   "number_sections": true,
   "sideBar": true,
   "skip_h1_title": false,
   "title_cell": "Table of Contents",
   "title_sidebar": "Contents",
   "toc_cell": false,
   "toc_position": {},
   "toc_section_display": true,
   "toc_window_display": false
  }
 },
 "nbformat": 4,
 "nbformat_minor": 5
}
