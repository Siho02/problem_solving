{
 "cells": [
  {
   "cell_type": "markdown",
   "id": "442d621e",
   "metadata": {},
   "source": [
    "어떤 문장의 각 알파벳을 일정한 거리만큼 밀어서 다른 알파벳으로 바꾸는 암호화 방식을 시저 암호라고 합니다. 예를 들어 \"AB\"는 1만큼 밀면 \"BC\"가 되고, 3만큼 밀면 \"DE\"가 됩니다. \"z\"는 1만큼 밀면 \"a\"가 됩니다. 문자열 s와 거리 n을 입력받아 s를 n만큼 민 암호문을 만드는 함수, solution을 완성해 보세요\n",
    "\n",
    "제한 조건\n",
    " - 공백은 아무리 밀어도 공백입니다.\n",
    " - s는 알파벳 소문자, 대문자, 공백으로만 이루어져 있습니다.\n",
    " - s의 길이는 8000이하입니다.\n",
    " - n은 1 이상, 25이하인 자연수입니다.\n",
    "\n"
   ]
  },
  {
   "cell_type": "code",
   "execution_count": 60,
   "id": "665feab2",
   "metadata": {},
   "outputs": [],
   "source": [
    "def solution(s, n):\n",
    "    # 97 ~ 122 : a ~ z\n",
    "    # 65 ~ 90 : A ~ Z\n",
    "    # 32 : 공백\n",
    "    answer = ''\n",
    "    for char in s:\n",
    "        num = ord(char)\n",
    "        if num == 32:\n",
    "            answer += ' '\n",
    "            \n",
    "        elif num in range(65, 91) :\n",
    "            new_num = num + n\n",
    "            if new_num > 90:\n",
    "                new_num = new_num - 26\n",
    "            answer += chr(new_num)\n",
    "             \n",
    "        elif num in range(97, 123):\n",
    "            new_num = num + n\n",
    "            if new_num > 122:\n",
    "                new_num = new_num - 26\n",
    "            answer += chr(new_num)\n",
    "    print(answer)"
   ]
  },
  {
   "cell_type": "code",
   "execution_count": 61,
   "id": "e10c706b",
   "metadata": {},
   "outputs": [
    {
     "name": "stdout",
     "output_type": "stream",
     "text": [
      "khoor L dp wdhln\n"
     ]
    }
   ],
   "source": [
    "solution('hello I am taeik', 3)"
   ]
  },
  {
   "cell_type": "code",
   "execution_count": 62,
   "id": "a0d726f1",
   "metadata": {},
   "outputs": [
    {
     "name": "stdout",
     "output_type": "stream",
     "text": [
      "cC\n"
     ]
    }
   ],
   "source": [
    "solution('zZ', 3)"
   ]
  },
  {
   "cell_type": "code",
   "execution_count": 47,
   "id": "2277f39e",
   "metadata": {},
   "outputs": [
    {
     "data": {
      "text/plain": [
       "(97, 98, 99, 122)"
      ]
     },
     "execution_count": 47,
     "metadata": {},
     "output_type": "execute_result"
    }
   ],
   "source": [
    "ord('a'), ord('b'), ord('c'), ord('z')"
   ]
  },
  {
   "cell_type": "code",
   "execution_count": 6,
   "id": "5313f507",
   "metadata": {},
   "outputs": [
    {
     "data": {
      "text/plain": [
       "(65, 90, 32)"
      ]
     },
     "execution_count": 6,
     "metadata": {},
     "output_type": "execute_result"
    }
   ],
   "source": [
    "ord('A'), ord('Z'),ord(' ')"
   ]
  },
  {
   "cell_type": "code",
   "execution_count": 7,
   "id": "87cf79b6",
   "metadata": {},
   "outputs": [
    {
     "data": {
      "text/plain": [
       "'a'"
      ]
     },
     "execution_count": 7,
     "metadata": {},
     "output_type": "execute_result"
    }
   ],
   "source": [
    "chr(97)"
   ]
  },
  {
   "cell_type": "code",
   "execution_count": 42,
   "id": "9b64fffe",
   "metadata": {},
   "outputs": [
    {
     "data": {
      "text/plain": [
       "28"
      ]
     },
     "execution_count": 42,
     "metadata": {},
     "output_type": "execute_result"
    }
   ],
   "source": [
    "93 % 65"
   ]
  },
  {
   "cell_type": "code",
   "execution_count": 43,
   "id": "2209837c",
   "metadata": {},
   "outputs": [
    {
     "data": {
      "text/plain": [
       "93"
      ]
     },
     "execution_count": 43,
     "metadata": {},
     "output_type": "execute_result"
    }
   ],
   "source": [
    "28 + 65 "
   ]
  },
  {
   "cell_type": "code",
   "execution_count": null,
   "id": "27b40153",
   "metadata": {},
   "outputs": [],
   "source": []
  }
 ],
 "metadata": {
  "kernelspec": {
   "display_name": "Python 3",
   "language": "python",
   "name": "python3"
  },
  "language_info": {
   "codemirror_mode": {
    "name": "ipython",
    "version": 3
   },
   "file_extension": ".py",
   "mimetype": "text/x-python",
   "name": "python",
   "nbconvert_exporter": "python",
   "pygments_lexer": "ipython3",
   "version": "3.8.3"
  },
  "toc": {
   "base_numbering": 1,
   "nav_menu": {},
   "number_sections": true,
   "sideBar": true,
   "skip_h1_title": false,
   "title_cell": "Table of Contents",
   "title_sidebar": "Contents",
   "toc_cell": false,
   "toc_position": {},
   "toc_section_display": true,
   "toc_window_display": false
  }
 },
 "nbformat": 4,
 "nbformat_minor": 5
}
