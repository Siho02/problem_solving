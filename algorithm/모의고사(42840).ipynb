{
 "cells": [
  {
   "cell_type": "markdown",
   "id": "a5c278cc",
   "metadata": {},
   "source": [
    "https://programmers.co.kr/learn/courses/30/lessons/42840\n",
    "\n",
    "수포자는 수학을 포기한 사람의 준말입니다. 수포자 삼인방은 모의고사에 수학 문제를 전부 찍으려 합니다. 수포자는 1번 문제부터 마지막 문제까지 다음과 같이 찍습니다.\n",
    "\n",
    "1번 수포자가 찍는 방식: 1, 2, 3, 4, 5, 1, 2, 3, 4, 5, ...\n",
    "2번 수포자가 찍는 방식: 2, 1, 2, 3, 2, 4, 2, 5, 2, 1, 2, 3, 2, 4, 2, 5, ...\n",
    "3번 수포자가 찍는 방식: 3, 3, 1, 1, 2, 2, 4, 4, 5, 5, 3, 3, 1, 1, 2, 2, 4, 4, 5, 5, ...\n",
    "\n",
    "1번 문제부터 마지막 문제까지의 정답이 순서대로 들은 배열 answers가 주어졌을 때, 가장 많은 문제를 맞힌 사람이 누구인지 배열에 담아 return 하도록 solution 함수를 작성해주세요.\n",
    "\n",
    "제한 조건\n",
    " - 시험은 최대 10,000 문제로 구성되어있습니다.\n",
    " - 문제의 정답은 1, 2, 3, 4, 5중 하나입니다.\n",
    " - 가장 높은 점수를 받은 사람이 여럿일 경우, return하는 값을 오름차순 정렬해주세요.\n",
    " \n",
    "answers\treturn\n",
    "\n",
    "[1,2,3,4,5]\t[1]\n",
    "\n",
    "[1,3,2,4,2]\t[1,2,3]"
   ]
  },
  {
   "cell_type": "code",
   "execution_count": 3,
   "id": "1d8ffccb",
   "metadata": {},
   "outputs": [],
   "source": [
    "# answers = 1, 2, 3, 4, 5\n",
    "# 수포자1 = 1, 2, 3, 4, 5\n",
    "# 수포자2 = 2, 1, 2, 2, 2\n",
    "# 수포자3 = 3, 3, 1, 1, 2\n",
    "\n",
    "# answers = 1, 3, 2, 4, 2\n",
    "# 수포자1 = 1, 2, 3, 4, 5\n",
    "# 수포자2 = 2, 1, 2, 2, 2\n",
    "# 수포자3 = 3, 3, 1, 1, 2\n",
    "\n",
    "p1 = [1, 2, 3, 4, 5] * 2000\n",
    "p2 = [2, 1, 2, 3, 2, 4, 2, 5] * 1250\n",
    "p3 = [3, 3, 1, 1, 2, 2, 4, 4, 5, 5] * 1000"
   ]
  },
  {
   "cell_type": "code",
   "execution_count": 26,
   "id": "d4060ed8",
   "metadata": {},
   "outputs": [],
   "source": [
    "def solutions(answers):\n",
    "    p1 = [1, 2, 3, 4, 5] * 2000\n",
    "    p2 = [2, 1, 2, 3, 2, 4, 2, 5] * 1250\n",
    "    p3 = [3, 3, 1, 1, 2, 2, 4, 4, 5, 5] * 1000\n",
    "    answer = []\n",
    "    \n",
    "    p1 = p1[:len(answers)]\n",
    "    p2 = p2[:len(answers)]\n",
    "    p3 = p3[:len(answers)]\n",
    "    \n",
    "    a1 = []\n",
    "    a2 = []\n",
    "    a3 = []\n",
    "    \n",
    "    for idx in range(len(answers)):\n",
    "        if p1[idx] == answers[idx]:\n",
    "            a1.append(p1[idx])\n",
    "        if p2[idx] == answers[idx]:\n",
    "            a2.append(p2[idx])\n",
    "        if p3[idx] == answers[idx]:\n",
    "            a3.append(p3[idx])\n",
    "            \n",
    "    max_len = max(len(a1), len(a2), len(a3))\n",
    "    \n",
    "    if len(a1) == max_len:\n",
    "        answer.append(1)\n",
    "    if len(a2) == max_len:\n",
    "        answer.append(2)\n",
    "    if len(a3) == max_len:\n",
    "        answer.append(3)\n",
    "    \n",
    "    return answer\n",
    "\n",
    "\n"
   ]
  },
  {
   "cell_type": "code",
   "execution_count": 27,
   "id": "57e79008",
   "metadata": {},
   "outputs": [
    {
     "data": {
      "text/plain": [
       "[1]"
      ]
     },
     "execution_count": 27,
     "metadata": {},
     "output_type": "execute_result"
    }
   ],
   "source": [
    "answers = [1,2,3,4,5]\n",
    "solutions(answers)"
   ]
  },
  {
   "cell_type": "code",
   "execution_count": 28,
   "id": "a80d95e6",
   "metadata": {},
   "outputs": [
    {
     "data": {
      "text/plain": [
       "[1, 2, 3]"
      ]
     },
     "execution_count": 28,
     "metadata": {},
     "output_type": "execute_result"
    }
   ],
   "source": [
    "answers = [1, 3, 2, 4, 2]\n",
    "solutions(answers)"
   ]
  },
  {
   "cell_type": "code",
   "execution_count": 23,
   "id": "6a448abc",
   "metadata": {},
   "outputs": [
    {
     "data": {
      "text/plain": [
       "3"
      ]
     },
     "execution_count": 23,
     "metadata": {},
     "output_type": "execute_result"
    }
   ],
   "source": [
    "max(2,3,3)"
   ]
  },
  {
   "cell_type": "code",
   "execution_count": null,
   "id": "edd0116f",
   "metadata": {},
   "outputs": [],
   "source": []
  }
 ],
 "metadata": {
  "kernelspec": {
   "display_name": "Python 3",
   "language": "python",
   "name": "python3"
  },
  "language_info": {
   "codemirror_mode": {
    "name": "ipython",
    "version": 3
   },
   "file_extension": ".py",
   "mimetype": "text/x-python",
   "name": "python",
   "nbconvert_exporter": "python",
   "pygments_lexer": "ipython3",
   "version": "3.8.3"
  },
  "toc": {
   "base_numbering": 1,
   "nav_menu": {},
   "number_sections": true,
   "sideBar": true,
   "skip_h1_title": false,
   "title_cell": "Table of Contents",
   "title_sidebar": "Contents",
   "toc_cell": false,
   "toc_position": {},
   "toc_section_display": true,
   "toc_window_display": false
  }
 },
 "nbformat": 4,
 "nbformat_minor": 5
}
