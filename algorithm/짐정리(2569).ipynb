{
 "cells": [
  {
   "cell_type": "code",
   "execution_count": 117,
   "id": "0efe88a9",
   "metadata": {},
   "outputs": [],
   "source": [
    "luggage = [10, 2, 8, 5]\n",
    "luggage2 = [2,8,5,10]"
   ]
  },
  {
   "cell_type": "code",
   "execution_count": 154,
   "id": "38f35db5",
   "metadata": {},
   "outputs": [],
   "source": [
    "def solution(lst):\n",
    "    answer = 0\n",
    "    \n",
    "    s_lst = sorted(lst)\n",
    "    #print('원본 :', lst)\n",
    "    #print('정렬 :', s_lst)\n",
    "     \n",
    "    if lst == s_lst:\n",
    "        return answer\n",
    "    \n",
    "    new_lst = []\n",
    "    for idx in range(len(lst)):\n",
    "        if lst[idx] != s_lst[idx]:\n",
    "            new_lst.append(lst[idx])\n",
    "    #print(new_lst)\n",
    "\n",
    "    s_new_lst = sorted(new_lst)\n",
    "    min_2nd = s_new_lst[1]\n",
    "    \n",
    "    Min = min(new_lst)\n",
    "    min_idx = new_lst.index(Min)\n",
    "    min_2nd_idx = new_lst.index(min_2nd)\n",
    "    \n",
    "    #print(Min, min_idx, min_2nd_idx)\n",
    "    \n",
    "    #print(new_lst)\n",
    "    new_lst[min_idx], new_lst[min_2nd_idx] = new_lst[min_2nd_idx], new_lst[min_idx]\n",
    "    answer += new_lst[min_idx]\n",
    "    answer += new_lst[min_2nd_idx]\n",
    "    #print(new_lst, answer)\n",
    "    \n",
    "    answer += solution(new_lst)\n",
    "    \n",
    "    return answer\n",
    "    #print(s_lst)\n",
    "    \n"
   ]
  },
  {
   "cell_type": "code",
   "execution_count": 156,
   "id": "e20fd49c",
   "metadata": {},
   "outputs": [
    {
     "name": "stdout",
     "output_type": "stream",
     "text": [
      "4\n",
      "2\n",
      "10\n",
      "5\n",
      "8\n"
     ]
    },
    {
     "data": {
      "text/plain": [
       "28"
      ]
     },
     "execution_count": 156,
     "metadata": {},
     "output_type": "execute_result"
    }
   ],
   "source": [
    "N = int(input())\n",
    "\n",
    "luggage = []\n",
    "for _ in range(N):\n",
    "    luggage.append(int(input()))\n",
    "    \n",
    "solution(luggage)"
   ]
  },
  {
   "cell_type": "code",
   "execution_count": null,
   "id": "ffa2fa77",
   "metadata": {},
   "outputs": [],
   "source": []
  }
 ],
 "metadata": {
  "kernelspec": {
   "display_name": "Python 3",
   "language": "python",
   "name": "python3"
  },
  "language_info": {
   "codemirror_mode": {
    "name": "ipython",
    "version": 3
   },
   "file_extension": ".py",
   "mimetype": "text/x-python",
   "name": "python",
   "nbconvert_exporter": "python",
   "pygments_lexer": "ipython3",
   "version": "3.8.3"
  },
  "toc": {
   "base_numbering": 1,
   "nav_menu": {},
   "number_sections": true,
   "sideBar": true,
   "skip_h1_title": false,
   "title_cell": "Table of Contents",
   "title_sidebar": "Contents",
   "toc_cell": false,
   "toc_position": {},
   "toc_section_display": true,
   "toc_window_display": false
  }
 },
 "nbformat": 4,
 "nbformat_minor": 5
}
