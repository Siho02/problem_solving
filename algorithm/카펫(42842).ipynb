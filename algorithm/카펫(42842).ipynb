{
 "cells": [
  {
   "cell_type": "code",
   "execution_count": 33,
   "id": "0b2ff652",
   "metadata": {},
   "outputs": [],
   "source": [
    "# 브라운 / 옐로\n",
    "# 1 / 8          > [3, 3]\n",
    "# 2 / 10         > [4, 3]\n",
    "# 24 / 24        > [8, 6]\n",
    "\n",
    "def solution(N):\n",
    "    lst = list()\n",
    "    for idx in range(N, 0, -1):\n",
    "        res = N // idx\n",
    "        if N % idx == 0:\n",
    "            if idx >= res:\n",
    "                lst.append([idx, res])\n",
    "            else:\n",
    "                #print(idx, res)\n",
    "                break\n",
    "    return lst\n",
    "\n",
    "def total_sol(brown , yellow):\n",
    "    lst_y = solution(yellow)\n",
    "    lst_b = solution(brown + yellow)\n",
    "    print(lst_y)\n",
    "    print(lst_b)\n",
    "    for data in lst_y:\n",
    "        data[0] += 2\n",
    "        data[1] += 2\n",
    "        if data in lst_b:\n",
    "            return data"
   ]
  },
  {
   "cell_type": "code",
   "execution_count": 34,
   "id": "5f37aa2a",
   "metadata": {},
   "outputs": [
    {
     "name": "stdout",
     "output_type": "stream",
     "text": [
      "[[2, 1]]\n",
      "[[12, 1], [6, 2], [4, 3]]\n"
     ]
    },
    {
     "data": {
      "text/plain": [
       "[4, 3]"
      ]
     },
     "execution_count": 34,
     "metadata": {},
     "output_type": "execute_result"
    }
   ],
   "source": [
    "total_sol(10, 2)"
   ]
  },
  {
   "cell_type": "code",
   "execution_count": 46,
   "id": "c4a78c24",
   "metadata": {},
   "outputs": [],
   "source": [
    "def solution(brown, yellow):\n",
    "    for garo in range(yellow, 0, -1):\n",
    "        if yellow % garo == 0:\n",
    "            sero = yellow // garo\n",
    "            print(garo, sero)\n",
    "            if garo >= sero and (garo*2 + sero*2 + 4) == brown:\n",
    "                return [garo+2, sero+2]"
   ]
  },
  {
   "cell_type": "code",
   "execution_count": 47,
   "id": "c2f71f87",
   "metadata": {},
   "outputs": [
    {
     "name": "stdout",
     "output_type": "stream",
     "text": [
      "24 1\n",
      "12 2\n",
      "8 3\n",
      "6 4\n"
     ]
    },
    {
     "data": {
      "text/plain": [
       "[8, 6]"
      ]
     },
     "execution_count": 47,
     "metadata": {},
     "output_type": "execute_result"
    }
   ],
   "source": [
    "solution(24, 24)"
   ]
  },
  {
   "cell_type": "code",
   "execution_count": null,
   "id": "579caf7d",
   "metadata": {},
   "outputs": [],
   "source": []
  }
 ],
 "metadata": {
  "kernelspec": {
   "display_name": "Python 3",
   "language": "python",
   "name": "python3"
  },
  "language_info": {
   "codemirror_mode": {
    "name": "ipython",
    "version": 3
   },
   "file_extension": ".py",
   "mimetype": "text/x-python",
   "name": "python",
   "nbconvert_exporter": "python",
   "pygments_lexer": "ipython3",
   "version": "3.8.3"
  },
  "toc": {
   "base_numbering": 1,
   "nav_menu": {},
   "number_sections": true,
   "sideBar": true,
   "skip_h1_title": false,
   "title_cell": "Table of Contents",
   "title_sidebar": "Contents",
   "toc_cell": false,
   "toc_position": {},
   "toc_section_display": true,
   "toc_window_display": false
  }
 },
 "nbformat": 4,
 "nbformat_minor": 5
}
