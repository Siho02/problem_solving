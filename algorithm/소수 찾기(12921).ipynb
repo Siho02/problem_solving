{
 "cells": [
  {
   "cell_type": "markdown",
   "id": "b3e9f309",
   "metadata": {},
   "source": [
    "https://programmers.co.kr/learn/courses/30/lessons/12921\n",
    "\n",
    "1부터 입력받은 숫자 n 사이에 있는 소수의 개수를 반환하는 함수, solution을 만들어 보세요.\n",
    "\n",
    "소수는 1과 자기 자신으로만 나누어지는 수를 의미합니다.\n",
    "(1은 소수가 아닙니다.)\n",
    "\n",
    "제한 조건\n",
    " - n은 2이상 1000000이하의 자연수입니다."
   ]
  },
  {
   "cell_type": "code",
   "execution_count": 92,
   "id": "e78ea345",
   "metadata": {},
   "outputs": [],
   "source": [
    "#효율성에서 아웃!!!\n",
    "\n",
    "import math\n",
    "\n",
    "def sosu(num):\n",
    "    answer = False\n",
    "    if num == 2 or num == 3:\n",
    "        answer = True\n",
    "    else:\n",
    "        for n in range(1, int(math.sqrt(num)) + 1):\n",
    "            if n == 1:\n",
    "                pass\n",
    "            elif num % n == 0:\n",
    "                answer = False\n",
    "                break\n",
    "            else:\n",
    "                answer = True\n",
    "    return answer\n",
    "\n",
    "def solution(n):\n",
    "    answer = 0\n",
    "    sosu_lst = []\n",
    "    \n",
    "    for number in range(n+1):\n",
    "        if sosu(number) == True:\n",
    "            sosu_lst.append(number)\n",
    "    \n",
    "    answer = len(sosu_lst)\n",
    "    \n",
    "    return answer\n",
    "\n"
   ]
  },
  {
   "cell_type": "code",
   "execution_count": 93,
   "id": "9920bd24",
   "metadata": {},
   "outputs": [
    {
     "data": {
      "text/plain": [
       "4"
      ]
     },
     "execution_count": 93,
     "metadata": {},
     "output_type": "execute_result"
    }
   ],
   "source": [
    "solution(10)"
   ]
  },
  {
   "cell_type": "markdown",
   "id": "54f66243",
   "metadata": {},
   "source": [
    "19 = [2,3,4,5,6,7,8,9,10,11,12,13,14,15,16,17,18,19]\n",
    " >> [2,3,5,7,11,13,17,19]\n",
    "\n",
    "in = [2]  //  out = [4]\n",
    "in = [2, 3]  //  out = [4, 6]\n",
    "in = [2, 3, 5] // out = [4, 6, 10]\n",
    "in = [2, 3, 5, 7] // out = [4, 6, 10, 14]\n",
    "in = [2, 3, 5, 7, "
   ]
  },
  {
   "cell_type": "code",
   "execution_count": 113,
   "id": "c4ae6a4b",
   "metadata": {},
   "outputs": [],
   "source": [
    "def solution2(n):\n",
    "    li = set(range(2,n+1))\n",
    "    print('li : ',li)\n",
    "    for i in range(2, n+1):\n",
    "        if i in li:\n",
    "            print(i)\n",
    "         #idx의 배수 지우기\n",
    "            li -= set(range(i*2, n+1, i))\n",
    "            print(li)\n",
    "    return len(li)"
   ]
  },
  {
   "cell_type": "code",
   "execution_count": 114,
   "id": "9274e3ce",
   "metadata": {},
   "outputs": [
    {
     "name": "stdout",
     "output_type": "stream",
     "text": [
      "li :  {2, 3, 4, 5, 6, 7, 8, 9, 10, 11}\n",
      "2\n",
      "{2, 3, 5, 7, 9, 11}\n",
      "3\n",
      "{2, 3, 5, 7, 11}\n",
      "5\n",
      "{2, 3, 5, 7, 11}\n",
      "7\n",
      "{2, 3, 5, 7, 11}\n",
      "11\n",
      "{2, 3, 5, 7, 11}\n"
     ]
    },
    {
     "data": {
      "text/plain": [
       "5"
      ]
     },
     "execution_count": 114,
     "metadata": {},
     "output_type": "execute_result"
    }
   ],
   "source": [
    "solution2(11)"
   ]
  },
  {
   "cell_type": "code",
   "execution_count": 3,
   "id": "6097f4aa",
   "metadata": {},
   "outputs": [],
   "source": [
    "def solution(n):\n",
    "    answer = 0\n",
    "    \n",
    "    num_set = set(range(2, n+1))\n",
    "    \n",
    "    for i in range(2, n+1):\n",
    "        if i in num_set:\n",
    "            num_set -= set(range(i*2, n+1, i))\n",
    "    \n",
    "    print(num_set)\n",
    "        \n",
    "    \n",
    "    return len(num_set)"
   ]
  },
  {
   "cell_type": "code",
   "execution_count": 5,
   "id": "bc123945",
   "metadata": {},
   "outputs": [
    {
     "name": "stdout",
     "output_type": "stream",
     "text": [
      "{2, 3, 5}\n"
     ]
    },
    {
     "data": {
      "text/plain": [
       "0"
      ]
     },
     "execution_count": 5,
     "metadata": {},
     "output_type": "execute_result"
    }
   ],
   "source": [
    "solution(6)"
   ]
  },
  {
   "cell_type": "code",
   "execution_count": null,
   "id": "e522c035",
   "metadata": {},
   "outputs": [],
   "source": []
  }
 ],
 "metadata": {
  "kernelspec": {
   "display_name": "Python 3",
   "language": "python",
   "name": "python3"
  },
  "language_info": {
   "codemirror_mode": {
    "name": "ipython",
    "version": 3
   },
   "file_extension": ".py",
   "mimetype": "text/x-python",
   "name": "python",
   "nbconvert_exporter": "python",
   "pygments_lexer": "ipython3",
   "version": "3.8.3"
  },
  "toc": {
   "base_numbering": 1,
   "nav_menu": {},
   "number_sections": true,
   "sideBar": true,
   "skip_h1_title": false,
   "title_cell": "Table of Contents",
   "title_sidebar": "Contents",
   "toc_cell": false,
   "toc_position": {},
   "toc_section_display": true,
   "toc_window_display": false
  }
 },
 "nbformat": 4,
 "nbformat_minor": 5
}
