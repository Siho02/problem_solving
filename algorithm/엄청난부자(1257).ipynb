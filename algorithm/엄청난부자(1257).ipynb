{
 "cells": [
  {
   "cell_type": "code",
   "execution_count": 19,
   "id": "2157d1c4",
   "metadata": {},
   "outputs": [
    {
     "name": "stdout",
     "output_type": "stream",
     "text": [
      "1000000001\n",
      "2\n",
      "10000 1\n",
      "[10000, 1]\n"
     ]
    }
   ],
   "source": [
    "money = int(input())\n",
    "coins = int(input())\n",
    "each_coin = list(map(int, input().split()))\n",
    "\n",
    "print(each_coin)"
   ]
  },
  {
   "cell_type": "code",
   "execution_count": 20,
   "id": "fada71b5",
   "metadata": {},
   "outputs": [
    {
     "data": {
      "text/plain": [
       "[10000, 1]"
      ]
     },
     "execution_count": 20,
     "metadata": {},
     "output_type": "execute_result"
    }
   ],
   "source": [
    "each_coin.sort(reverse = True)\n",
    "each_coin"
   ]
  },
  {
   "cell_type": "code",
   "execution_count": 21,
   "id": "b9c48d70",
   "metadata": {},
   "outputs": [
    {
     "name": "stdout",
     "output_type": "stream",
     "text": [
      "case0 : coin = 10000\n",
      "\t 동전 개수 : 100000, 잔액 = 1, 동전 총 갯수 : 100000\n",
      "case1 : coin = 1\n",
      "\t 동전 개수 : 1, 잔액 = 0, 동전 총 갯수 : 100001\n",
      "100001\n"
     ]
    }
   ],
   "source": [
    " \n",
    "\n",
    "total_coins = 0 \n",
    "\n",
    "for idx in range(len(each_coin)):\n",
    "    print(f'case{idx} : coin = {each_coin[idx]}')\n",
    "    num_coin = money // each_coin[idx]\n",
    "    money -= each_coin[idx] * num_coin\n",
    "    total_coins += num_coin\n",
    "    print('\\t', f'동전 개수 : {num_coin}, 잔액 = {money}, 동전 총 갯수 : {total_coins}')\n",
    "    \n",
    "print(total_coins)"
   ]
  },
  {
   "cell_type": "code",
   "execution_count": 23,
   "id": "48cf54a0",
   "metadata": {},
   "outputs": [
    {
     "name": "stdout",
     "output_type": "stream",
     "text": [
      "5786351\n",
      "8\n",
      "50000 10000 5000 1000 500 100 10 1\n",
      "case0 : coin = 50000\n",
      "\t 동전 개수 : 115, 잔액 = 36351, 동전 총 갯수 : 115\n",
      "case1 : coin = 10000\n",
      "\t 동전 개수 : 3, 잔액 = 6351, 동전 총 갯수 : 118\n",
      "case2 : coin = 5000\n",
      "\t 동전 개수 : 1, 잔액 = 1351, 동전 총 갯수 : 119\n",
      "case3 : coin = 1000\n",
      "\t 동전 개수 : 1, 잔액 = 351, 동전 총 갯수 : 120\n",
      "case4 : coin = 500\n",
      "\t 동전 개수 : 0, 잔액 = 351, 동전 총 갯수 : 120\n",
      "case5 : coin = 100\n",
      "\t 동전 개수 : 3, 잔액 = 51, 동전 총 갯수 : 123\n",
      "case6 : coin = 10\n",
      "\t 동전 개수 : 5, 잔액 = 1, 동전 총 갯수 : 128\n",
      "case7 : coin = 1\n",
      "\t 동전 개수 : 1, 잔액 = 0, 동전 총 갯수 : 129\n",
      "129\n"
     ]
    }
   ],
   "source": [
    "money = int(input())\n",
    "coins = int(input())\n",
    "each_coin = list(map(int, input().split()))\n",
    "each_coin.sort(reverse = True)\n",
    "\n",
    "total_coins = 0 \n",
    "\n",
    "for idx in range(coins):\n",
    "    print(f'case{idx} : coin = {each_coin[idx]}')\n",
    "    num_coin = money // each_coin[idx]\n",
    "    money -= each_coin[idx] * num_coin\n",
    "    total_coins += num_coin\n",
    "    print('\\t', f'동전 개수 : {num_coin}, 잔액 = {money}, 동전 총 갯수 : {total_coins}')\n",
    "    \n",
    "print(total_coins)"
   ]
  },
  {
   "cell_type": "code",
   "execution_count": 26,
   "id": "f31cfed9",
   "metadata": {},
   "outputs": [
    {
     "name": "stdout",
     "output_type": "stream",
     "text": [
      "35781310\n",
      "8\n",
      "500 100 1 10 50000 10000 1000 5000\n",
      "처음 금액 :  35781310\n",
      "50000 동전 715개, 잔액 = 31310, 동전 갯수 : 715\n",
      "10000 동전 3개, 잔액 = 1310, 동전 갯수 : 718\n",
      "5000 동전 0개, 잔액 = 1310, 동전 갯수 : 718\n",
      "1000 동전 1개, 잔액 = 310, 동전 갯수 : 719\n",
      "500 동전 0개, 잔액 = 310, 동전 갯수 : 719\n",
      "100 동전 3개, 잔액 = 10, 동전 갯수 : 722\n",
      "10 동전 1개, 잔액 = 0, 동전 갯수 : 723\n",
      "1 동전 0개, 잔액 = 0, 동전 갯수 : 723\n",
      "723\n"
     ]
    }
   ],
   "source": [
    "money = int(input())\n",
    "coins = int(input())\n",
    "each_coin = list(map(int, input().split()))\n",
    "\n",
    "def solution(money, coins, each_coin):\n",
    "    total_coins = 0\n",
    "    each_coin.sort(reverse = True)\n",
    "    #print('처음 금액 : ', money)\n",
    "    for idx in range(len(each_coin)):\n",
    "        num_coin = money // each_coin[idx]\n",
    "        money -= each_coin[idx] * num_coin\n",
    "        total_coins += num_coin\n",
    "    #    print(f'{each_coin[idx]} 동전 {num_coin}개, 잔액 = {money}, 동전 갯수 : {total_coins}')\n",
    "        \n",
    "    return total_coins\n",
    "\n",
    "print(solution(money, coins, each_coin))"
   ]
  },
  {
   "cell_type": "code",
   "execution_count": null,
   "id": "ab5931eb",
   "metadata": {},
   "outputs": [],
   "source": []
  }
 ],
 "metadata": {
  "kernelspec": {
   "display_name": "Python 3",
   "language": "python",
   "name": "python3"
  },
  "language_info": {
   "codemirror_mode": {
    "name": "ipython",
    "version": 3
   },
   "file_extension": ".py",
   "mimetype": "text/x-python",
   "name": "python",
   "nbconvert_exporter": "python",
   "pygments_lexer": "ipython3",
   "version": "3.8.3"
  },
  "toc": {
   "base_numbering": 1,
   "nav_menu": {},
   "number_sections": true,
   "sideBar": true,
   "skip_h1_title": false,
   "title_cell": "Table of Contents",
   "title_sidebar": "Contents",
   "toc_cell": false,
   "toc_position": {},
   "toc_section_display": true,
   "toc_window_display": false
  }
 },
 "nbformat": 4,
 "nbformat_minor": 5
}
