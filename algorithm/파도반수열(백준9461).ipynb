{
 "cells": [
  {
   "cell_type": "markdown",
   "id": "2613637d",
   "metadata": {},
   "source": [
    "https://www.acmicpc.net/problem/9461"
   ]
  },
  {
   "cell_type": "code",
   "execution_count": null,
   "id": "c0e59121",
   "metadata": {},
   "outputs": [],
   "source": [
    "a1 = 1\n",
    "a2 = 1\n",
    "a3 = 1\n",
    "a4 = 2 = a1 + a3\n",
    "a5 = 2 = a4 + a0\n",
    "a6 = 3 = a1 + a5\n",
    "a7 = 4 = a2 + a6\n",
    "a8 = 5 = a7 + a3\n",
    "a9 = 7 = a8 + a4"
   ]
  },
  {
   "cell_type": "code",
   "execution_count": 14,
   "id": "b23d2308",
   "metadata": {},
   "outputs": [],
   "source": [
    "def padovan(N):\n",
    "    lst = [0 for idx in range(N+1)]\n",
    "    for idx in range(N+1):\n",
    "        if idx == 0:\n",
    "            lst[idx] = 0\n",
    "        elif idx <= 3:\n",
    "            lst[idx] = 1\n",
    "        elif idx == 4:\n",
    "            lst[idx] = 2\n",
    "        else:\n",
    "            lst[idx] = lst[idx-1] + lst[idx-5]\n",
    "    \n",
    "    print(lst[N])"
   ]
  },
  {
   "cell_type": "code",
   "execution_count": 15,
   "id": "757bef11",
   "metadata": {},
   "outputs": [
    {
     "name": "stdout",
     "output_type": "stream",
     "text": [
      "[0, 1, 1, 1, 2, 2, 3]\n",
      "3\n"
     ]
    }
   ],
   "source": [
    "padovan(6)"
   ]
  },
  {
   "cell_type": "code",
   "execution_count": 17,
   "id": "8e741661",
   "metadata": {},
   "outputs": [
    {
     "name": "stdout",
     "output_type": "stream",
     "text": [
      "2\n",
      "6\n",
      "3\n",
      "12\n",
      "16\n"
     ]
    }
   ],
   "source": [
    "def padovan(N):\n",
    "    lst = [0 for idx in range(N+1)]\n",
    "    for idx in range(N+1):\n",
    "        if idx == 0:\n",
    "            lst[idx] = 0\n",
    "        elif idx <= 3:\n",
    "            lst[idx] = 1\n",
    "        elif idx == 4:\n",
    "            lst[idx] = 2\n",
    "        else:\n",
    "            lst[idx] = lst[idx-1] + lst[idx-5]\n",
    "    \n",
    "    print(lst[N])\n",
    "\n",
    "test_case = int(input())\n",
    "\n",
    "for _ in range(test_case):\n",
    "    N = int(input())\n",
    "    padovan(N)"
   ]
  },
  {
   "cell_type": "code",
   "execution_count": null,
   "id": "8be2cc69",
   "metadata": {},
   "outputs": [],
   "source": []
  }
 ],
 "metadata": {
  "kernelspec": {
   "display_name": "Python 3",
   "language": "python",
   "name": "python3"
  },
  "language_info": {
   "codemirror_mode": {
    "name": "ipython",
    "version": 3
   },
   "file_extension": ".py",
   "mimetype": "text/x-python",
   "name": "python",
   "nbconvert_exporter": "python",
   "pygments_lexer": "ipython3",
   "version": "3.8.3"
  },
  "toc": {
   "base_numbering": 1,
   "nav_menu": {},
   "number_sections": true,
   "sideBar": true,
   "skip_h1_title": false,
   "title_cell": "Table of Contents",
   "title_sidebar": "Contents",
   "toc_cell": false,
   "toc_position": {},
   "toc_section_display": true,
   "toc_window_display": false
  }
 },
 "nbformat": 4,
 "nbformat_minor": 5
}
