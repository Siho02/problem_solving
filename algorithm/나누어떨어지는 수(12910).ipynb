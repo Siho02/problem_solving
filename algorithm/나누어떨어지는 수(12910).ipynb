{
 "cells": [
  {
   "cell_type": "markdown",
   "id": "130d5ea3",
   "metadata": {},
   "source": [
    "# https://programmers.co.kr/learn/courses/30/lessons/12910\n",
    "\n",
    "array의 각 element 중 divisor로 나누어 떨어지는 값을 오름차순으로 정렬한 배열을 반환하는 함수, solution을 작성해주세요.\n",
    "divisor로 나누어 떨어지는 element가 하나도 없다면 배열에 -1을 담아 반환하세요.\n",
    "\n",
    "제한사항\n",
    " - arr은 자연수를 담은 배열입니다.\n",
    " - 정수 i, j에 대해 i ≠ j 이면 arr[i] ≠ arr[j] 입니다.\n",
    " - divisor는 자연수입니다.\n",
    " - array는 길이 1 이상인 배열입니다."
   ]
  },
  {
   "cell_type": "code",
   "execution_count": 13,
   "id": "38e69b79",
   "metadata": {},
   "outputs": [],
   "source": [
    "def solution(arr, divisor):\n",
    "    answer = []\n",
    "    for idx in range(len(arr)):\n",
    "        if arr[idx] % divisor == 0:\n",
    "            answer.append(arr[idx])\n",
    "    if len(answer) == 0:\n",
    "        answer.append(-1)\n",
    "    answer.sort()\n",
    "    return answer"
   ]
  },
  {
   "cell_type": "code",
   "execution_count": 14,
   "id": "9e077f31",
   "metadata": {},
   "outputs": [
    {
     "data": {
      "text/plain": [
       "[5, 10]"
      ]
     },
     "execution_count": 14,
     "metadata": {},
     "output_type": "execute_result"
    }
   ],
   "source": [
    "arr = [5,9,7,10]\n",
    "solution(arr, 5)"
   ]
  },
  {
   "cell_type": "code",
   "execution_count": 15,
   "id": "7e4e3aaa",
   "metadata": {},
   "outputs": [
    {
     "data": {
      "text/plain": [
       "[1, 2, 3, 36]"
      ]
     },
     "execution_count": 15,
     "metadata": {},
     "output_type": "execute_result"
    }
   ],
   "source": [
    "arr = [2, 36, 1, 3]\n",
    "solution(arr, 1)"
   ]
  },
  {
   "cell_type": "code",
   "execution_count": null,
   "id": "8f13ff25",
   "metadata": {},
   "outputs": [],
   "source": []
  }
 ],
 "metadata": {
  "kernelspec": {
   "display_name": "Python 3",
   "language": "python",
   "name": "python3"
  },
  "language_info": {
   "codemirror_mode": {
    "name": "ipython",
    "version": 3
   },
   "file_extension": ".py",
   "mimetype": "text/x-python",
   "name": "python",
   "nbconvert_exporter": "python",
   "pygments_lexer": "ipython3",
   "version": "3.8.3"
  },
  "toc": {
   "base_numbering": 1,
   "nav_menu": {},
   "number_sections": true,
   "sideBar": true,
   "skip_h1_title": false,
   "title_cell": "Table of Contents",
   "title_sidebar": "Contents",
   "toc_cell": false,
   "toc_position": {},
   "toc_section_display": true,
   "toc_window_display": false
  }
 },
 "nbformat": 4,
 "nbformat_minor": 5
}
