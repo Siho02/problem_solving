{
 "cells": [
  {
   "cell_type": "markdown",
   "id": "cf72d92c",
   "metadata": {},
   "source": [
    "점심시간에 도둑이 들어, 일부 학생이 체육복을 도난당했습니다. 다행히 여벌 체육복이 있는 학생이 이들에게 체육복을 빌려주려 합니다. 학생들의 번호는 체격 순으로 매겨져 있어, 바로 앞번호의 학생이나 바로 뒷번호의 학생에게만 체육복을 빌려줄 수 있습니다. 예를 들어, 4번 학생은 3번 학생이나 5번 학생에게만 체육복을 빌려줄 수 있습니다. 체육복이 없으면 수업을 들을 수 없기 때문에 체육복을 적절히 빌려 최대한 많은 학생이 체육수업을 들어야 합니다.\n",
    "\n",
    "전체 학생의 수 n, 체육복을 도난당한 학생들의 번호가 담긴 배열 lost, 여벌의 체육복을 가져온 학생들의 번호가 담긴 배열 reserve가 매개변수로 주어질 때, 체육수업을 들을 수 있는 학생의 최댓값을 return 하도록 solution 함수를 작성해주세요.\n",
    "\n",
    "제한사항\n",
    " - 전체 학생의 수는 2명 이상 30명 이하입니다.\n",
    " - 체육복을 도난당한 학생의 수는 1명 이상 n명 이하이고 중복되는 번호는 없습니다.\n",
    " - 여벌의 체육복을 가져온 학생의 수는 1명 이상 n명 이하이고 중복되는 번호는 없습니다.\n",
    " - 여벌 체육복이 있는 학생만 다른 학생에게 체육복을 빌려줄 수 있습니다.\n",
    " - 여벌 체육복을 가져온 학생이 체육복을 도난당했을 수 있습니다. 이때 이 학생은 체육복을 하나만 도난당했다고 가정하며, 남은 체육복이 하나이기에 다른 학생에게는 체육복을 빌려줄 수 없습니다.\n",
    " \n",
    "입출력 예\n",
    " - n = 5 / lost = [2, 4] / reserve = [1, 3, 5] / return 5\n",
    " - n = 5 / lost = [2, 4] / reserve = [3] / return 4\n",
    " - n = 3 / lost = [3] / reserve = [1] / return 2"
   ]
  },
  {
   "cell_type": "code",
   "execution_count": 77,
   "id": "278fc9f8",
   "metadata": {},
   "outputs": [],
   "source": [
    "def solution(n, lost, reserve):\n",
    "    answer = 0\n",
    "    \n",
    "    lost_set = set(lost) - set(reserve)\n",
    "    reserve_set = set(reserve) - set(lost)\n",
    "    print(lost_set, reserve_set)\n",
    "    \n",
    "    for person in reserve_set:\n",
    "        if person-1 in lost_set:\n",
    "            lost_set.remove(person-1)\n",
    "        elif person+1 in lost_set:\n",
    "            lost_set.remove(person+1)\n",
    "            \n",
    "    return n - len(lost_set)"
   ]
  },
  {
   "cell_type": "code",
   "execution_count": 78,
   "id": "7c94b5bd",
   "metadata": {},
   "outputs": [
    {
     "name": "stdout",
     "output_type": "stream",
     "text": [
      "{2, 4} {1, 3, 5}\n"
     ]
    },
    {
     "data": {
      "text/plain": [
       "5"
      ]
     },
     "execution_count": 78,
     "metadata": {},
     "output_type": "execute_result"
    }
   ],
   "source": [
    "l1 = [2,4]\n",
    "r1 = [1,3,5]\n",
    "solution(5, l1, r1)"
   ]
  },
  {
   "cell_type": "code",
   "execution_count": 79,
   "id": "c8a12300",
   "metadata": {},
   "outputs": [
    {
     "name": "stdout",
     "output_type": "stream",
     "text": [
      "{1, 5, 7, 9, 11, 13, 18} {8, 3, 4, 20}\n"
     ]
    },
    {
     "data": {
      "text/plain": [
       "15"
      ]
     },
     "execution_count": 79,
     "metadata": {},
     "output_type": "execute_result"
    }
   ],
   "source": [
    "l4 = [1,5,7,9,11,12,13,16,18]\n",
    "r4 = [3,4,8,12,16,20]\n",
    "## [1,5,7,9,11,13,18] [3,4,8,20]\n",
    "solution(20, l4, r4)"
   ]
  },
  {
   "cell_type": "code",
   "execution_count": 70,
   "id": "68c95a3b",
   "metadata": {},
   "outputs": [
    {
     "name": "stdout",
     "output_type": "stream",
     "text": [
      "{1, 2, 3, 4, 5}\n",
      " \n",
      "{1, 2, 3, 5}\n",
      " \n",
      "{1, 2, 4, 5, 6}\n"
     ]
    },
    {
     "data": {
      "text/plain": [
       "5"
      ]
     },
     "execution_count": 70,
     "metadata": {},
     "output_type": "execute_result"
    }
   ],
   "source": [
    "l1 = [2,4]\n",
    "r1 = [1,3,5]\n",
    "\n",
    "l2 = [2,4]\n",
    "r2 = [3]\n",
    "\n",
    "l3 = [1,3,4,6]\n",
    "r3 = [2,4,5]\n",
    "\n",
    "solution(5, l1, r1)\n",
    "print(' ')\n",
    "solution(5, l2, r2)\n",
    "print(' ')\n",
    "solution(6, l3, r3)\n",
    "print(' ')\n",
    "l4 = [1,5,7,9,11,12,13,16,18]\n",
    "r4 = [3,4,8,12,16,20]\n",
    "## [1,5,7,9,11,13,18] [3,4,8,20]\n",
    "solution(20, l4, r4)"
   ]
  },
  {
   "cell_type": "code",
   "execution_count": 71,
   "id": "ea24c13a",
   "metadata": {},
   "outputs": [
    {
     "name": "stdout",
     "output_type": "stream",
     "text": [
      "{2, 3, 4, 5, 6, 7, 8, 10, 12, 14, 15, 16, 17, 19, 20}\n"
     ]
    },
    {
     "data": {
      "text/plain": [
       "15"
      ]
     },
     "execution_count": 71,
     "metadata": {},
     "output_type": "execute_result"
    }
   ],
   "source": []
  },
  {
   "cell_type": "code",
   "execution_count": null,
   "id": "ab7121bc",
   "metadata": {},
   "outputs": [],
   "source": []
  }
 ],
 "metadata": {
  "kernelspec": {
   "display_name": "Python 3",
   "language": "python",
   "name": "python3"
  },
  "language_info": {
   "codemirror_mode": {
    "name": "ipython",
    "version": 3
   },
   "file_extension": ".py",
   "mimetype": "text/x-python",
   "name": "python",
   "nbconvert_exporter": "python",
   "pygments_lexer": "ipython3",
   "version": "3.8.3"
  },
  "toc": {
   "base_numbering": 1,
   "nav_menu": {},
   "number_sections": true,
   "sideBar": true,
   "skip_h1_title": false,
   "title_cell": "Table of Contents",
   "title_sidebar": "Contents",
   "toc_cell": false,
   "toc_position": {},
   "toc_section_display": true,
   "toc_window_display": false
  }
 },
 "nbformat": 4,
 "nbformat_minor": 5
}
