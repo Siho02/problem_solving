{
 "cells": [
  {
   "cell_type": "markdown",
   "id": "4556ad47",
   "metadata": {},
   "source": [
    "https://programmers.co.kr/learn/courses/30/lessons/12953"
   ]
  },
  {
   "cell_type": "code",
   "execution_count": 105,
   "id": "6fae761f",
   "metadata": {},
   "outputs": [],
   "source": [
    "import math\n",
    "\n",
    "def minimum_multiple(n1, n2):\n",
    "    big = max(n1, n2)\n",
    "    \n",
    "    nums = []\n",
    "    for num in range(1, int(math.sqrt(big)+1)):\n",
    "        if n1 % num == 0 and n2 % num == 0:\n",
    "            nums.append(num)\n",
    "    maxi = max(nums)\n",
    "    \n",
    "    return maxi * (n1 // maxi) * (n2 // maxi)\n",
    "\n",
    "\n",
    "def solution(arr):\n",
    "    if len(arr) == 1:\n",
    "        return arr[0]\n",
    "    else :\n",
    "        while len(arr) > 2:\n",
    "            #print(\"현재 arr :\", arr)\n",
    "            pop1 = arr.pop()\n",
    "            pop2 = arr.pop()\n",
    "            arr.append(minimum_multiple(pop1, pop2))\n",
    "        if len(arr) == 2:\n",
    "            return minimum_multiple(arr[0], arr[1])\n",
    "\n",
    "#왜인지는 모르지만 어디선가 계속 오류가 뜸 70점 받았음..ㅠ"
   ]
  },
  {
   "cell_type": "code",
   "execution_count": 106,
   "id": "23a8d041",
   "metadata": {},
   "outputs": [
    {
     "data": {
      "text/plain": [
       "168"
      ]
     },
     "execution_count": 106,
     "metadata": {},
     "output_type": "execute_result"
    }
   ],
   "source": [
    "solution([2,6,8,14])"
   ]
  },
  {
   "cell_type": "code",
   "execution_count": 107,
   "id": "f809bade",
   "metadata": {},
   "outputs": [
    {
     "data": {
      "text/plain": [
       "6"
      ]
     },
     "execution_count": 107,
     "metadata": {},
     "output_type": "execute_result"
    }
   ],
   "source": [
    "minimum_multiple(2,3)"
   ]
  },
  {
   "cell_type": "code",
   "execution_count": 111,
   "id": "f59fc909",
   "metadata": {},
   "outputs": [],
   "source": [
    "from math import gcd\n",
    "\n",
    "def solution(arr):\n",
    "    answer = arr[0]\n",
    "    \n",
    "    for number in arr:\n",
    "        answer = (answer * number) // gcd(answer, number)\n",
    "    return answer\n",
    "    "
   ]
  },
  {
   "cell_type": "code",
   "execution_count": 112,
   "id": "1f62e417",
   "metadata": {},
   "outputs": [
    {
     "data": {
      "text/plain": [
       "168"
      ]
     },
     "execution_count": 112,
     "metadata": {},
     "output_type": "execute_result"
    }
   ],
   "source": [
    "solution([2,6,8,14])"
   ]
  },
  {
   "cell_type": "code",
   "execution_count": null,
   "id": "3e6c53d3",
   "metadata": {},
   "outputs": [],
   "source": []
  }
 ],
 "metadata": {
  "kernelspec": {
   "display_name": "Python 3 (ipykernel)",
   "language": "python",
   "name": "python3"
  },
  "language_info": {
   "codemirror_mode": {
    "name": "ipython",
    "version": 3
   },
   "file_extension": ".py",
   "mimetype": "text/x-python",
   "name": "python",
   "nbconvert_exporter": "python",
   "pygments_lexer": "ipython3",
   "version": "3.9.7"
  }
 },
 "nbformat": 4,
 "nbformat_minor": 5
}
