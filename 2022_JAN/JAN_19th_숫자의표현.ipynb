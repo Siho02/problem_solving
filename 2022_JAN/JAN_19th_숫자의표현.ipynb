{
 "cells": [
  {
   "cell_type": "markdown",
   "id": "ce624b2b",
   "metadata": {},
   "source": [
    "https://programmers.co.kr/learn/courses/30/lessons/12924"
   ]
  },
  {
   "cell_type": "code",
   "execution_count": 7,
   "id": "b4b2ca82",
   "metadata": {},
   "outputs": [],
   "source": [
    "def solution(n):\n",
    "    answer = 0\n",
    "    \n",
    "    for i in range(1, n+1):\n",
    "        temp = 0\n",
    "        for j in range(i, n+1):\n",
    "            temp += j\n",
    "            if temp == n:\n",
    "                answer += 1\n",
    "                break\n",
    "            elif temp > n:\n",
    "                break\n",
    "            else:\n",
    "                continue\n",
    "    \n",
    "    return answer"
   ]
  },
  {
   "cell_type": "code",
   "execution_count": 8,
   "id": "ae5e07cb",
   "metadata": {},
   "outputs": [
    {
     "data": {
      "text/plain": [
       "4"
      ]
     },
     "execution_count": 8,
     "metadata": {},
     "output_type": "execute_result"
    }
   ],
   "source": [
    "solution(15)"
   ]
  },
  {
   "cell_type": "markdown",
   "id": "d4d2ac80",
   "metadata": {},
   "source": [
    "1 = 1\n",
    "2 = 2\n",
    "3 = 3 / 1+2\n",
    "4 = 4\n",
    "5 = 5 / 2+3\n",
    "6 = 6 / 1+2+3\n",
    "7 = 7 / 3+4\n",
    "8 = 8 \n",
    "9 = 9 / 4,5 / 2+3+4\n",
    "10 = 10 / 1+2+3+4\n",
    "11 = 11 / 5+6 \n",
    "12 = "
   ]
  }
 ],
 "metadata": {
  "kernelspec": {
   "display_name": "Python 3",
   "language": "python",
   "name": "python3"
  },
  "language_info": {
   "codemirror_mode": {
    "name": "ipython",
    "version": 3
   },
   "file_extension": ".py",
   "mimetype": "text/x-python",
   "name": "python",
   "nbconvert_exporter": "python",
   "pygments_lexer": "ipython3",
   "version": "3.8.3"
  },
  "toc": {
   "base_numbering": 1,
   "nav_menu": {},
   "number_sections": true,
   "sideBar": true,
   "skip_h1_title": false,
   "title_cell": "Table of Contents",
   "title_sidebar": "Contents",
   "toc_cell": false,
   "toc_position": {},
   "toc_section_display": true,
   "toc_window_display": false
  }
 },
 "nbformat": 4,
 "nbformat_minor": 5
}
