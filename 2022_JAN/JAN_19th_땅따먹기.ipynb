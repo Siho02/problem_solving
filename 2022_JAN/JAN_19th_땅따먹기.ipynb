{
 "cells": [
  {
   "cell_type": "markdown",
   "id": "a3c55020",
   "metadata": {},
   "source": [
    "https://programmers.co.kr/learn/courses/30/lessons/12913"
   ]
  },
  {
   "cell_type": "code",
   "execution_count": 18,
   "id": "a9894f3c",
   "metadata": {},
   "outputs": [],
   "source": [
    "# 행의 개수 N : 100,000 이하의 자연수\n",
    "# 열의 개수는 4개이고, land는 2차원 배열\n",
    "\n",
    "def solution(land):\n",
    "    answer = 0\n",
    "    \n",
    "    for idx1 in range(1, len(land)):\n",
    "        for idx2 in range(len(land[0])):\n",
    "            #print(land[idx1][idx2], end=' ')\n",
    "            land[idx1][idx2] = land[idx1][idx2] + max(land[idx1 - 1][:idx2] + land[idx1-1][idx2+1:]) \n",
    "    \n",
    "    #print(land)\n",
    "    answer = max(land[-1])\n",
    "    \n",
    "    return answer"
   ]
  },
  {
   "cell_type": "code",
   "execution_count": 19,
   "id": "01ddc160",
   "metadata": {},
   "outputs": [
    {
     "name": "stdout",
     "output_type": "stream",
     "text": [
      "[[1, 2, 3, 5], [10, 11, 12, 11], [16, 15, 13, 13]]\n"
     ]
    },
    {
     "data": {
      "text/plain": [
       "16"
      ]
     },
     "execution_count": 19,
     "metadata": {},
     "output_type": "execute_result"
    }
   ],
   "source": [
    "land = [[1,2,3,5], [5,6,7,8], [4,3,2,1]]\n",
    "solution(land)"
   ]
  },
  {
   "cell_type": "markdown",
   "id": "9673ca84",
   "metadata": {},
   "source": [
    "1 2 3 5\n",
    "5 6 7 8\n",
    "4 3 2 1\n",
    "\n",
    "1 2 3 5\n",
    "10 11 12 11\n",
    "16 15 13 13"
   ]
  },
  {
   "cell_type": "code",
   "execution_count": null,
   "id": "b37a56dc",
   "metadata": {},
   "outputs": [],
   "source": []
  }
 ],
 "metadata": {
  "kernelspec": {
   "display_name": "Python 3",
   "language": "python",
   "name": "python3"
  },
  "language_info": {
   "codemirror_mode": {
    "name": "ipython",
    "version": 3
   },
   "file_extension": ".py",
   "mimetype": "text/x-python",
   "name": "python",
   "nbconvert_exporter": "python",
   "pygments_lexer": "ipython3",
   "version": "3.8.3"
  },
  "toc": {
   "base_numbering": 1,
   "nav_menu": {},
   "number_sections": true,
   "sideBar": true,
   "skip_h1_title": false,
   "title_cell": "Table of Contents",
   "title_sidebar": "Contents",
   "toc_cell": false,
   "toc_position": {},
   "toc_section_display": true,
   "toc_window_display": false
  }
 },
 "nbformat": 4,
 "nbformat_minor": 5
}
