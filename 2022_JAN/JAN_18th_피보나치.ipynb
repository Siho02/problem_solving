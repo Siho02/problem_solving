{
 "cells": [
  {
   "cell_type": "code",
   "execution_count": 6,
   "id": "c6462367",
   "metadata": {},
   "outputs": [],
   "source": [
    "def solution(n):\n",
    "    answer = 0\n",
    "    if n == 0:\n",
    "        return 0\n",
    "    elif n ==1:\n",
    "        return 1\n",
    "    else:\n",
    "        answer = solution(n-1) + solution(n-2)\n",
    "    return answer % 1234567\n",
    "\n",
    "\n",
    "# 시간초과 다수 발생! >> 재귀함수라서 그럼"
   ]
  },
  {
   "cell_type": "code",
   "execution_count": 7,
   "id": "f9a8ae4b",
   "metadata": {},
   "outputs": [
    {
     "data": {
      "text/plain": [
       "5"
      ]
     },
     "execution_count": 7,
     "metadata": {},
     "output_type": "execute_result"
    }
   ],
   "source": [
    "solution(5)"
   ]
  },
  {
   "cell_type": "code",
   "execution_count": 20,
   "id": "97168055",
   "metadata": {},
   "outputs": [],
   "source": [
    "def solution(n):\n",
    "    fibonacci = [0] * 100000\n",
    "    \n",
    "    for idx in range(len(fibonacci)):\n",
    "        if idx <= 1:\n",
    "            fibonacci[idx] = idx\n",
    "        else:\n",
    "            fibonacci[idx] = fibonacci[idx-1] + fibonacci[idx-2]\n",
    "    \n",
    "    return fibonacci[n]\n",
    "        \n",
    "#한문제 삐끗남"
   ]
  },
  {
   "cell_type": "code",
   "execution_count": 21,
   "id": "df755132",
   "metadata": {},
   "outputs": [
    {
     "data": {
      "text/plain": [
       "5"
      ]
     },
     "execution_count": 21,
     "metadata": {},
     "output_type": "execute_result"
    }
   ],
   "source": [
    "solution(5)"
   ]
  },
  {
   "cell_type": "code",
   "execution_count": 24,
   "id": "42167d94",
   "metadata": {},
   "outputs": [],
   "source": [
    "def solution(n):\n",
    "    answer = [0, 1]\n",
    "    for i in range(2, n+1):\n",
    "        answer.append((answer[i-1] + answer[i-2]) % 1234567)\n",
    "    \n",
    "    return answer[-1]"
   ]
  },
  {
   "cell_type": "code",
   "execution_count": 25,
   "id": "0964ae41",
   "metadata": {},
   "outputs": [
    {
     "data": {
      "text/plain": [
       "5"
      ]
     },
     "execution_count": 25,
     "metadata": {},
     "output_type": "execute_result"
    }
   ],
   "source": [
    "solution(5)"
   ]
  },
  {
   "cell_type": "code",
   "execution_count": null,
   "id": "025a6fdb",
   "metadata": {},
   "outputs": [],
   "source": []
  }
 ],
 "metadata": {
  "kernelspec": {
   "display_name": "Python 3",
   "language": "python",
   "name": "python3"
  },
  "language_info": {
   "codemirror_mode": {
    "name": "ipython",
    "version": 3
   },
   "file_extension": ".py",
   "mimetype": "text/x-python",
   "name": "python",
   "nbconvert_exporter": "python",
   "pygments_lexer": "ipython3",
   "version": "3.8.3"
  },
  "toc": {
   "base_numbering": 1,
   "nav_menu": {},
   "number_sections": true,
   "sideBar": true,
   "skip_h1_title": false,
   "title_cell": "Table of Contents",
   "title_sidebar": "Contents",
   "toc_cell": false,
   "toc_position": {},
   "toc_section_display": true,
   "toc_window_display": false
  }
 },
 "nbformat": 4,
 "nbformat_minor": 5
}
