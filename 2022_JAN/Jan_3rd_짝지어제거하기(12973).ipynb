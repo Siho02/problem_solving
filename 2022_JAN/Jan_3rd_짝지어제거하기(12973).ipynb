{
 "cells": [
  {
   "cell_type": "markdown",
   "id": "bb0832a9",
   "metadata": {},
   "source": [
    "짝지어 제거하기는, 알파벳 소문자로 이루어진 문자열을 가지고 시작합니다. 먼저 문자열에서 같은 알파벳이 2개 붙어 있는 짝을 찾습니다. 그다음, 그 둘을 제거한 뒤, 앞뒤로 문자열을 이어 붙입니다. 이 과정을 반복해서 문자열을 모두 제거한다면 짝지어 제거하기가 종료됩니다. 문자열 S가 주어졌을 때, 짝지어 제거하기를 성공적으로 수행할 수 있는지 반환하는 함수를 완성해 주세요. 성공적으로 수행할 수 있으면 1을, 아닐 경우 0을 리턴해주면 됩니다.\n",
    "\n",
    "예를 들어, 문자열 S = baabaa 라면\n",
    "\n",
    "b aa baa → bb aa → aa →\n",
    "\n",
    "의 순서로 문자열을 모두 제거할 수 있으므로 1을 반환합니다.\n",
    "\n",
    "제한사항\n",
    "문자열의 길이 : 1,000,000이하의 자연수\n",
    "문자열은 모두 소문자로 이루어져 있습니다.\n"
   ]
  },
  {
   "cell_type": "code",
   "execution_count": 31,
   "id": "141c554a",
   "metadata": {},
   "outputs": [],
   "source": [
    "def solution(s):\n",
    "    answer = -1\n",
    "    #홀수개는 무조건 answer가 -1이 될 수 없음\n",
    "    if len(s) % 2 == 1:\n",
    "        answer = 0\n",
    "    \n",
    "    if len(s) == 2 and s[0] == s[-1]:\n",
    "        answer = 1\n",
    "    \n",
    "    stack = [s[0]]\n",
    "    \n",
    "    for char in s[1:]:\n",
    "        #print(stack, char)\n",
    "        if len(stack) > 0 and stack[-1] == char:\n",
    "            stack.pop()\n",
    "        else:\n",
    "            stack.append(char)\n",
    "                \n",
    "    if len(stack) == 0:\n",
    "        answer = 1\n",
    "    else:\n",
    "        answer = 0\n",
    "        \n",
    "    return answer\n",
    "    "
   ]
  },
  {
   "cell_type": "code",
   "execution_count": 32,
   "id": "ea5c08d5",
   "metadata": {},
   "outputs": [
    {
     "data": {
      "text/plain": [
       "1"
      ]
     },
     "execution_count": 32,
     "metadata": {},
     "output_type": "execute_result"
    }
   ],
   "source": [
    "solution('baabaa')"
   ]
  },
  {
   "cell_type": "code",
   "execution_count": 33,
   "id": "c3dfd5ac",
   "metadata": {},
   "outputs": [
    {
     "data": {
      "text/plain": [
       "1"
      ]
     },
     "execution_count": 33,
     "metadata": {},
     "output_type": "execute_result"
    }
   ],
   "source": [
    "solution('aa')"
   ]
  },
  {
   "cell_type": "code",
   "execution_count": 34,
   "id": "7c88f550",
   "metadata": {},
   "outputs": [
    {
     "data": {
      "text/plain": [
       "0"
      ]
     },
     "execution_count": 34,
     "metadata": {},
     "output_type": "execute_result"
    }
   ],
   "source": [
    "solution('aba')"
   ]
  },
  {
   "cell_type": "code",
   "execution_count": 47,
   "id": "09799530",
   "metadata": {},
   "outputs": [
    {
     "data": {
      "text/plain": [
       "'효율성 테스트는 통과 했으나 중간에 결과값이 다르게 나오는 테스트 케이스가 존재'"
      ]
     },
     "execution_count": 47,
     "metadata": {},
     "output_type": "execute_result"
    }
   ],
   "source": [
    "# 1차시도\n",
    "def solution(s):\n",
    "    answer = -1\n",
    "    \n",
    "    stack = [s[0]]\n",
    "    \n",
    "    for char in s[1:]:\n",
    "        if len(stack) == 0:\n",
    "            stack.append(char)\n",
    "        if char == stack[-1]:\n",
    "            #print(f'{stack[-1]} = {char}')\n",
    "            stack.pop()\n",
    "        else:\n",
    "            stack.append(char)\n",
    "            #print(f'stack = {stack}')\n",
    "            \n",
    "    if len(stack) == 0:\n",
    "        answer = 1\n",
    "    else:\n",
    "        answer = 0\n",
    "    \n",
    "    return answer\n",
    "\n",
    "\n",
    "'''효율성 테스트는 통과 했으나 중간에 결과값이 다르게 나오는 테스트 케이스가 존재'''"
   ]
  },
  {
   "cell_type": "code",
   "execution_count": 44,
   "id": "941c1801",
   "metadata": {},
   "outputs": [],
   "source": [
    "# 2차시도\n",
    "def solution(s):\n",
    "    answer = -1\n",
    "    \n",
    "    if len(s) % 2 == 1:\n",
    "        answer = 0\n",
    "    \n",
    "    else:\n",
    "        # stack = ['a']\n",
    "        stack = [s[0]]\n",
    "        \n",
    "        for data in s[1:]:\n",
    "            if len(stack) == 0:\n",
    "                stack.append(data)\n",
    "            else:\n",
    "                if stack[-1] == data:\n",
    "                    stack.pop()\n",
    "                else:\n",
    "                    stack.append(data)\n",
    "        \n",
    "        if len(stack) == 0:\n",
    "            answer = 1\n",
    "        else:\n",
    "            answer = 0\n",
    "    \n",
    "    return answer"
   ]
  },
  {
   "cell_type": "code",
   "execution_count": 45,
   "id": "6e2eafc7",
   "metadata": {},
   "outputs": [
    {
     "data": {
      "text/plain": [
       "1"
      ]
     },
     "execution_count": 45,
     "metadata": {},
     "output_type": "execute_result"
    }
   ],
   "source": [
    "solution('baabaa')"
   ]
  },
  {
   "cell_type": "code",
   "execution_count": 46,
   "id": "650bff16",
   "metadata": {},
   "outputs": [
    {
     "data": {
      "text/plain": [
       "0"
      ]
     },
     "execution_count": 46,
     "metadata": {},
     "output_type": "execute_result"
    }
   ],
   "source": [
    "solution('aba')"
   ]
  },
  {
   "cell_type": "code",
   "execution_count": null,
   "id": "ba515a6a",
   "metadata": {},
   "outputs": [],
   "source": []
  }
 ],
 "metadata": {
  "kernelspec": {
   "display_name": "Python 3",
   "language": "python",
   "name": "python3"
  },
  "language_info": {
   "codemirror_mode": {
    "name": "ipython",
    "version": 3
   },
   "file_extension": ".py",
   "mimetype": "text/x-python",
   "name": "python",
   "nbconvert_exporter": "python",
   "pygments_lexer": "ipython3",
   "version": "3.8.3"
  },
  "toc": {
   "base_numbering": 1,
   "nav_menu": {},
   "number_sections": true,
   "sideBar": true,
   "skip_h1_title": false,
   "title_cell": "Table of Contents",
   "title_sidebar": "Contents",
   "toc_cell": false,
   "toc_position": {},
   "toc_section_display": true,
   "toc_window_display": false
  }
 },
 "nbformat": 4,
 "nbformat_minor": 5
}
