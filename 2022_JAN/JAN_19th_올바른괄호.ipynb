{
 "cells": [
  {
   "cell_type": "markdown",
   "id": "4bdb7cd9",
   "metadata": {},
   "source": [
    "https://programmers.co.kr/learn/courses/30/lessons/12909\n"
   ]
  },
  {
   "cell_type": "code",
   "execution_count": 26,
   "id": "3c908f7c",
   "metadata": {},
   "outputs": [],
   "source": [
    "def solution(s):\n",
    "    answer = True\n",
    "    left = 0\n",
    "    right = 0\n",
    "    #문자열의 길이가 홀수라면 무조건 올바른 괄호 묶기 불가능\n",
    "    if len(s) == 0:\n",
    "        return True\n",
    "    if len(s) % 2 == 1:\n",
    "        return False\n",
    "    \n",
    "    elif s[0] != '(' or s[-1] != ')':\n",
    "        return False\n",
    "    \n",
    "    else:\n",
    "        for idx in range(len(s)):\n",
    "            if s[idx] == '(':\n",
    "                left += 1\n",
    "            elif s[idx] == ')':\n",
    "                right += 1\n",
    "                \n",
    "            #print(left, right)\n",
    "            if left == right:\n",
    "                s = s[idx+1:]\n",
    "                break\n",
    "        solution(s)\n",
    "    return answer\n",
    "\n",
    "#시간 초과 발생"
   ]
  },
  {
   "cell_type": "code",
   "execution_count": 28,
   "id": "edbf6eb5",
   "metadata": {},
   "outputs": [
    {
     "data": {
      "text/plain": [
       "False"
      ]
     },
     "execution_count": 28,
     "metadata": {},
     "output_type": "execute_result"
    }
   ],
   "source": [
    "s1 = \"()()\"\n",
    "s2 = \"(())()\"\n",
    "s3 = \")()(\"\n",
    "s4 = \"(()(\"\n",
    "\n",
    "solution(s4)"
   ]
  },
  {
   "cell_type": "code",
   "execution_count": 39,
   "id": "1bfe9fc3",
   "metadata": {},
   "outputs": [],
   "source": [
    "def solution(s):\n",
    "    answer = True\n",
    "    \n",
    "    while s:\n",
    "        answer = False\n",
    "        if len(s) % 2 == 1:\n",
    "            return False\n",
    "        elif s[0] == ')' or s[-1] == '(':\n",
    "            return False\n",
    "        \n",
    "        left = 0\n",
    "        right = 0\n",
    "        for idx in range(len(s)):\n",
    "            if s[idx] == '(':\n",
    "                left += 1\n",
    "            else:\n",
    "                right += 1\n",
    "            \n",
    "            if left == right:\n",
    "                s = s[idx+1:]\n",
    "                break\n",
    "        \n",
    "        if len(s) == 0:\n",
    "            answer = True\n",
    "    \n",
    "    return answer\n",
    "\n",
    "#효율성 테스트2 실패 >> 84.8점\n"
   ]
  },
  {
   "cell_type": "code",
   "execution_count": 40,
   "id": "35ee2464",
   "metadata": {},
   "outputs": [
    {
     "data": {
      "text/plain": [
       "False"
      ]
     },
     "execution_count": 40,
     "metadata": {},
     "output_type": "execute_result"
    }
   ],
   "source": [
    "s1 = \"()()\"\n",
    "s2 = \"(())()\"\n",
    "s3 = \")()(\"\n",
    "s4 = \"(()(\"\n",
    "\n",
    "solution1(s4)"
   ]
  },
  {
   "cell_type": "code",
   "execution_count": 41,
   "id": "4ee1581b",
   "metadata": {},
   "outputs": [],
   "source": [
    "def solution(s):\n",
    "    stack = []\n",
    "    \n",
    "    for i in s:\n",
    "        if i == '(':\n",
    "            stack.append(i)\n",
    "        else:\n",
    "            if stack == []:\n",
    "                return False\n",
    "            else:\n",
    "                stack.pop()\n",
    "    return stack == []"
   ]
  },
  {
   "cell_type": "code",
   "execution_count": null,
   "id": "3d010719",
   "metadata": {},
   "outputs": [],
   "source": []
  }
 ],
 "metadata": {
  "kernelspec": {
   "display_name": "Python 3",
   "language": "python",
   "name": "python3"
  },
  "language_info": {
   "codemirror_mode": {
    "name": "ipython",
    "version": 3
   },
   "file_extension": ".py",
   "mimetype": "text/x-python",
   "name": "python",
   "nbconvert_exporter": "python",
   "pygments_lexer": "ipython3",
   "version": "3.8.3"
  },
  "toc": {
   "base_numbering": 1,
   "nav_menu": {},
   "number_sections": true,
   "sideBar": true,
   "skip_h1_title": false,
   "title_cell": "Table of Contents",
   "title_sidebar": "Contents",
   "toc_cell": false,
   "toc_position": {},
   "toc_section_display": true,
   "toc_window_display": false
  }
 },
 "nbformat": 4,
 "nbformat_minor": 5
}
