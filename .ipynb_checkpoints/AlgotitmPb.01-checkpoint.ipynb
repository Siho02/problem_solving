{
 "cells": [
  {
   "cell_type": "markdown",
   "metadata": {},
   "source": [
    "### 음계 문제 : https://www.acmicpc.net/problem/2920"
   ]
  },
  {
   "cell_type": "code",
   "execution_count": 18,
   "metadata": {},
   "outputs": [
    {
     "name": "stdout",
     "output_type": "stream",
     "text": [
      "6 3 2 1\n",
      "descending\n"
     ]
    }
   ],
   "source": [
    "a = list(map(int, input().split(' ')))\n",
    "\n",
    "ascending = True\n",
    "descending = True\n",
    "\n",
    "for idx in range(len(a)-1) :\n",
    "    if a[idx] < a[idx+1] :\n",
    "        descending = False\n",
    "    else :\n",
    "        ascending = False\n",
    "\n",
    "if ascending == False :\n",
    "    if descending == False :\n",
    "        print(\"mixed\")\n",
    "    else : \n",
    "        print(\"descending\")\n",
    "else : \n",
    "    if descending == False :\n",
    "        print(\"ascending\")\n",
    "    else : \n",
    "        print(\"mixed\")\n"
   ]
  },
  {
   "cell_type": "markdown",
   "metadata": {},
   "source": [
    "### 블랙잭 문제 : https://www.acmicpc.net/problem/2798"
   ]
  },
  {
   "cell_type": "code",
   "execution_count": 31,
   "metadata": {},
   "outputs": [
    {
     "name": "stdout",
     "output_type": "stream",
     "text": [
      "카드의 숫자, 합 숫자 : 6,35\n",
      "카드에 적혀 있는 숫자 나열 : 3 6 8 4 2 11\n",
      "근접수 :  25\n"
     ]
    }
   ],
   "source": [
    "num_of_card, sum_num = map(int,input(\"카드의 숫자, 합 숫자 : \").split(\",\"))\n",
    "\n",
    "num_ls = list(map(int, input(\"카드에 적혀 있는 숫자 나열 : \").split(\" \")))\n",
    "\n",
    "result = 0 \n",
    "\n",
    "for i in range(len(num_ls)) :\n",
    "    for j in range(i+1, len(num_ls)) :\n",
    "        for k in range(j+1, len(num_ls)) :\n",
    "            sum_val = num_ls[i] + num_ls[j] + num_ls[k]\n",
    "            if sum_val <= sum_num :\n",
    "                result = max(result, sum_val)\n",
    "\n",
    "print(\"근접수 : \", result)"
   ]
  },
  {
   "cell_type": "markdown",
   "metadata": {},
   "source": [
    "### 피라미드 문제 "
   ]
  },
  {
   "cell_type": "code",
   "execution_count": 32,
   "metadata": {},
   "outputs": [
    {
     "name": "stdout",
     "output_type": "stream",
     "text": [
      "피라미드의 층 수를 입력하세요 : 3\n",
      "1\t\n",
      "\n",
      "2\t3\t\n",
      "\n",
      "4\t5\t6\t\n",
      "\n",
      "7\t8\t\n",
      "\n",
      "9\t\n",
      "\n"
     ]
    }
   ],
   "source": [
    "num = int(input(\"피라미드의 층 수를 입력하세요 : \"))\n",
    "\n",
    "line_num = num*2 -1 \n",
    "pyramid_num = 1 \n",
    "\n",
    "for line_idx in range(line_num) :\n",
    "    \n",
    "    if line_idx < line_num // 2 :\n",
    "        for idx in range(line_idx+1) :\n",
    "            print(pyramid_num, end = '\\t')\n",
    "            pyramid_num += 1\n",
    "            \n",
    "    else : \n",
    "        for idx in range(line_num - line_idx) :\n",
    "            print(pyramid_num, end = '\\t')\n",
    "            pyramid_num += 1\n",
    "    \n",
    "    print('\\n')\n"
   ]
  },
  {
   "cell_type": "markdown",
   "metadata": {},
   "source": [
    "### 스택 수열 : https://www.acmicpc.net/problem/1874"
   ]
  },
  {
   "cell_type": "code",
   "execution_count": null,
   "metadata": {},
   "outputs": [],
   "source": []
  }
 ],
 "metadata": {
  "kernelspec": {
   "display_name": "Python 3",
   "language": "python",
   "name": "python3"
  }
 },
 "nbformat": 4,
 "nbformat_minor": 4
}
