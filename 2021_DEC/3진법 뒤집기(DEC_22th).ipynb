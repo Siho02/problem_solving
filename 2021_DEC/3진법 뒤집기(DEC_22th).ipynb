{
 "cells": [
  {
   "cell_type": "code",
   "execution_count": 60,
   "id": "b411514f",
   "metadata": {},
   "outputs": [
    {
     "ename": "IndentationError",
     "evalue": "expected an indented block (<ipython-input-60-378e1b9c6011>, line 11)",
     "output_type": "error",
     "traceback": [
      "\u001b[1;36m  File \u001b[1;32m\"<ipython-input-60-378e1b9c6011>\"\u001b[1;36m, line \u001b[1;32m11\u001b[0m\n\u001b[1;33m    return answer\u001b[0m\n\u001b[1;37m    ^\u001b[0m\n\u001b[1;31mIndentationError\u001b[0m\u001b[1;31m:\u001b[0m expected an indented block\n"
     ]
    }
   ],
   "source": [
    "def solution(n):\n",
    "    answer = 0\n",
    "    \n",
    "    def samjin(n):\n",
    "        \n",
    "    \n",
    "    \n",
    "    \n",
    "    \n",
    "    \n",
    "    return answer"
   ]
  },
  {
   "cell_type": "code",
   "execution_count": 110,
   "id": "3727f2a6",
   "metadata": {},
   "outputs": [],
   "source": [
    "def samjin(n):\n",
    "    char = ''\n",
    "    \n",
    "    idx = 0\n",
    "    while 3**(idx) < n:\n",
    "        #print(idx)\n",
    "        idx += 1\n",
    "    \n",
    "    for idx2 in range(idx-1, -1, -1):\n",
    "        q = n // 3**(idx2)\n",
    "        n -= q * (3 ** idx2)\n",
    "        char += str(q)\n",
    "    \n",
    "    #print(f'{n}의 3진법 변환 {char}')\n",
    "    \n",
    "    char = char[::-1]\n",
    "    #print(char)\n",
    "    \n",
    "    answer = 0\n",
    "    for idx3 in range(len(char)):\n",
    "        answer += int(char[len(char) - 1 - idx3]) * (3 ** idx3)\n",
    "        \n",
    "    return answer\n",
    "    "
   ]
  },
  {
   "cell_type": "code",
   "execution_count": 111,
   "id": "a09b889b",
   "metadata": {},
   "outputs": [
    {
     "name": "stdout",
     "output_type": "stream",
     "text": [
      "0의 3진법 변환 1200\n",
      "0021\n"
     ]
    },
    {
     "data": {
      "text/plain": [
       "7"
      ]
     },
     "execution_count": 111,
     "metadata": {},
     "output_type": "execute_result"
    }
   ],
   "source": [
    "samjin(45)"
   ]
  },
  {
   "cell_type": "code",
   "execution_count": 112,
   "id": "085a94cd",
   "metadata": {},
   "outputs": [
    {
     "name": "stdout",
     "output_type": "stream",
     "text": [
      "0의 3진법 변환 11122\n",
      "22111\n"
     ]
    },
    {
     "data": {
      "text/plain": [
       "229"
      ]
     },
     "execution_count": 112,
     "metadata": {},
     "output_type": "execute_result"
    }
   ],
   "source": [
    "samjin(125)"
   ]
  },
  {
   "cell_type": "code",
   "execution_count": 11,
   "id": "de169ab3",
   "metadata": {},
   "outputs": [
    {
     "data": {
      "text/plain": [
       "7"
      ]
     },
     "execution_count": 11,
     "metadata": {},
     "output_type": "execute_result"
    }
   ],
   "source": [
    "def solution(n):\n",
    "    answer = ''\n",
    "    \n",
    "    while n > 0:\n",
    "        n, mod = divmod(n, 3)\n",
    "        answer += str(mod)\n",
    "                \n",
    "    answer = int(answer, 3)\n",
    "    \n",
    "    return answer\n",
    "\n",
    "solution(45)\n"
   ]
  }
 ],
 "metadata": {
  "kernelspec": {
   "display_name": "Python 3",
   "language": "python",
   "name": "python3"
  },
  "language_info": {
   "codemirror_mode": {
    "name": "ipython",
    "version": 3
   },
   "file_extension": ".py",
   "mimetype": "text/x-python",
   "name": "python",
   "nbconvert_exporter": "python",
   "pygments_lexer": "ipython3",
   "version": "3.8.3"
  },
  "toc": {
   "base_numbering": 1,
   "nav_menu": {},
   "number_sections": true,
   "sideBar": true,
   "skip_h1_title": false,
   "title_cell": "Table of Contents",
   "title_sidebar": "Contents",
   "toc_cell": false,
   "toc_position": {},
   "toc_section_display": true,
   "toc_window_display": false
  }
 },
 "nbformat": 4,
 "nbformat_minor": 5
}
