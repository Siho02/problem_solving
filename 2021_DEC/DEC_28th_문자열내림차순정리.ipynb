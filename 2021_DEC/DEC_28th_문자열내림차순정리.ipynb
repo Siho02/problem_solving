{
 "cells": [
  {
   "cell_type": "code",
   "execution_count": 14,
   "id": "38769d6f",
   "metadata": {},
   "outputs": [],
   "source": [
    "# \"Zbcdefg\" >>> \"gfedcbZ\"\n",
    "\n",
    "def solution(s):\n",
    "    answer = ''\n",
    "    \n",
    "    ord_lst = []\n",
    "    for idx in range(len(s)):\n",
    "        ord_lst.append((ord(s[idx])))\n",
    "    \n",
    "    ord_lst.sort(reverse = True)\n",
    "    for idx in range(len(ord_lst)):\n",
    "        char = chr(ord_lst[idx])\n",
    "        answer += char\n",
    "    \n",
    "    \n",
    "    return answer"
   ]
  },
  {
   "cell_type": "code",
   "execution_count": 15,
   "id": "d741c4df",
   "metadata": {},
   "outputs": [
    {
     "data": {
      "text/plain": [
       "'gfedcbZ'"
      ]
     },
     "execution_count": 15,
     "metadata": {},
     "output_type": "execute_result"
    }
   ],
   "source": [
    "solution('Zbcdefg')"
   ]
  },
  {
   "cell_type": "code",
   "execution_count": 2,
   "id": "148a2e5c",
   "metadata": {},
   "outputs": [
    {
     "data": {
      "text/plain": [
       "'97'"
      ]
     },
     "execution_count": 2,
     "metadata": {},
     "output_type": "execute_result"
    }
   ],
   "source": []
  },
  {
   "cell_type": "code",
   "execution_count": null,
   "id": "f81120e9",
   "metadata": {},
   "outputs": [],
   "source": []
  }
 ],
 "metadata": {
  "kernelspec": {
   "display_name": "Python 3",
   "language": "python",
   "name": "python3"
  },
  "language_info": {
   "codemirror_mode": {
    "name": "ipython",
    "version": 3
   },
   "file_extension": ".py",
   "mimetype": "text/x-python",
   "name": "python",
   "nbconvert_exporter": "python",
   "pygments_lexer": "ipython3",
   "version": "3.8.3"
  },
  "toc": {
   "base_numbering": 1,
   "nav_menu": {},
   "number_sections": true,
   "sideBar": true,
   "skip_h1_title": false,
   "title_cell": "Table of Contents",
   "title_sidebar": "Contents",
   "toc_cell": false,
   "toc_position": {},
   "toc_section_display": true,
   "toc_window_display": false
  }
 },
 "nbformat": 4,
 "nbformat_minor": 5
}
