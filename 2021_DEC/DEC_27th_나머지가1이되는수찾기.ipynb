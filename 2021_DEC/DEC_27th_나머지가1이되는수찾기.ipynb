{
 "cells": [
  {
   "cell_type": "code",
   "execution_count": 21,
   "id": "4f805ec4",
   "metadata": {},
   "outputs": [],
   "source": [
    "import math \n",
    "\n",
    "def solution(n):\n",
    "    #10 >> return 3\n",
    "    #12 >> return 11\n",
    "    lst = []\n",
    "    for idx in range(2, int(math.sqrt(n))+1):\n",
    "        if (n-1) % idx == 0:\n",
    "            lst.append(idx)\n",
    "            if (n-1)//idx != idx:\n",
    "                lst.append((n-1)//idx)\n",
    "    lst.sort()\n",
    "    \n",
    "    if len(lst) == 0:\n",
    "        return n-1\n",
    "    else:\n",
    "        return lst[0]"
   ]
  },
  {
   "cell_type": "code",
   "execution_count": 22,
   "id": "898fcc09",
   "metadata": {},
   "outputs": [
    {
     "data": {
      "text/plain": [
       "3"
      ]
     },
     "execution_count": 22,
     "metadata": {},
     "output_type": "execute_result"
    }
   ],
   "source": [
    "solution(10)"
   ]
  },
  {
   "cell_type": "code",
   "execution_count": null,
   "id": "4a8400e6",
   "metadata": {},
   "outputs": [],
   "source": []
  }
 ],
 "metadata": {
  "kernelspec": {
   "display_name": "Python 3",
   "language": "python",
   "name": "python3"
  },
  "language_info": {
   "codemirror_mode": {
    "name": "ipython",
    "version": 3
   },
   "file_extension": ".py",
   "mimetype": "text/x-python",
   "name": "python",
   "nbconvert_exporter": "python",
   "pygments_lexer": "ipython3",
   "version": "3.8.3"
  },
  "toc": {
   "base_numbering": 1,
   "nav_menu": {},
   "number_sections": true,
   "sideBar": true,
   "skip_h1_title": false,
   "title_cell": "Table of Contents",
   "title_sidebar": "Contents",
   "toc_cell": false,
   "toc_position": {},
   "toc_section_display": true,
   "toc_window_display": false
  }
 },
 "nbformat": 4,
 "nbformat_minor": 5
}
