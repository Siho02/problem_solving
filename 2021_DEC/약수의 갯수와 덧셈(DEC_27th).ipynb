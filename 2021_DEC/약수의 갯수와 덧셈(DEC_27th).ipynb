{
 "cells": [
  {
   "cell_type": "code",
   "execution_count": 34,
   "id": "60869db4",
   "metadata": {},
   "outputs": [],
   "source": [
    "import math \n",
    "\n",
    "def division_num(n):\n",
    "    sqrt_num = int(math.sqrt(n))\n",
    "    \n",
    "    division_lst = []\n",
    "    for idx in range(1, sqrt_num+1):\n",
    "        #print(idx)\n",
    "        if (n % idx) == 0:\n",
    "            division_lst.append(idx)\n",
    "            if int(n//idx) not in division_lst:\n",
    "                division_lst.append(int(n // idx))\n",
    "        else:\n",
    "            pass\n",
    "    \n",
    "    #print(division_lst)\n",
    "\n",
    "    if len(division_lst) % 2 == 0:\n",
    "        return True\n",
    "    else:\n",
    "        return False\n",
    "    \n",
    "def solution(left, right):\n",
    "    answer = 0\n",
    "    for num in range(left, right+1):\n",
    "        if division_num(num) == True:\n",
    "            answer += num\n",
    "        else:\n",
    "            answer -= num\n",
    "                \n",
    "    return answer"
   ]
  },
  {
   "cell_type": "code",
   "execution_count": 35,
   "id": "5ce00d83",
   "metadata": {},
   "outputs": [
    {
     "data": {
      "text/plain": [
       "True"
      ]
     },
     "execution_count": 35,
     "metadata": {},
     "output_type": "execute_result"
    }
   ],
   "source": [
    "division_num(17)"
   ]
  },
  {
   "cell_type": "code",
   "execution_count": 36,
   "id": "a703506f",
   "metadata": {},
   "outputs": [
    {
     "data": {
      "text/plain": [
       "43"
      ]
     },
     "execution_count": 36,
     "metadata": {},
     "output_type": "execute_result"
    }
   ],
   "source": [
    "solution(13, 17)"
   ]
  },
  {
   "cell_type": "code",
   "execution_count": null,
   "id": "aa2a10ef",
   "metadata": {},
   "outputs": [],
   "source": []
  },
  {
   "cell_type": "code",
   "execution_count": null,
   "id": "98b1ea1e",
   "metadata": {},
   "outputs": [],
   "source": []
  }
 ],
 "metadata": {
  "kernelspec": {
   "display_name": "Python 3",
   "language": "python",
   "name": "python3"
  },
  "language_info": {
   "codemirror_mode": {
    "name": "ipython",
    "version": 3
   },
   "file_extension": ".py",
   "mimetype": "text/x-python",
   "name": "python",
   "nbconvert_exporter": "python",
   "pygments_lexer": "ipython3",
   "version": "3.8.3"
  },
  "toc": {
   "base_numbering": 1,
   "nav_menu": {},
   "number_sections": true,
   "sideBar": true,
   "skip_h1_title": false,
   "title_cell": "Table of Contents",
   "title_sidebar": "Contents",
   "toc_cell": false,
   "toc_position": {},
   "toc_section_display": true,
   "toc_window_display": false
  }
 },
 "nbformat": 4,
 "nbformat_minor": 5
}
