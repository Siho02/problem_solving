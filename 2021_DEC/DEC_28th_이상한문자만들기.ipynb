{
 "cells": [
  {
   "cell_type": "code",
   "execution_count": 75,
   "id": "85652f60",
   "metadata": {},
   "outputs": [],
   "source": [
    "def solution(s):\n",
    "    word_lst = s.split(' ')\n",
    "    answer = ''\n",
    "    for idx in range(len(word_lst)):\n",
    "        word = list(word_lst[idx])\n",
    "        \n",
    "        for idx2 in range(len(word)):\n",
    "            if idx2 % 2 == 0:\n",
    "                word[idx2] = word[idx2].upper()\n",
    "            else:\n",
    "                word[idx2] = word[idx2].lower()\n",
    "            #print(word[idx2], end=' ')\n",
    "        word_lst[idx] = \"\".join(word)\n",
    "        answer = \" \".join(word_lst)\n",
    "\n",
    "    return answer"
   ]
  },
  {
   "cell_type": "code",
   "execution_count": 76,
   "id": "f00f3142",
   "metadata": {},
   "outputs": [
    {
     "data": {
      "text/plain": [
       "'TrY HeLlO WoRlD'"
      ]
     },
     "execution_count": 76,
     "metadata": {},
     "output_type": "execute_result"
    }
   ],
   "source": [
    "solution('try hello world')"
   ]
  },
  {
   "cell_type": "code",
   "execution_count": null,
   "id": "5298a620",
   "metadata": {},
   "outputs": [],
   "source": []
  }
 ],
 "metadata": {
  "kernelspec": {
   "display_name": "Python 3",
   "language": "python",
   "name": "python3"
  },
  "language_info": {
   "codemirror_mode": {
    "name": "ipython",
    "version": 3
   },
   "file_extension": ".py",
   "mimetype": "text/x-python",
   "name": "python",
   "nbconvert_exporter": "python",
   "pygments_lexer": "ipython3",
   "version": "3.8.3"
  },
  "toc": {
   "base_numbering": 1,
   "nav_menu": {},
   "number_sections": true,
   "sideBar": true,
   "skip_h1_title": false,
   "title_cell": "Table of Contents",
   "title_sidebar": "Contents",
   "toc_cell": false,
   "toc_position": {},
   "toc_section_display": true,
   "toc_window_display": false
  }
 },
 "nbformat": 4,
 "nbformat_minor": 5
}
