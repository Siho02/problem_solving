{
 "cells": [
  {
   "cell_type": "code",
   "execution_count": 43,
   "id": "1496eae5",
   "metadata": {},
   "outputs": [],
   "source": [
    "from itertools import combinations\n",
    "\n",
    "def solution(nums):\n",
    "    answer = 0\n",
    "    num = len(nums) // 2\n",
    "    \n",
    "    lst = list(combinations(nums, num))\n",
    "    #print(lst)\n",
    "    \n",
    "    set_lst = []\n",
    "    for data in lst:\n",
    "        set_lst.append(len(set(data)))\n",
    "    \n",
    "    answer = max(set_lst)    \n",
    "    return answer\n",
    "\n",
    "### 시간 초과 뜸"
   ]
  },
  {
   "cell_type": "code",
   "execution_count": 51,
   "id": "c4f1315d",
   "metadata": {},
   "outputs": [],
   "source": [
    "def solution(nums):\n",
    "    num = len(nums) // 2\n",
    "    \n",
    "    nums.sort()\n",
    "    nums = set(nums)\n",
    "    \n",
    "    if num > len(nums):\n",
    "        answer = len(nums)\n",
    "    else:\n",
    "        answer = num\n",
    "    \n",
    "    return answer \n"
   ]
  },
  {
   "cell_type": "code",
   "execution_count": 52,
   "id": "c74138c1",
   "metadata": {},
   "outputs": [
    {
     "data": {
      "text/plain": [
       "2"
      ]
     },
     "execution_count": 52,
     "metadata": {},
     "output_type": "execute_result"
    }
   ],
   "source": [
    "solution([3,1,2,3])"
   ]
  },
  {
   "cell_type": "code",
   "execution_count": null,
   "id": "e7c02a99",
   "metadata": {},
   "outputs": [],
   "source": []
  }
 ],
 "metadata": {
  "kernelspec": {
   "display_name": "Python 3",
   "language": "python",
   "name": "python3"
  },
  "language_info": {
   "codemirror_mode": {
    "name": "ipython",
    "version": 3
   },
   "file_extension": ".py",
   "mimetype": "text/x-python",
   "name": "python",
   "nbconvert_exporter": "python",
   "pygments_lexer": "ipython3",
   "version": "3.8.3"
  },
  "toc": {
   "base_numbering": 1,
   "nav_menu": {},
   "number_sections": true,
   "sideBar": true,
   "skip_h1_title": false,
   "title_cell": "Table of Contents",
   "title_sidebar": "Contents",
   "toc_cell": false,
   "toc_position": {},
   "toc_section_display": true,
   "toc_window_display": false
  }
 },
 "nbformat": 4,
 "nbformat_minor": 5
}
