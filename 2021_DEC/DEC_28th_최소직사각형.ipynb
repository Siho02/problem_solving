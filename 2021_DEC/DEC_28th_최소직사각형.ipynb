{
 "cells": [
  {
   "cell_type": "code",
   "execution_count": 16,
   "id": "4536b121",
   "metadata": {},
   "outputs": [],
   "source": [
    "def solution(sizes):\n",
    "    big = []\n",
    "    small = []\n",
    "    \n",
    "    for data in sizes:\n",
    "        if data[0] >= data[1]:\n",
    "            big.append(data[0])\n",
    "            small.append(data[1])\n",
    "        else:\n",
    "            small.append(data[0])\n",
    "            big.append(data[1])\n",
    "    return max(big) * max(small)"
   ]
  },
  {
   "cell_type": "code",
   "execution_count": null,
   "id": "b91c1b6a",
   "metadata": {},
   "outputs": [],
   "source": []
  },
  {
   "cell_type": "code",
   "execution_count": 17,
   "id": "a16f2472",
   "metadata": {},
   "outputs": [
    {
     "data": {
      "text/plain": [
       "4000"
      ]
     },
     "execution_count": 17,
     "metadata": {},
     "output_type": "execute_result"
    }
   ],
   "source": [
    "sizes = [[60, 50], [30, 70], [60, 30], [80, 40]]\n",
    "solution(sizes)"
   ]
  },
  {
   "cell_type": "code",
   "execution_count": 18,
   "id": "d407f907",
   "metadata": {},
   "outputs": [
    {
     "data": {
      "text/plain": [
       "120"
      ]
     },
     "execution_count": 18,
     "metadata": {},
     "output_type": "execute_result"
    }
   ],
   "source": [
    "sizes = [[10, 7], [12, 3], [8, 15], [14, 7], [5, 15]]\n",
    "solution(sizes)"
   ]
  },
  {
   "cell_type": "code",
   "execution_count": 19,
   "id": "be5f43b9",
   "metadata": {},
   "outputs": [
    {
     "data": {
      "text/plain": [
       "133"
      ]
     },
     "execution_count": 19,
     "metadata": {},
     "output_type": "execute_result"
    }
   ],
   "source": [
    "sizes = [[14, 4], [19, 6], [6, 16], [18, 7], [7, 11]]\t\n",
    "solution(sizes)"
   ]
  },
  {
   "cell_type": "code",
   "execution_count": null,
   "id": "43638c10",
   "metadata": {},
   "outputs": [],
   "source": []
  },
  {
   "cell_type": "code",
   "execution_count": null,
   "id": "79532e7f",
   "metadata": {},
   "outputs": [],
   "source": []
  }
 ],
 "metadata": {
  "kernelspec": {
   "display_name": "Python 3",
   "language": "python",
   "name": "python3"
  },
  "language_info": {
   "codemirror_mode": {
    "name": "ipython",
    "version": 3
   },
   "file_extension": ".py",
   "mimetype": "text/x-python",
   "name": "python",
   "nbconvert_exporter": "python",
   "pygments_lexer": "ipython3",
   "version": "3.8.3"
  },
  "toc": {
   "base_numbering": 1,
   "nav_menu": {},
   "number_sections": true,
   "sideBar": true,
   "skip_h1_title": false,
   "title_cell": "Table of Contents",
   "title_sidebar": "Contents",
   "toc_cell": false,
   "toc_position": {},
   "toc_section_display": true,
   "toc_window_display": false
  }
 },
 "nbformat": 4,
 "nbformat_minor": 5
}
