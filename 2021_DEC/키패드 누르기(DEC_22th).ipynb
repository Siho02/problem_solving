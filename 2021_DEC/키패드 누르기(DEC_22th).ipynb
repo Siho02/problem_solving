{
 "cells": [
  {
   "cell_type": "code",
   "execution_count": 28,
   "id": "f8976741",
   "metadata": {},
   "outputs": [],
   "source": [
    "num1 = [1, 3, 4, 5, 8, 2, 1, 4, 5, 9, 5]\n",
    "hand1 = \"right\"\n",
    "\n",
    "num2 = [7, 0, 8, 2, 8, 3, 1, 5, 7, 6, 2]\n",
    "hand2 = \"left\"\n",
    "\n",
    "num3 = [1, 2, 3, 4, 5, 6, 7, 8, 9, 0]\n",
    "hand3 = \"right\""
   ]
  },
  {
   "cell_type": "code",
   "execution_count": 19,
   "id": "aef453c6",
   "metadata": {},
   "outputs": [],
   "source": [
    "#1차시도 >> 실패 이유 : 좌표로 변형하지 않아서 식이 복잡해짐\n",
    "def solution(numbers, hand):\n",
    "    answer = ''\n",
    "    left_num = [1, 4, 7]\n",
    "    right_num = [3, 6, 9]\n",
    "    \n",
    "    left_hand = float('inf')\n",
    "    right_hand = float('inf')\n",
    "    while numbers:\n",
    "        now_char = numbers.pop(0)\n",
    "        print('현재번호 :', now_char)\n",
    "        if now_char in left_num:\n",
    "            answer += 'L'\n",
    "            print(f'{now_char}는 왼손으로 클릭')\n",
    "            left_hand = now_char\n",
    "        elif now_char in right_num:\n",
    "            answer += 'R'\n",
    "            print(f'{now_char}는 오른손으로 클릭')\n",
    "            right_hand = now_char\n",
    "        else:\n",
    "            left_dist = abs(left_hand - now_char)\n",
    "            right_dist = abs(right_hand - now_char)\n",
    "            \n",
    "            if left_dist < right_dist:\n",
    "                answer += 'L'\n",
    "                left_hand = now_char\n",
    "                print(f'{now_char}는 왼손으로 클릭')\n",
    "            elif left_dist > right_dist:\n",
    "                answer += 'R'\n",
    "                right_hand = now_char\n",
    "                print(f'{now_char}는 오른손으로 클릭')\n",
    "            else:\n",
    "                answer += upper(hand1[0])\n",
    "        print('\\t',left_hand, right_hand)\n",
    "        \n",
    "        \n",
    "    return answer"
   ]
  },
  {
   "cell_type": "code",
   "execution_count": 20,
   "id": "68f4d6c0",
   "metadata": {},
   "outputs": [
    {
     "name": "stdout",
     "output_type": "stream",
     "text": [
      "현재번호 : 1\n",
      "1는 왼손으로 클릭\n",
      "\t 1 inf\n",
      "현재번호 : 3\n",
      "3는 오른손으로 클릭\n",
      "\t 1 3\n",
      "현재번호 : 4\n",
      "4는 왼손으로 클릭\n",
      "\t 4 3\n",
      "현재번호 : 5\n",
      "5는 왼손으로 클릭\n",
      "\t 5 3\n",
      "현재번호 : 8\n",
      "8는 왼손으로 클릭\n",
      "\t 8 3\n",
      "현재번호 : 2\n",
      "2는 오른손으로 클릭\n",
      "\t 8 2\n",
      "현재번호 : 1\n",
      "1는 왼손으로 클릭\n",
      "\t 1 2\n",
      "현재번호 : 4\n",
      "4는 왼손으로 클릭\n",
      "\t 4 2\n",
      "현재번호 : 5\n",
      "5는 왼손으로 클릭\n",
      "\t 5 2\n",
      "현재번호 : 9\n",
      "9는 오른손으로 클릭\n",
      "\t 5 9\n",
      "현재번호 : 5\n",
      "5는 왼손으로 클릭\n",
      "\t 5 9\n"
     ]
    },
    {
     "data": {
      "text/plain": [
       "'LRLLLRLLLRL'"
      ]
     },
     "execution_count": 20,
     "metadata": {},
     "output_type": "execute_result"
    }
   ],
   "source": [
    "num1 = [1, 3, 4, 5, 8, 2, 1, 4, 5, 9, 5]\n",
    "hand1 = \"right\"\n",
    "\n",
    "solution(num1, hand1)"
   ]
  },
  {
   "cell_type": "code",
   "execution_count": 53,
   "id": "b0d0e3ff",
   "metadata": {},
   "outputs": [],
   "source": [
    "\n",
    "def solution(numbers, hand):\n",
    "    answer = ''\n",
    "    \n",
    "    dial = {\n",
    "        1:[0,0], 2:[1,0], 3:[2,0],\n",
    "        4:[0,1], 5:[1,1], 6:[2,1],\n",
    "        7:[0,2], 8:[1,2], 9:[2,2],\n",
    "        '*':[0,3], 0:[1,3], '#':[2,3]}\n",
    "    \n",
    "    left_hand = dial['*']\n",
    "    right_hand = dial['#']\n",
    "    \n",
    "    for num in numbers:\n",
    "        now = dial[num]\n",
    "        #print(now)\n",
    "        if num in [1, 4, 7]:\n",
    "            answer += 'L'\n",
    "            left_hand = now\n",
    "        elif num in [3, 6, 9]:\n",
    "            answer += 'R'\n",
    "            right_hand = now\n",
    "        \n",
    "        else:\n",
    "            left_dist = 0\n",
    "            right_dist = 0\n",
    "            \n",
    "            for idx in range(len(now)):\n",
    "                left_dist += abs(now[idx]-left_hand[idx])\n",
    "                right_dist += abs(now[idx]-right_hand[idx])\n",
    "            \n",
    "            \n",
    "            if left_dist < right_dist:\n",
    "                answer += 'L'\n",
    "                left_hand = now\n",
    "                \n",
    "            elif left_dist > right_dist:\n",
    "                answer += 'R'\n",
    "                right_hand = now\n",
    "            \n",
    "            else:\n",
    "                if hand == 'right':\n",
    "                    answer += 'R'\n",
    "                    right_hand = now\n",
    "                else:\n",
    "                    answer += 'L'\n",
    "                    left_hand = now\n",
    "                    \n",
    "    return answer"
   ]
  },
  {
   "cell_type": "code",
   "execution_count": 54,
   "id": "36206067",
   "metadata": {},
   "outputs": [
    {
     "data": {
      "text/plain": [
       "'LRLLLRLLRRL'"
      ]
     },
     "execution_count": 54,
     "metadata": {},
     "output_type": "execute_result"
    }
   ],
   "source": [
    "#num1 = [1, 3, 4, 5, 8, 2, 1, 4, 5, 9, 5]\n",
    "\n",
    "solution(num1, hand1)"
   ]
  },
  {
   "cell_type": "code",
   "execution_count": 48,
   "id": "6154f5d5",
   "metadata": {},
   "outputs": [
    {
     "name": "stdout",
     "output_type": "stream",
     "text": [
      "5\n",
      "7\n",
      "7\n",
      "8\n",
      "7\n",
      "2\n",
      "0\n",
      "3\n",
      "5\n",
      "1\n",
      "8\n"
     ]
    },
    {
     "data": {
      "text/plain": [
       "'LRLLR'"
      ]
     },
     "execution_count": 48,
     "metadata": {},
     "output_type": "execute_result"
    }
   ],
   "source": [
    "solution(num2, hand2)"
   ]
  },
  {
   "cell_type": "code",
   "execution_count": null,
   "id": "71b0b2ea",
   "metadata": {},
   "outputs": [],
   "source": []
  }
 ],
 "metadata": {
  "kernelspec": {
   "display_name": "Python 3",
   "language": "python",
   "name": "python3"
  },
  "language_info": {
   "codemirror_mode": {
    "name": "ipython",
    "version": 3
   },
   "file_extension": ".py",
   "mimetype": "text/x-python",
   "name": "python",
   "nbconvert_exporter": "python",
   "pygments_lexer": "ipython3",
   "version": "3.8.3"
  },
  "toc": {
   "base_numbering": 1,
   "nav_menu": {},
   "number_sections": true,
   "sideBar": true,
   "skip_h1_title": false,
   "title_cell": "Table of Contents",
   "title_sidebar": "Contents",
   "toc_cell": false,
   "toc_position": {},
   "toc_section_display": true,
   "toc_window_display": false
  }
 },
 "nbformat": 4,
 "nbformat_minor": 5
}
